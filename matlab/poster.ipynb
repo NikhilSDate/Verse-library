{
 "cells": [
  {
   "cell_type": "code",
   "execution_count": 1,
   "metadata": {},
   "outputs": [
    {
     "name": "stderr",
     "output_type": "stream",
     "text": [
      "/home/ndate/Research/Verse-library/venv/lib/python3.10/site-packages/tqdm/auto.py:22: TqdmWarning: IProgress not found. Please update jupyter and ipywidgets. See https://ipywidgets.readthedocs.io/en/stable/user_install.html\n",
      "  from .autonotebook import tqdm as notebook_tqdm\n",
      "`polytope` failed to import `cvxopt.glpk`.\n",
      "will use `scipy.optimize.linprog`\n"
     ]
    }
   ],
   "source": [
    "from real_pump_matlab import simulate_three_meal_scenario, plot_variable, verify_three_meal_scenario\n",
    "import plotly.graph_objects as go"
   ]
  },
  {
   "cell_type": "code",
   "execution_count": 1,
   "metadata": {},
   "outputs": [],
   "source": [
    "def generate_verify_figure():\n",
    "    traces = verify_three_meal_scenario([90, 130], 0, [50, 50], [0, 0], [0, 0], simulation_duration= 3 * 60)\n",
    "    fig = plot_variable(go.Figure(), traces, 'G', 'verify', show=False)\n",
    "    fig.update_layout(\n",
    "    xaxis=dict(\n",
    "        title=dict(\n",
    "            text=\"Time (minutes)\",\n",
    "            font=dict(size=12)\n",
    "        )\n",
    "    ),\n",
    "    yaxis=dict(\n",
    "        title=dict(\n",
    "            text=\"Plasma Glucose (mg/dL)\",\n",
    "            font=dict(size=12)\n",
    "        )\n",
    "    ))\n",
    "    fig.update_layout(\n",
    "        xaxis_tickfont_size=12,  # Set font size for x-axis ticks\n",
    "        yaxis_tickfont_size=12   # Set font size for y-axis ticks\n",
    "    )\n",
    "    fig.update_layout(yaxis_range=[80, 200])\n",
    "    return traces, fig"
   ]
  },
  {
   "cell_type": "code",
   "execution_count": 4,
   "metadata": {},
   "outputs": [
    {
     "name": "stdout",
     "output_type": "stream",
     "text": [
      "[50000, 0, 0, 240, 0, 660]\n",
      "[50000, 0, 0, 240, 0, 660]\n",
      "=============================================================\n",
      "node 0 start: 0\n",
      "{'pump': ('A',)}\n"
     ]
    },
    {
     "name": "stderr",
     "output_type": "stream",
     "text": [
      "  0%|          | 0/180 [00:00<?, ?it/s]"
     ]
    },
    {
     "name": "stdout",
     "output_type": "stream",
     "text": [
      "110.00002599522715\n"
     ]
    },
    {
     "name": "stderr",
     "output_type": "stream",
     "text": [
      "  1%|          | 1/180 [00:00<02:25,  1.23it/s]"
     ]
    },
    {
     "name": "stdout",
     "output_type": "stream",
     "text": [
      "3.8499999046325684\n"
     ]
    },
    {
     "name": "stderr",
     "output_type": "stream",
     "text": [
      "100%|██████████| 180/180 [00:15<00:00, 11.81it/s]\n",
      "  0%|          | 0/180 [00:00<?, ?it/s]"
     ]
    },
    {
     "name": "stdout",
     "output_type": "stream",
     "text": [
      "119.48186139382267\n"
     ]
    },
    {
     "name": "stderr",
     "output_type": "stream",
     "text": [
      "  1%|          | 1/180 [00:00<02:25,  1.23it/s]"
     ]
    },
    {
     "name": "stdout",
     "output_type": "stream",
     "text": [
      "4.150000095367432\n"
     ]
    },
    {
     "name": "stderr",
     "output_type": "stream",
     "text": [
      "100%|██████████| 180/180 [00:17<00:00, 10.11it/s]\n",
      "  0%|          | 0/180 [00:00<?, ?it/s]"
     ]
    },
    {
     "name": "stdout",
     "output_type": "stream",
     "text": [
      "123.664101677987\n"
     ]
    },
    {
     "name": "stderr",
     "output_type": "stream",
     "text": [
      "  0%|          | 0/180 [00:00<?, ?it/s]"
     ]
    },
    {
     "name": "stdout",
     "output_type": "stream",
     "text": [
      "4.28000020980835\n"
     ]
    },
    {
     "name": "stderr",
     "output_type": "stream",
     "text": [
      "100%|██████████| 180/180 [00:15<00:00, 11.78it/s]\n",
      "  0%|          | 0/180 [00:00<?, ?it/s]"
     ]
    },
    {
     "name": "stdout",
     "output_type": "stream",
     "text": [
      "125.72539313588969\n"
     ]
    },
    {
     "name": "stderr",
     "output_type": "stream",
     "text": [
      "  1%|          | 1/180 [00:00<02:08,  1.40it/s]"
     ]
    },
    {
     "name": "stdout",
     "output_type": "stream",
     "text": [
      "4.349999904632568\n"
     ]
    },
    {
     "name": "stderr",
     "output_type": "stream",
     "text": [
      "100%|██████████| 180/180 [00:16<00:00, 11.20it/s]\n",
      "  0%|          | 0/180 [00:00<?, ?it/s]"
     ]
    },
    {
     "name": "stdout",
     "output_type": "stream",
     "text": [
      "111.34536907076176\n"
     ]
    },
    {
     "name": "stderr",
     "output_type": "stream",
     "text": [
      "  1%|          | 1/180 [00:00<02:03,  1.45it/s]"
     ]
    },
    {
     "name": "stdout",
     "output_type": "stream",
     "text": [
      "3.880000114440918\n"
     ]
    },
    {
     "name": "stderr",
     "output_type": "stream",
     "text": [
      "100%|██████████| 180/180 [00:15<00:00, 11.39it/s]\n",
      "  0%|          | 0/180 [00:00<?, ?it/s]"
     ]
    },
    {
     "name": "stdout",
     "output_type": "stream",
     "text": [
      "94.86890909245221\n"
     ]
    },
    {
     "name": "stderr",
     "output_type": "stream",
     "text": [
      "  0%|          | 0/180 [00:01<?, ?it/s]"
     ]
    },
    {
     "name": "stdout",
     "output_type": "stream",
     "text": [
      "3.319999933242798\n"
     ]
    },
    {
     "name": "stderr",
     "output_type": "stream",
     "text": [
      "100%|██████████| 180/180 [00:19<00:00,  9.21it/s]\n",
      "  0%|          | 0/180 [00:00<?, ?it/s]"
     ]
    },
    {
     "name": "stdout",
     "output_type": "stream",
     "text": [
      "119.77810488118489\n"
     ]
    },
    {
     "name": "stderr",
     "output_type": "stream",
     "text": [
      "  1%|          | 1/180 [00:00<02:18,  1.29it/s]"
     ]
    },
    {
     "name": "stdout",
     "output_type": "stream",
     "text": [
      "4.150000095367432\n"
     ]
    },
    {
     "name": "stderr",
     "output_type": "stream",
     "text": [
      "100%|██████████| 180/180 [00:14<00:00, 12.68it/s]\n",
      "  0%|          | 0/180 [00:00<?, ?it/s]"
     ]
    },
    {
     "name": "stdout",
     "output_type": "stream",
     "text": [
      "122.0370912689285\n"
     ]
    },
    {
     "name": "stderr",
     "output_type": "stream",
     "text": [
      "  1%|          | 1/180 [00:00<01:52,  1.59it/s]"
     ]
    },
    {
     "name": "stdout",
     "output_type": "stream",
     "text": [
      "4.25\n"
     ]
    },
    {
     "name": "stderr",
     "output_type": "stream",
     "text": [
      "100%|██████████| 180/180 [00:10<00:00, 16.79it/s]\n",
      "  0%|          | 0/180 [00:00<?, ?it/s]"
     ]
    },
    {
     "name": "stdout",
     "output_type": "stream",
     "text": [
      "97.27093262299516\n"
     ]
    },
    {
     "name": "stderr",
     "output_type": "stream",
     "text": [
      "  2%|▏         | 3/180 [00:00<00:30,  5.75it/s]"
     ]
    },
    {
     "name": "stdout",
     "output_type": "stream",
     "text": [
      "3.4200000762939453\n"
     ]
    },
    {
     "name": "stderr",
     "output_type": "stream",
     "text": [
      "100%|██████████| 180/180 [00:11<00:00, 15.61it/s]\n",
      "  0%|          | 0/180 [00:00<?, ?it/s]"
     ]
    },
    {
     "name": "stdout",
     "output_type": "stream",
     "text": [
      "126.43593002606623\n"
     ]
    },
    {
     "name": "stderr",
     "output_type": "stream",
     "text": [
      "  1%|          | 1/180 [00:00<01:48,  1.64it/s]"
     ]
    },
    {
     "name": "stdout",
     "output_type": "stream",
     "text": [
      "4.380000114440918\n"
     ]
    },
    {
     "name": "stderr",
     "output_type": "stream",
     "text": [
      "100%|██████████| 180/180 [00:14<00:00, 12.05it/s]\n",
      "  0%|          | 0/180 [00:00<?, ?it/s]"
     ]
    },
    {
     "name": "stdout",
     "output_type": "stream",
     "text": [
      "104.37890962856102\n"
     ]
    },
    {
     "name": "stderr",
     "output_type": "stream",
     "text": [
      "  1%|          | 1/180 [00:00<01:33,  1.91it/s]"
     ]
    },
    {
     "name": "stdout",
     "output_type": "stream",
     "text": [
      "3.6500000953674316\n"
     ]
    },
    {
     "name": "stderr",
     "output_type": "stream",
     "text": [
      "100%|██████████| 180/180 [00:10<00:00, 16.78it/s]\n"
     ]
    },
    {
     "name": "stdout",
     "output_type": "stream",
     "text": [
      "[[0.0, 90.0, 134.09999999999997, 92.6139240506329, 0.0, 0.0, 0.0, 0.0, 0.0, 0.0, 0.0, 0.0, 4.581374307806325, 76.16667095220721, -10.664815354324325, 0.0, 0.0, 0.0, 0.0, 50000.0, 0.0, 0.0, 240.0, 0.0, 660.0, 0.0, 0.0, 0.0, 0.0, 0.0, 0.0, 0.0, 0.0, 0.0], [180.0, 161.43342225586775, 240.53579916124295, 152.14266457887865, 12.508512564773595, 7.94021310532006, 93.56047354733529, 93.56047354733529, 46861.99277946235, 21403.749363160023, 13532.18261095785, 192.85714310064012, 23.318621788725725, 109.84152443591664, 10.67090413217128, 404.3966468921202, 136.5172489555089, 0.0, 0.0, 50000.0, 0.0, 0.0, 240.0, 0.0, 660.0, 4.625637336103353, 10740.0, 0.0, 0.0, 0.0, 0.0, 0.0, 0.0, 4.625637336103353]]\n"
     ]
    }
   ],
   "source": [
    "traces, fig = generate_verify_figure()"
   ]
  },
  {
   "cell_type": "code",
   "execution_count": 2,
   "metadata": {},
   "outputs": [],
   "source": [
    "f = open('traces_debug.pkl', 'rb')\n",
    "import pickle\n",
    "traces = pickle.load(f)"
   ]
  },
  {
   "cell_type": "code",
   "execution_count": 14,
   "metadata": {},
   "outputs": [
    {
     "data": {
      "application/vnd.plotly.v1+json": {
       "config": {
        "plotlyServerURL": "https://plot.ly"
       },
       "data": [
        {
         "fill": "toself",
         "fillcolor": "#FF0000",
         "line": {
          "color": "#CC0000",
          "width": 1
         },
         "marker": {
          "size": 1
         },
         "mode": "markers+lines",
         "showlegend": false,
         "type": "scatter",
         "x": [
          0,
          1,
          1,
          0,
          0
         ],
         "y": [
          0,
          0,
          0.6874039346961276,
          0.6874039346961276,
          0
         ]
        },
        {
         "fill": "toself",
         "fillcolor": "#FF0000",
         "line": {
          "color": "#CC0000",
          "width": 1
         },
         "marker": {
          "size": 1
         },
         "mode": "markers+lines",
         "showlegend": false,
         "type": "scatter",
         "x": [
          1,
          2,
          2,
          1,
          1
         ],
         "y": [
          0.687369476385493,
          0.687369476385493,
          50.529691053113766,
          50.529691053113766,
          0.687369476385493
         ]
        },
        {
         "fill": "toself",
         "fillcolor": "#FF0000",
         "line": {
          "color": "#CC0000",
          "width": 1
         },
         "marker": {
          "size": 1
         },
         "mode": "markers+lines",
         "showlegend": false,
         "type": "scatter",
         "x": [
          2,
          3,
          3,
          2,
          2
         ],
         "y": [
          50.52874877163757,
          50.52874877163757,
          195.35846192811957,
          195.35846192811957,
          50.52874877163757
         ]
        },
        {
         "fill": "toself",
         "fillcolor": "#FF0000",
         "line": {
          "color": "#CC0000",
          "width": 1
         },
         "marker": {
          "size": 1
         },
         "mode": "markers+lines",
         "showlegend": false,
         "type": "scatter",
         "x": [
          3,
          4,
          4,
          3,
          3
         ],
         "y": [
          195.35634069113271,
          195.35634069113271,
          424.8780010438548,
          424.8780010438548,
          195.35634069113271
         ]
        },
        {
         "fill": "toself",
         "fillcolor": "#FF0000",
         "line": {
          "color": "#CC0000",
          "width": 1
         },
         "marker": {
          "size": 1
         },
         "mode": "markers+lines",
         "showlegend": false,
         "type": "scatter",
         "x": [
          4,
          5,
          5,
          4,
          4
         ],
         "y": [
          424.8741300729227,
          424.8741300729227,
          728.8326608158022,
          728.8326608158022,
          424.8741300729227
         ]
        },
        {
         "fill": "toself",
         "fillcolor": "#FF0000",
         "line": {
          "color": "#CC0000",
          "width": 1
         },
         "marker": {
          "size": 1
         },
         "mode": "markers+lines",
         "showlegend": false,
         "type": "scatter",
         "x": [
          5,
          6,
          6,
          5,
          5
         ],
         "y": [
          728.8262623226165,
          728.8262623226165,
          1097.6617303507198,
          1097.6617303507198,
          728.8262623226165
         ]
        },
        {
         "fill": "toself",
         "fillcolor": "#FF0000",
         "line": {
          "color": "#CC0000",
          "width": 1
         },
         "marker": {
          "size": 1
         },
         "mode": "markers+lines",
         "showlegend": false,
         "type": "scatter",
         "x": [
          6,
          7,
          7,
          6,
          6
         ],
         "y": [
          1097.6513733847357,
          1097.6513733847357,
          1522.511817052304,
          1522.511817052304,
          1097.6513733847357
         ]
        },
        {
         "fill": "toself",
         "fillcolor": "#FF0000",
         "line": {
          "color": "#CC0000",
          "width": 1
         },
         "marker": {
          "size": 1
         },
         "mode": "markers+lines",
         "showlegend": false,
         "type": "scatter",
         "x": [
          7,
          8,
          8,
          7,
          7
         ],
         "y": [
          1522.4966957002218,
          1522.4966957002218,
          1995.1796006953641,
          1995.1796006953641,
          1522.4966957002218
         ]
        },
        {
         "fill": "toself",
         "fillcolor": "#FF0000",
         "line": {
          "color": "#CC0000",
          "width": 1
         },
         "marker": {
          "size": 1
         },
         "mode": "markers+lines",
         "showlegend": false,
         "type": "scatter",
         "x": [
          8,
          9,
          9,
          8,
          8
         ],
         "y": [
          1995.158890169179,
          1995.158890169179,
          2508.0509222072474,
          2508.0509222072474,
          1995.158890169179
         ]
        },
        {
         "fill": "toself",
         "fillcolor": "#FF0000",
         "line": {
          "color": "#CC0000",
          "width": 1
         },
         "marker": {
          "size": 1
         },
         "mode": "markers+lines",
         "showlegend": false,
         "type": "scatter",
         "x": [
          9,
          10,
          10,
          9,
          9
         ],
         "y": [
          2508.023789373416,
          2508.023789373416,
          3054.0403675897037,
          3054.0403675897037,
          2508.023789373416
         ]
        },
        {
         "fill": "toself",
         "fillcolor": "#FF0000",
         "line": {
          "color": "#CC0000",
          "width": 1
         },
         "marker": {
          "size": 1
         },
         "mode": "markers+lines",
         "showlegend": false,
         "type": "scatter",
         "x": [
          10,
          11,
          11,
          10,
          10
         ],
         "y": [
          3054.006219690236,
          3054.006219690236,
          3626.5271677429128,
          3626.5271677429128,
          3054.006219690236
         ]
        },
        {
         "fill": "toself",
         "fillcolor": "#FF0000",
         "line": {
          "color": "#CC0000",
          "width": 1
         },
         "marker": {
          "size": 1
         },
         "mode": "markers+lines",
         "showlegend": false,
         "type": "scatter",
         "x": [
          11,
          12,
          12,
          11,
          11
         ],
         "y": [
          3626.485335517659,
          3626.485335517659,
          4219.2890986441225,
          4219.2890986441225,
          3626.485335517659
         ]
        },
        {
         "fill": "toself",
         "fillcolor": "#FF0000",
         "line": {
          "color": "#CC0000",
          "width": 1
         },
         "marker": {
          "size": 1
         },
         "mode": "markers+lines",
         "showlegend": false,
         "type": "scatter",
         "x": [
          12,
          13,
          13,
          12,
          12
         ],
         "y": [
          4219.238932319392,
          4219.238932319392,
          4826.434550635418,
          4826.434550635418,
          4219.238932319392
         ]
        },
        {
         "fill": "toself",
         "fillcolor": "#FF0000",
         "line": {
          "color": "#CC0000",
          "width": 1
         },
         "marker": {
          "size": 1
         },
         "mode": "markers+lines",
         "showlegend": false,
         "type": "scatter",
         "x": [
          13,
          14,
          14,
          13,
          13
         ],
         "y": [
          4826.375363763089,
          4826.375363763089,
          5442.333902394936,
          5442.333902394936,
          4826.375363763089
         ]
        },
        {
         "fill": "toself",
         "fillcolor": "#FF0000",
         "line": {
          "color": "#CC0000",
          "width": 1
         },
         "marker": {
          "size": 1
         },
         "mode": "markers+lines",
         "showlegend": false,
         "type": "scatter",
         "x": [
          14,
          15,
          15,
          14,
          14
         ],
         "y": [
          5442.264983695497,
          5442.264983695497,
          6061.550114104507,
          6061.550114104507,
          5442.264983695497
         ]
        },
        {
         "fill": "toself",
         "fillcolor": "#FF0000",
         "line": {
          "color": "#CC0000",
          "width": 1
         },
         "marker": {
          "size": 1
         },
         "mode": "markers+lines",
         "showlegend": false,
         "type": "scatter",
         "x": [
          15,
          16,
          16,
          15,
          15
         ],
         "y": [
          6061.470727482231,
          6061.470727482231,
          6678.778873216345,
          6678.778873216345,
          6061.470727482231
         ]
        },
        {
         "fill": "toself",
         "fillcolor": "#FF0000",
         "line": {
          "color": "#CC0000",
          "width": 1
         },
         "marker": {
          "size": 1
         },
         "mode": "markers+lines",
         "showlegend": false,
         "type": "scatter",
         "x": [
          16,
          17,
          17,
          16,
          16
         ],
         "y": [
          6678.688263284913,
          6678.688263284913,
          7288.805656179405,
          7288.805656179405,
          6678.688263284913
         ]
        },
        {
         "fill": "toself",
         "fillcolor": "#FF0000",
         "line": {
          "color": "#CC0000",
          "width": 1
         },
         "marker": {
          "size": 1
         },
         "mode": "markers+lines",
         "showlegend": false,
         "type": "scatter",
         "x": [
          17,
          18,
          18,
          17,
          17
         ],
         "y": [
          7288.703043440896,
          7288.703043440896,
          7886.490403219626,
          7886.490403219626,
          7288.703043440896
         ]
        },
        {
         "fill": "toself",
         "fillcolor": "#FF0000",
         "line": {
          "color": "#CC0000",
          "width": 1
         },
         "marker": {
          "size": 1
         },
         "mode": "markers+lines",
         "showlegend": false,
         "type": "scatter",
         "x": [
          18,
          19,
          19,
          18,
          18
         ],
         "y": [
          7886.374942812055,
          7886.374942812055,
          8466.793584535342,
          8466.793584535342,
          7886.374942812055
         ]
        },
        {
         "fill": "toself",
         "fillcolor": "#FF0000",
         "line": {
          "color": "#CC0000",
          "width": 1
         },
         "marker": {
          "size": 1
         },
         "mode": "markers+lines",
         "showlegend": false,
         "type": "scatter",
         "x": [
          19,
          20,
          20,
          19,
          19
         ],
         "y": [
          8466.664266900552,
          8466.664266900552,
          9024.855079204784,
          9024.855079204784,
          8466.664266900552
         ]
        },
        {
         "fill": "toself",
         "fillcolor": "#FF0000",
         "line": {
          "color": "#CC0000",
          "width": 1
         },
         "marker": {
          "size": 1
         },
         "mode": "markers+lines",
         "showlegend": false,
         "type": "scatter",
         "x": [
          20,
          21,
          21,
          20,
          20
         ],
         "y": [
          9024.710655153844,
          9024.710655153844,
          9556.129159897027,
          9556.129159897027,
          9024.710655153844
         ]
        },
        {
         "fill": "toself",
         "fillcolor": "#FF0000",
         "line": {
          "color": "#CC0000",
          "width": 1
         },
         "marker": {
          "size": 1
         },
         "mode": "markers+lines",
         "showlegend": false,
         "type": "scatter",
         "x": [
          21,
          22,
          22,
          21,
          21
         ],
         "y": [
          9555.968183365512,
          9555.968183365512,
          10056.569098751792,
          10056.569098751792,
          9555.968183365512
         ]
        },
        {
         "fill": "toself",
         "fillcolor": "#FF0000",
         "line": {
          "color": "#CC0000",
          "width": 1
         },
         "marker": {
          "size": 1
         },
         "mode": "markers+lines",
         "showlegend": false,
         "type": "scatter",
         "x": [
          22,
          23,
          23,
          22,
          22
         ],
         "y": [
          10056.381594082428,
          10056.381594082428,
          10522.815821180688,
          10522.815821180688,
          10056.381594082428
         ]
        },
        {
         "fill": "toself",
         "fillcolor": "#FF0000",
         "line": {
          "color": "#CC0000",
          "width": 1
         },
         "marker": {
          "size": 1
         },
         "mode": "markers+lines",
         "showlegend": false,
         "type": "scatter",
         "x": [
          23,
          24,
          24,
          23,
          23
         ],
         "y": [
          10522.593833935036,
          10522.593833935036,
          10952.373153834453,
          10952.373153834453,
          10522.593833935036
         ]
        },
        {
         "fill": "toself",
         "fillcolor": "#FF0000",
         "line": {
          "color": "#CC0000",
          "width": 1
         },
         "marker": {
          "size": 1
         },
         "mode": "markers+lines",
         "showlegend": false,
         "type": "scatter",
         "x": [
          24,
          25,
          25,
          24,
          24
         ],
         "y": [
          10952.121769494768,
          10952.121769494768,
          11343.729714113793,
          11343.729714113793,
          10952.121769494768
         ]
        },
        {
         "fill": "toself",
         "fillcolor": "#FF0000",
         "line": {
          "color": "#CC0000",
          "width": 1
         },
         "marker": {
          "size": 1
         },
         "mode": "markers+lines",
         "showlegend": false,
         "type": "scatter",
         "x": [
          25,
          26,
          26,
          25,
          25
         ],
         "y": [
          11343.458255485017,
          11343.458255485017,
          11696.375328683374,
          11696.375328683374,
          11343.458255485017
         ]
        },
        {
         "fill": "toself",
         "fillcolor": "#FF0000",
         "line": {
          "color": "#CC0000",
          "width": 1
         },
         "marker": {
          "size": 1
         },
         "mode": "markers+lines",
         "showlegend": false,
         "type": "scatter",
         "x": [
          26,
          27,
          27,
          26,
          26
         ],
         "y": [
          11696.099181622325,
          11696.099181622325,
          12010.74117009298,
          12010.74117009298,
          11696.099181622325
         ]
        },
        {
         "fill": "toself",
         "fillcolor": "#FF0000",
         "line": {
          "color": "#CC0000",
          "width": 1
         },
         "marker": {
          "size": 1
         },
         "mode": "markers+lines",
         "showlegend": false,
         "type": "scatter",
         "x": [
          27,
          28,
          28,
          27,
          27
         ],
         "y": [
          12010.46014072076,
          12010.46014072076,
          12288.038907580585,
          12288.038907580585,
          12010.46014072076
         ]
        },
        {
         "fill": "toself",
         "fillcolor": "#FF0000",
         "line": {
          "color": "#CC0000",
          "width": 1
         },
         "marker": {
          "size": 1
         },
         "mode": "markers+lines",
         "showlegend": false,
         "type": "scatter",
         "x": [
          28,
          29,
          29,
          28,
          28
         ],
         "y": [
          12287.746803355154,
          12287.746803355154,
          12530.076553914143,
          12530.076553914143,
          12287.746803355154
         ]
        },
        {
         "fill": "toself",
         "fillcolor": "#FF0000",
         "line": {
          "color": "#CC0000",
          "width": 1
         },
         "marker": {
          "size": 1
         },
         "mode": "markers+lines",
         "showlegend": false,
         "type": "scatter",
         "x": [
          29,
          30,
          30,
          29,
          29
         ],
         "y": [
          12529.766737897531,
          12529.766737897531,
          12739.063019177334,
          12739.063019177334,
          12529.766737897531
         ]
        },
        {
         "fill": "toself",
         "fillcolor": "#FF0000",
         "line": {
          "color": "#CC0000",
          "width": 1
         },
         "marker": {
          "size": 1
         },
         "mode": "markers+lines",
         "showlegend": false,
         "type": "scatter",
         "x": [
          30,
          31,
          31,
          30,
          30
         ],
         "y": [
          12738.73755582461,
          12738.73755582461,
          12917.4377031893,
          12917.4377031893,
          12738.73755582461
         ]
        },
        {
         "fill": "toself",
         "fillcolor": "#FF0000",
         "line": {
          "color": "#CC0000",
          "width": 1
         },
         "marker": {
          "size": 1
         },
         "mode": "markers+lines",
         "showlegend": false,
         "type": "scatter",
         "x": [
          31,
          32,
          32,
          31,
          31
         ],
         "y": [
          12917.105750049954,
          12917.105750049954,
          13067.733725305066,
          13067.733725305066,
          12917.105750049954
         ]
        },
        {
         "fill": "toself",
         "fillcolor": "#FF0000",
         "line": {
          "color": "#CC0000",
          "width": 1
         },
         "marker": {
          "size": 1
         },
         "mode": "markers+lines",
         "showlegend": false,
         "type": "scatter",
         "x": [
          32,
          33,
          33,
          32,
          32
         ],
         "y": [
          13067.395839215415,
          13067.395839215415,
          13192.451503717672,
          13192.451503717672,
          13067.395839215415
         ]
        },
        {
         "fill": "toself",
         "fillcolor": "#FF0000",
         "line": {
          "color": "#CC0000",
          "width": 1
         },
         "marker": {
          "size": 1
         },
         "mode": "markers+lines",
         "showlegend": false,
         "type": "scatter",
         "x": [
          33,
          34,
          34,
          33,
          33
         ],
         "y": [
          13192.121459440335,
          13192.121459440335,
          13294.013431819163,
          13294.013431819163,
          13192.121459440335
         ]
        },
        {
         "fill": "toself",
         "fillcolor": "#FF0000",
         "line": {
          "color": "#CC0000",
          "width": 1
         },
         "marker": {
          "size": 1
         },
         "mode": "markers+lines",
         "showlegend": false,
         "type": "scatter",
         "x": [
          34,
          35,
          35,
          34,
          34
         ],
         "y": [
          13293.682761298238,
          13293.682761298238,
          13374.684269619294,
          13374.684269619294,
          13293.682761298238
         ]
        },
        {
         "fill": "toself",
         "fillcolor": "#FF0000",
         "line": {
          "color": "#CC0000",
          "width": 1
         },
         "marker": {
          "size": 1
         },
         "mode": "markers+lines",
         "showlegend": false,
         "type": "scatter",
         "x": [
          35,
          36,
          36,
          35,
          35
         ],
         "y": [
          13374.354001285963,
          13374.354001285963,
          13436.567234438384,
          13436.567234438384,
          13374.354001285963
         ]
        },
        {
         "fill": "toself",
         "fillcolor": "#FF0000",
         "line": {
          "color": "#CC0000",
          "width": 1
         },
         "marker": {
          "size": 1
         },
         "mode": "markers+lines",
         "showlegend": false,
         "type": "scatter",
         "x": [
          36,
          37,
          37,
          36,
          36
         ],
         "y": [
          13436.238092163223,
          13436.238092163223,
          13481.589528403943,
          13481.589528403943,
          13436.238092163223
         ]
        },
        {
         "fill": "toself",
         "fillcolor": "#FF0000",
         "line": {
          "color": "#CC0000",
          "width": 1
         },
         "marker": {
          "size": 1
         },
         "mode": "markers+lines",
         "showlegend": false,
         "type": "scatter",
         "x": [
          37,
          38,
          38,
          37,
          37
         ],
         "y": [
          13481.262135727935,
          13481.262135727935,
          13511.503153483744,
          13511.503153483744,
          13481.262135727935
         ]
        },
        {
         "fill": "toself",
         "fillcolor": "#FF0000",
         "line": {
          "color": "#CC0000",
          "width": 1
         },
         "marker": {
          "size": 1
         },
         "mode": "markers+lines",
         "showlegend": false,
         "type": "scatter",
         "x": [
          38,
          39,
          39,
          38,
          38
         ],
         "y": [
          13511.17804546318,
          13511.17804546318,
          13527.892006321901,
          13527.892006321901,
          13511.17804546318
         ]
        },
        {
         "fill": "toself",
         "fillcolor": "#FF0000",
         "line": {
          "color": "#CC0000",
          "width": 1
         },
         "marker": {
          "size": 1
         },
         "mode": "markers+lines",
         "showlegend": false,
         "type": "scatter",
         "x": [
          39,
          40,
          40,
          39,
          39
         ],
         "y": [
          13527.56963929013,
          13527.56963929013,
          13532.18261095785,
          13532.18261095785,
          13527.56963929013
         ]
        },
        {
         "fill": "toself",
         "fillcolor": "#FF0000",
         "line": {
          "color": "#CC0000",
          "width": 1
         },
         "marker": {
          "size": 1
         },
         "mode": "markers+lines",
         "showlegend": false,
         "type": "scatter",
         "x": [
          40,
          41,
          41,
          40,
          40
         ],
         "y": [
          13525.340831794696,
          13525.340831794696,
          13532.18261095785,
          13532.18261095785,
          13525.340831794696
         ]
        },
        {
         "fill": "toself",
         "fillcolor": "#FF0000",
         "line": {
          "color": "#CC0000",
          "width": 1
         },
         "marker": {
          "size": 1
         },
         "mode": "markers+lines",
         "showlegend": false,
         "type": "scatter",
         "x": [
          41,
          42,
          42,
          41,
          41
         ],
         "y": [
          13509.15178198031,
          13509.15178198031,
          13525.656617585537,
          13525.656617585537,
          13509.15178198031
         ]
        },
        {
         "fill": "toself",
         "fillcolor": "#FF0000",
         "line": {
          "color": "#CC0000",
          "width": 1
         },
         "marker": {
          "size": 1
         },
         "mode": "markers+lines",
         "showlegend": false,
         "type": "scatter",
         "x": [
          42,
          43,
          43,
          42,
          42
         ],
         "y": [
          13484.326973962674,
          13484.326973962674,
          13509.46384194018,
          13509.46384194018,
          13484.326973962674
         ]
        },
        {
         "fill": "toself",
         "fillcolor": "#FF0000",
         "line": {
          "color": "#CC0000",
          "width": 1
         },
         "marker": {
          "size": 1
         },
         "mode": "markers+lines",
         "showlegend": false,
         "type": "scatter",
         "x": [
          43,
          44,
          44,
          43,
          43
         ],
         "y": [
          13451.790297473442,
          13451.790297473442,
          13484.635082202178,
          13484.635082202178,
          13451.790297473442
         ]
        },
        {
         "fill": "toself",
         "fillcolor": "#FF0000",
         "line": {
          "color": "#CC0000",
          "width": 1
         },
         "marker": {
          "size": 1
         },
         "mode": "markers+lines",
         "showlegend": false,
         "type": "scatter",
         "x": [
          44,
          45,
          45,
          44,
          44
         ],
         "y": [
          13412.370028516894,
          13412.370028516894,
          13452.094268479112,
          13452.094268479112,
          13412.370028516894
         ]
        },
        {
         "fill": "toself",
         "fillcolor": "#FF0000",
         "line": {
          "color": "#CC0000",
          "width": 1
         },
         "marker": {
          "size": 1
         },
         "mode": "markers+lines",
         "showlegend": false,
         "type": "scatter",
         "x": [
          45,
          46,
          46,
          45,
          45
         ],
         "y": [
          13366.809080712032,
          13366.809080712032,
          13412.669711810844,
          13412.669711810844,
          13366.809080712032
         ]
        },
        {
         "fill": "toself",
         "fillcolor": "#FF0000",
         "line": {
          "color": "#CC0000",
          "width": 1
         },
         "marker": {
          "size": 1
         },
         "mode": "markers+lines",
         "showlegend": false,
         "type": "scatter",
         "x": [
          46,
          47,
          47,
          46,
          46
         ],
         "y": [
          13315.774247948571,
          13315.774247948571,
          13367.104356192867,
          13367.104356192867,
          13315.774247948571
         ]
        },
        {
         "fill": "toself",
         "fillcolor": "#FF0000",
         "line": {
          "color": "#CC0000",
          "width": 1
         },
         "marker": {
          "size": 1
         },
         "mode": "markers+lines",
         "showlegend": false,
         "type": "scatter",
         "x": [
          47,
          48,
          48,
          47,
          47
         ],
         "y": [
          13259.864476490678,
          13259.864476490678,
          13316.065021840652,
          13316.065021840652,
          13259.864476490678
         ]
        },
        {
         "fill": "toself",
         "fillcolor": "#FF0000",
         "line": {
          "color": "#CC0000",
          "width": 1
         },
         "marker": {
          "size": 1
         },
         "mode": "markers+lines",
         "showlegend": false,
         "type": "scatter",
         "x": [
          48,
          49,
          49,
          48,
          48
         ],
         "y": [
          13199.61823300767,
          13199.61823300767,
          13260.150677829057,
          13260.150677829057,
          13199.61823300767
         ]
        },
        {
         "fill": "toself",
         "fillcolor": "#FF0000",
         "line": {
          "color": "#CC0000",
          "width": 1
         },
         "marker": {
          "size": 1
         },
         "mode": "markers+lines",
         "showlegend": false,
         "type": "scatter",
         "x": [
          49,
          50,
          50,
          49,
          49
         ],
         "y": [
          13135.520045129811,
          13135.520045129811,
          13199.899810591061,
          13199.899810591061,
          13135.520045129811
         ]
        },
        {
         "fill": "toself",
         "fillcolor": "#FF0000",
         "line": {
          "color": "#CC0000",
          "width": 1
         },
         "marker": {
          "size": 1
         },
         "mode": "markers+lines",
         "showlegend": false,
         "type": "scatter",
         "x": [
          50,
          51,
          51,
          50,
          50
         ],
         "y": [
          13068.00629415361,
          13068.00629415361,
          13135.79696487981,
          13135.79696487981,
          13068.00629415361
         ]
        },
        {
         "fill": "toself",
         "fillcolor": "#FF0000",
         "line": {
          "color": "#CC0000",
          "width": 1
         },
         "marker": {
          "size": 1
         },
         "mode": "markers+lines",
         "showlegend": false,
         "type": "scatter",
         "x": [
          51,
          52,
          52,
          51,
          51
         ],
         "y": [
          12997.470344134152,
          12997.470344134152,
          13068.278536825253,
          13068.278536825253,
          12997.470344134152
         ]
        },
        {
         "fill": "toself",
         "fillcolor": "#FF0000",
         "line": {
          "color": "#CC0000",
          "width": 1
         },
         "marker": {
          "size": 1
         },
         "mode": "markers+lines",
         "showlegend": false,
         "type": "scatter",
         "x": [
          52,
          53,
          53,
          52,
          52
         ],
         "y": [
          12924.267080714273,
          12924.267080714273,
          12997.737903329653,
          12997.737903329653,
          12924.267080714273
         ]
        },
        {
         "fill": "toself",
         "fillcolor": "#FF0000",
         "line": {
          "color": "#CC0000",
          "width": 1
         },
         "marker": {
          "size": 1
         },
         "mode": "markers+lines",
         "showlegend": false,
         "type": "scatter",
         "x": [
          53,
          54,
          54,
          53,
          53
         ],
         "y": [
          12848.71692861086,
          12848.71692861086,
          12924.529961158036,
          12924.529961158036,
          12848.71692861086
         ]
        },
        {
         "fill": "toself",
         "fillcolor": "#FF0000",
         "line": {
          "color": "#CC0000",
          "width": 1
         },
         "marker": {
          "size": 1
         },
         "mode": "markers+lines",
         "showlegend": false,
         "type": "scatter",
         "x": [
          54,
          55,
          55,
          54,
          54
         ],
         "y": [
          12771.109409956358,
          12771.109409956358,
          12848.975144649527,
          12848.975144649527,
          12771.109409956358
         ]
        },
        {
         "fill": "toself",
         "fillcolor": "#FF0000",
         "line": {
          "color": "#CC0000",
          "width": 1
         },
         "marker": {
          "size": 1
         },
         "mode": "markers+lines",
         "showlegend": false,
         "type": "scatter",
         "x": [
          55,
          56,
          56,
          55,
          55
         ],
         "y": [
          12691.706298958637,
          12691.706298958637,
          12771.362984252793,
          12771.362984252793,
          12691.706298958637
         ]
        },
        {
         "fill": "toself",
         "fillcolor": "#FF0000",
         "line": {
          "color": "#CC0000",
          "width": 1
         },
         "marker": {
          "size": 1
         },
         "mode": "markers+lines",
         "showlegend": false,
         "type": "scatter",
         "x": [
          56,
          57,
          57,
          56,
          56
         ],
         "y": [
          12610.744421918507,
          12610.744421918507,
          12691.955261353207,
          12691.955261353207,
          12610.744421918507
         ]
        },
        {
         "fill": "toself",
         "fillcolor": "#FF0000",
         "line": {
          "color": "#CC0000",
          "width": 1
         },
         "marker": {
          "size": 1
         },
         "mode": "markers+lines",
         "showlegend": false,
         "type": "scatter",
         "x": [
          57,
          58,
          58,
          57,
          57
         ],
         "y": [
          12528.438145748734,
          12528.438145748734,
          12610.988808434622,
          12610.988808434622,
          12528.438145748734
         ]
        },
        {
         "fill": "toself",
         "fillcolor": "#FF0000",
         "line": {
          "color": "#CC0000",
          "width": 1
         },
         "marker": {
          "size": 1
         },
         "mode": "markers+lines",
         "showlegend": false,
         "type": "scatter",
         "x": [
          58,
          59,
          59,
          58,
          58
         ],
         "y": [
          12444.981592803568,
          12444.981592803568,
          12528.67799772333,
          12528.67799772333,
          12444.981592803568
         ]
        },
        {
         "fill": "toself",
         "fillcolor": "#FF0000",
         "line": {
          "color": "#CC0000",
          "width": 1
         },
         "marker": {
          "size": 1
         },
         "mode": "markers+lines",
         "showlegend": false,
         "type": "scatter",
         "x": [
          59,
          60,
          60,
          59,
          59
         ],
         "y": [
          12360.550615067836,
          12360.550615067836,
          12445.216956125554,
          12445.216956125554,
          12360.550615067836
         ]
        },
        {
         "fill": "toself",
         "fillcolor": "#FF0000",
         "line": {
          "color": "#CC0000",
          "width": 1
         },
         "marker": {
          "size": 1
         },
         "mode": "markers+lines",
         "showlegend": false,
         "type": "scatter",
         "x": [
          60,
          61,
          61,
          60,
          60
         ],
         "y": [
          12275.304557156504,
          12275.304557156504,
          12360.781539510417,
          12360.781539510417,
          12275.304557156504
         ]
        },
        {
         "fill": "toself",
         "fillcolor": "#FF0000",
         "line": {
          "color": "#CC0000",
          "width": 1
         },
         "marker": {
          "size": 1
         },
         "mode": "markers+lines",
         "showlegend": false,
         "type": "scatter",
         "x": [
          61,
          62,
          62,
          61,
          61
         ],
         "y": [
          12189.387832477732,
          12189.387832477732,
          12275.531095790759,
          12275.531095790759,
          12189.387832477732
         ]
        },
        {
         "fill": "toself",
         "fillcolor": "#FF0000",
         "line": {
          "color": "#CC0000",
          "width": 1
         },
         "marker": {
          "size": 1
         },
         "mode": "markers+lines",
         "showlegend": false,
         "type": "scatter",
         "x": [
          62,
          63,
          63,
          62,
          62
         ],
         "y": [
          12102.931333180448,
          12102.931333180448,
          12189.61004115731,
          12189.61004115731,
          12102.931333180448
         ]
        },
        {
         "fill": "toself",
         "fillcolor": "#FF0000",
         "line": {
          "color": "#CC0000",
          "width": 1
         },
         "marker": {
          "size": 1
         },
         "mode": "markers+lines",
         "showlegend": false,
         "type": "scatter",
         "x": [
          63,
          64,
          64,
          63,
          63
         ],
         "y": [
          12016.053695906974,
          12016.053695906974,
          12103.149270087943,
          12103.149270087943,
          12016.053695906974
         ]
        },
        {
         "fill": "toself",
         "fillcolor": "#FF0000",
         "line": {
          "color": "#CC0000",
          "width": 1
         },
         "marker": {
          "size": 1
         },
         "mode": "markers+lines",
         "showlegend": false,
         "type": "scatter",
         "x": [
          64,
          65,
          65,
          64,
          64
         ],
         "y": [
          11928.862438857164,
          11928.862438857164,
          12016.267421154565,
          12016.267421154565,
          11928.862438857164
         ]
        },
        {
         "fill": "toself",
         "fillcolor": "#FF0000",
         "line": {
          "color": "#CC0000",
          "width": 1
         },
         "marker": {
          "size": 1
         },
         "mode": "markers+lines",
         "showlegend": false,
         "type": "scatter",
         "x": [
          65,
          66,
          66,
          65,
          65
         ],
         "y": [
          11841.454984751466,
          11841.454984751466,
          11929.07201413446,
          11929.07201413446,
          11841.454984751466
         ]
        },
        {
         "fill": "toself",
         "fillcolor": "#FF0000",
         "line": {
          "color": "#CC0000",
          "width": 1
         },
         "marker": {
          "size": 1
         },
         "mode": "markers+lines",
         "showlegend": false,
         "type": "scatter",
         "x": [
          66,
          67,
          67,
          66,
          66
         ],
         "y": [
          11753.919582391063,
          11753.919582391063,
          11841.660473015037,
          11841.660473015037,
          11753.919582391063
         ]
        },
        {
         "fill": "toself",
         "fillcolor": "#FF0000",
         "line": {
          "color": "#CC0000",
          "width": 1
         },
         "marker": {
          "size": 1
         },
         "mode": "markers+lines",
         "showlegend": false,
         "type": "scatter",
         "x": [
          67,
          68,
          68,
          67,
          67
         ],
         "y": [
          11666.336138155055,
          11666.336138155055,
          11754.1210475904,
          11754.1210475904,
          11666.336138155055
         ]
        },
        {
         "fill": "toself",
         "fillcolor": "#FF0000",
         "line": {
          "color": "#CC0000",
          "width": 1
         },
         "marker": {
          "size": 1
         },
         "mode": "markers+lines",
         "showlegend": false,
         "type": "scatter",
         "x": [
          68,
          69,
          69,
          68,
          68
         ],
         "y": [
          11578.776967296471,
          11578.776967296471,
          11666.533644990943,
          11666.533644990943,
          11578.776967296471
         ]
        },
        {
         "fill": "toself",
         "fillcolor": "#FF0000",
         "line": {
          "color": "#CC0000",
          "width": 1
         },
         "marker": {
          "size": 1
         },
         "mode": "markers+lines",
         "showlegend": false,
         "type": "scatter",
         "x": [
          69,
          70,
          70,
          69,
          69
         ],
         "y": [
          11491.307473153478,
          11491.307473153478,
          11578.97058100771,
          11578.97058100771,
          11491.307473153478
         ]
        },
        {
         "fill": "toself",
         "fillcolor": "#FF0000",
         "line": {
          "color": "#CC0000",
          "width": 1
         },
         "marker": {
          "size": 1
         },
         "mode": "markers+lines",
         "showlegend": false,
         "type": "scatter",
         "x": [
          70,
          71,
          71,
          70,
          70
         ],
         "y": [
          11403.986762295777,
          11403.986762295777,
          11491.497259328824,
          11491.497259328824,
          11403.986762295777
         ]
        },
        {
         "fill": "toself",
         "fillcolor": "#FF0000",
         "line": {
          "color": "#CC0000",
          "width": 1
         },
         "marker": {
          "size": 1
         },
         "mode": "markers+lines",
         "showlegend": false,
         "type": "scatter",
         "x": [
          71,
          72,
          72,
          71,
          71
         ],
         "y": [
          11316.86820213911,
          11316.86820213911,
          11404.172786708148,
          11404.172786708148,
          11316.86820213911
         ]
        },
        {
         "fill": "toself",
         "fillcolor": "#FF0000",
         "line": {
          "color": "#CC0000",
          "width": 1
         },
         "marker": {
          "size": 1
         },
         "mode": "markers+lines",
         "showlegend": false,
         "type": "scatter",
         "x": [
          72,
          73,
          73,
          72,
          72
         ],
         "y": [
          11229.999926927987,
          11229.999926927987,
          11317.05053059986,
          11317.05053059986,
          11229.999926927987
         ]
        },
        {
         "fill": "toself",
         "fillcolor": "#FF0000",
         "line": {
          "color": "#CC0000",
          "width": 1
         },
         "marker": {
          "size": 1
         },
         "mode": "markers+lines",
         "showlegend": false,
         "type": "scatter",
         "x": [
          73,
          74,
          74,
          73,
          73
         ],
         "y": [
          11143.425297313279,
          11143.425297313279,
          11230.17862515873,
          11230.17862515873,
          11143.425297313279
         ]
        },
        {
         "fill": "toself",
         "fillcolor": "#FF0000",
         "line": {
          "color": "#CC0000",
          "width": 1
         },
         "marker": {
          "size": 1
         },
         "mode": "markers+lines",
         "showlegend": false,
         "type": "scatter",
         "x": [
          74,
          75,
          75,
          74,
          74
         ],
         "y": [
          11057.183318176012,
          11057.183318176012,
          11143.60043083359,
          11143.60043083359,
          11057.183318176012
         ]
        },
        {
         "fill": "toself",
         "fillcolor": "#FF0000",
         "line": {
          "color": "#CC0000",
          "width": 1
         },
         "marker": {
          "size": 1
         },
         "mode": "markers+lines",
         "showlegend": false,
         "type": "scatter",
         "x": [
          75,
          76,
          76,
          75,
          75
         ],
         "y": [
          10971.309018858527,
          10971.309018858527,
          11057.354952205376,
          11057.354952205376,
          10971.309018858527
         ]
        },
        {
         "fill": "toself",
         "fillcolor": "#FF0000",
         "line": {
          "color": "#CC0000",
          "width": 1
         },
         "marker": {
          "size": 1
         },
         "mode": "markers+lines",
         "showlegend": false,
         "type": "scatter",
         "x": [
          76,
          77,
          77,
          76,
          76
         ],
         "y": [
          10885.833799577185,
          10885.833799577185,
          10971.477218231023,
          10971.477218231023,
          10885.833799577185
         ]
        },
        {
         "fill": "toself",
         "fillcolor": "#FF0000",
         "line": {
          "color": "#CC0000",
          "width": 1
         },
         "marker": {
          "size": 1
         },
         "mode": "markers+lines",
         "showlegend": false,
         "type": "scatter",
         "x": [
          77,
          78,
          78,
          77,
          77
         ],
         "y": [
          10800.785747585414,
          10800.785747585414,
          10885.9986286677,
          10885.9986286677,
          10800.785747585414
         ]
        },
        {
         "fill": "toself",
         "fillcolor": "#FF0000",
         "line": {
          "color": "#CC0000",
          "width": 1
         },
         "marker": {
          "size": 1
         },
         "mode": "markers+lines",
         "showlegend": false,
         "type": "scatter",
         "x": [
          78,
          79,
          79,
          78,
          78
         ],
         "y": [
          10716.189922517513,
          10716.189922517513,
          10800.947270246284,
          10800.947270246284,
          10716.189922517513
         ]
        },
        {
         "fill": "toself",
         "fillcolor": "#FF0000",
         "line": {
          "color": "#CC0000",
          "width": 1
         },
         "marker": {
          "size": 1
         },
         "mode": "markers+lines",
         "showlegend": false,
         "type": "scatter",
         "x": [
          79,
          80,
          80,
          79,
          79
         ],
         "y": [
          10632.068659850493,
          10632.068659850493,
          10716.348202024788,
          10716.348202024788,
          10632.068659850493
         ]
        },
        {
         "fill": "toself",
         "fillcolor": "#FF0000",
         "line": {
          "color": "#CC0000",
          "width": 1
         },
         "marker": {
          "size": 1
         },
         "mode": "markers+lines",
         "showlegend": false,
         "type": "scatter",
         "x": [
          80,
          81,
          81,
          80,
          80
         ],
         "y": [
          10548.44151529619,
          10548.44151529619,
          10632.223758858878,
          10632.223758858878,
          10548.44151529619
         ]
        },
        {
         "fill": "toself",
         "fillcolor": "#FF0000",
         "line": {
          "color": "#CC0000",
          "width": 1
         },
         "marker": {
          "size": 1
         },
         "mode": "markers+lines",
         "showlegend": false,
         "type": "scatter",
         "x": [
          81,
          82,
          82,
          81,
          81
         ],
         "y": [
          10465.32611840387,
          10465.32611840387,
          10548.593495801999,
          10548.593495801999,
          10465.32611840387
         ]
        },
        {
         "fill": "toself",
         "fillcolor": "#FF0000",
         "line": {
          "color": "#CC0000",
          "width": 1
         },
         "marker": {
          "size": 1
         },
         "mode": "markers+lines",
         "showlegend": false,
         "type": "scatter",
         "x": [
          82,
          83,
          83,
          82,
          82
         ],
         "y": [
          10382.737843149598,
          10382.737843149598,
          10465.475041715641,
          10465.475041715641,
          10382.737843149598
         ]
        },
        {
         "fill": "toself",
         "fillcolor": "#FF0000",
         "line": {
          "color": "#CC0000",
          "width": 1
         },
         "marker": {
          "size": 1
         },
         "mode": "markers+lines",
         "showlegend": false,
         "type": "scatter",
         "x": [
          83,
          84,
          84,
          83,
          83
         ],
         "y": [
          10300.690146136243,
          10300.690146136243,
          10382.883769865684,
          10382.883769865684,
          10300.690146136243
         ]
        },
        {
         "fill": "toself",
         "fillcolor": "#FF0000",
         "line": {
          "color": "#CC0000",
          "width": 1
         },
         "marker": {
          "size": 1
         },
         "mode": "markers+lines",
         "showlegend": false,
         "type": "scatter",
         "x": [
          84,
          85,
          85,
          84,
          84
         ],
         "y": [
          10219.194715589509,
          10219.194715589509,
          10300.833136128975,
          10300.833136128975,
          10219.194715589509
         ]
        },
        {
         "fill": "toself",
         "fillcolor": "#FF0000",
         "line": {
          "color": "#CC0000",
          "width": 1
         },
         "marker": {
          "size": 1
         },
         "mode": "markers+lines",
         "showlegend": false,
         "type": "scatter",
         "x": [
          85,
          86,
          86,
          85,
          85
         ],
         "y": [
          10138.261632382113,
          10138.261632382113,
          10219.334827995905,
          10219.334827995905,
          10138.261632382113
         ]
        },
        {
         "fill": "toself",
         "fillcolor": "#FF0000",
         "line": {
          "color": "#CC0000",
          "width": 1
         },
         "marker": {
          "size": 1
         },
         "mode": "markers+lines",
         "showlegend": false,
         "type": "scatter",
         "x": [
          86,
          87,
          87,
          86,
          86
         ],
         "y": [
          10057.899522846048,
          10057.899522846048,
          10138.398925600508,
          10138.398925600508,
          10057.899522846048
         ]
        },
        {
         "fill": "toself",
         "fillcolor": "#FF0000",
         "line": {
          "color": "#CC0000",
          "width": 1
         },
         "marker": {
          "size": 1
         },
         "mode": "markers+lines",
         "showlegend": false,
         "type": "scatter",
         "x": [
          87,
          88,
          88,
          87,
          87
         ],
         "y": [
          9978.115692714955,
          9978.115692714955,
          10058.034054538599,
          10058.034054538599,
          9978.115692714955
         ]
        },
        {
         "fill": "toself",
         "fillcolor": "#FF0000",
         "line": {
          "color": "#CC0000",
          "width": 1
         },
         "marker": {
          "size": 1
         },
         "mode": "markers+lines",
         "showlegend": false,
         "type": "scatter",
         "x": [
          88,
          89,
          89,
          88,
          88
         ],
         "y": [
          9898.916236288956,
          9898.916236288956,
          9978.24751981571,
          9978.24751981571,
          9898.916236288956
         ]
        },
        {
         "fill": "toself",
         "fillcolor": "#FF0000",
         "line": {
          "color": "#CC0000",
          "width": 1
         },
         "marker": {
          "size": 1
         },
         "mode": "markers+lines",
         "showlegend": false,
         "type": "scatter",
         "x": [
          89,
          90,
          90,
          89,
          89
         ],
         "y": [
          9820.30614265293,
          9820.30614265293,
          9899.04541498744,
          9899.04541498744,
          9820.30614265293
         ]
        },
        {
         "fill": "toself",
         "fillcolor": "#FF0000",
         "line": {
          "color": "#CC0000",
          "width": 1
         },
         "marker": {
          "size": 1
         },
         "mode": "markers+lines",
         "showlegend": false,
         "type": "scatter",
         "x": [
          90,
          91,
          91,
          90,
          90
         ],
         "y": [
          9742.2893947516,
          9742.2893947516,
          9820.432728267127,
          9820.432728267127,
          9742.2893947516
         ]
        },
        {
         "fill": "toself",
         "fillcolor": "#FF0000",
         "line": {
          "color": "#CC0000",
          "width": 1
         },
         "marker": {
          "size": 1
         },
         "mode": "markers+lines",
         "showlegend": false,
         "type": "scatter",
         "x": [
          91,
          92,
          92,
          91,
          91
         ],
         "y": [
          9664.869060578792,
          9664.869060578792,
          9742.41344182339,
          9742.41344182339,
          9664.869060578792
         ]
        },
        {
         "fill": "toself",
         "fillcolor": "#FF0000",
         "line": {
          "color": "#CC0000",
          "width": 1
         },
         "marker": {
          "size": 1
         },
         "mode": "markers+lines",
         "showlegend": false,
         "type": "scatter",
         "x": [
          92,
          93,
          93,
          92,
          92
         ],
         "y": [
          9588.047376809744,
          9588.047376809744,
          9664.990623028221,
          9664.990623028221,
          9588.047376809744
         ]
        },
        {
         "fill": "toself",
         "fillcolor": "#FF0000",
         "line": {
          "color": "#CC0000",
          "width": 1
         },
         "marker": {
          "size": 1
         },
         "mode": "markers+lines",
         "showlegend": false,
         "type": "scatter",
         "x": [
          93,
          94,
          94,
          93,
          93
         ],
         "y": [
          9511.825825368569,
          9511.825825368569,
          9588.166508040558,
          9588.166508040558,
          9511.825825368569
         ]
        },
        {
         "fill": "toself",
         "fillcolor": "#FF0000",
         "line": {
          "color": "#CC0000",
          "width": 1
         },
         "marker": {
          "size": 1
         },
         "mode": "markers+lines",
         "showlegend": false,
         "type": "scatter",
         "x": [
          94,
          95,
          95,
          94,
          94
         ],
         "y": [
          9436.20520361984,
          9436.20520361984,
          9511.942578439584,
          9511.942578439584,
          9436.20520361984
         ]
        },
        {
         "fill": "toself",
         "fillcolor": "#FF0000",
         "line": {
          "color": "#CC0000",
          "width": 1
         },
         "marker": {
          "size": 1
         },
         "mode": "markers+lines",
         "showlegend": false,
         "type": "scatter",
         "x": [
          95,
          96,
          96,
          95,
          95
         ],
         "y": [
          9361.18568879064,
          9361.18568879064,
          9436.31963141363,
          9436.31963141363,
          9361.18568879064
         ]
        },
        {
         "fill": "toself",
         "fillcolor": "#FF0000",
         "line": {
          "color": "#CC0000",
          "width": 1
         },
         "marker": {
          "size": 1
         },
         "mode": "markers+lines",
         "showlegend": false,
         "type": "scatter",
         "x": [
          96,
          97,
          97,
          96,
          96
         ],
         "y": [
          9286.766896901967,
          9286.766896901967,
          9361.297844004665,
          9361.297844004665,
          9286.766896901967
         ]
        },
        {
         "fill": "toself",
         "fillcolor": "#FF0000",
         "line": {
          "color": "#CC0000",
          "width": 1
         },
         "marker": {
          "size": 1
         },
         "mode": "markers+lines",
         "showlegend": false,
         "type": "scatter",
         "x": [
          97,
          98,
          98,
          97,
          97
         ],
         "y": [
          9212.947936762903,
          9212.947936762903,
          9286.876832091859,
          9286.876832091859,
          9212.947936762903
         ]
        },
        {
         "fill": "toself",
         "fillcolor": "#FF0000",
         "line": {
          "color": "#CC0000",
          "width": 1
         },
         "marker": {
          "size": 1
         },
         "mode": "markers+lines",
         "showlegend": false,
         "type": "scatter",
         "x": [
          98,
          99,
          99,
          98,
          98
         ],
         "y": [
          9139.727459453106,
          9139.727459453106,
          9213.055704449926,
          9213.055704449926,
          9139.727459453106
         ]
        },
        {
         "fill": "toself",
         "fillcolor": "#FF0000",
         "line": {
          "color": "#CC0000",
          "width": 1
         },
         "marker": {
          "size": 1
         },
         "mode": "markers+lines",
         "showlegend": false,
         "type": "scatter",
         "x": [
          99,
          100,
          100,
          99,
          99
         ],
         "y": [
          9067.103703650571,
          9067.103703650571,
          9139.833112265975,
          9139.833112265975,
          9067.103703650571
         ]
        },
        {
         "fill": "toself",
         "fillcolor": "#FF0000",
         "line": {
          "color": "#CC0000",
          "width": 1
         },
         "marker": {
          "size": 1
         },
         "mode": "markers+lines",
         "showlegend": false,
         "type": "scatter",
         "x": [
          100,
          101,
          101,
          100,
          100
         ],
         "y": [
          8995.074537145398,
          8995.074537145398,
          9067.207294494385,
          9067.207294494385,
          8995.074537145398
         ]
        },
        {
         "fill": "toself",
         "fillcolor": "#FF0000",
         "line": {
          "color": "#CC0000",
          "width": 1
         },
         "marker": {
          "size": 1
         },
         "mode": "markers+lines",
         "showlegend": false,
         "type": "scatter",
         "x": [
          101,
          102,
          102,
          101,
          101
         ],
         "y": [
          8923.637494849338,
          8923.637494849338,
          8995.176119396727,
          8995.176119396727,
          8923.637494849338
         ]
        },
        {
         "fill": "toself",
         "fillcolor": "#FF0000",
         "line": {
          "color": "#CC0000",
          "width": 1
         },
         "marker": {
          "size": 1
         },
         "mode": "markers+lines",
         "showlegend": false,
         "type": "scatter",
         "x": [
          102,
          103,
          103,
          102,
          102
         ],
         "y": [
          8852.789813589181,
          8852.789813589181,
          8923.737122578523,
          8923.737122578523,
          8852.789813589181
         ]
        },
        {
         "fill": "toself",
         "fillcolor": "#FF0000",
         "line": {
          "color": "#CC0000",
          "width": 1
         },
         "marker": {
          "size": 1
         },
         "mode": "markers+lines",
         "showlegend": false,
         "type": "scatter",
         "x": [
          103,
          104,
          104,
          103,
          103
         ],
         "y": [
          8782.528463947814,
          8782.528463947814,
          8852.887541810313,
          8852.887541810313,
          8782.528463947814
         ]
        },
        {
         "fill": "toself",
         "fillcolor": "#FF0000",
         "line": {
          "color": "#CC0000",
          "width": 1
         },
         "marker": {
          "size": 1
         },
         "mode": "markers+lines",
         "showlegend": false,
         "type": "scatter",
         "x": [
          104,
          105,
          105,
          104,
          104
         ],
         "y": [
          8712.85017939544,
          8712.85017939544,
          8782.624348895513,
          8782.624348895513,
          8712.85017939544
         ]
        },
        {
         "fill": "toself",
         "fillcolor": "#FF0000",
         "line": {
          "color": "#CC0000",
          "width": 1
         },
         "marker": {
          "size": 1
         },
         "mode": "markers+lines",
         "showlegend": false,
         "type": "scatter",
         "x": [
          105,
          106,
          106,
          105,
          105
         ],
         "y": [
          8643.751482938209,
          8643.751482938209,
          8712.944278825473,
          8712.944278825473,
          8643.751482938209
         ]
        },
        {
         "fill": "toself",
         "fillcolor": "#FF0000",
         "line": {
          "color": "#CC0000",
          "width": 1
         },
         "marker": {
          "size": 1
         },
         "mode": "markers+lines",
         "showlegend": false,
         "type": "scatter",
         "x": [
          106,
          107,
          107,
          106,
          106
         ],
         "y": [
          8575.228378095804,
          8575.228378095804,
          8643.843856437477,
          8643.843856437477,
          8575.228378095804
         ]
        },
        {
         "fill": "toself",
         "fillcolor": "#FF0000",
         "line": {
          "color": "#CC0000",
          "width": 1
         },
         "marker": {
          "size": 1
         },
         "mode": "markers+lines",
         "showlegend": false,
         "type": "scatter",
         "x": [
          107,
          108,
          108,
          107,
          107
         ],
         "y": [
          8507.276021530359,
          8507.276021530359,
          8575.319754171333,
          8575.319754171333,
          8507.276021530359
         ]
        },
        {
         "fill": "toself",
         "fillcolor": "#FF0000",
         "line": {
          "color": "#CC0000",
          "width": 1
         },
         "marker": {
          "size": 1
         },
         "mode": "markers+lines",
         "showlegend": false,
         "type": "scatter",
         "x": [
          108,
          109,
          109,
          108,
          108
         ],
         "y": [
          8439.891923828398,
          8439.891923828398,
          8507.369163973302,
          8507.369163973302,
          8439.891923828398
         ]
        },
        {
         "fill": "toself",
         "fillcolor": "#FF0000",
         "line": {
          "color": "#CC0000",
          "width": 1
         },
         "marker": {
          "size": 1
         },
         "mode": "markers+lines",
         "showlegend": false,
         "type": "scatter",
         "x": [
          109,
          110,
          110,
          109,
          109
         ],
         "y": [
          8373.071996503715,
          8373.071996503715,
          8439.986637188607,
          8439.986637188607,
          8373.071996503715
         ]
        },
        {
         "fill": "toself",
         "fillcolor": "#FF0000",
         "line": {
          "color": "#CC0000",
          "width": 1
         },
         "marker": {
          "size": 1
         },
         "mode": "markers+lines",
         "showlegend": false,
         "type": "scatter",
         "x": [
          110,
          111,
          111,
          110,
          110
         ],
         "y": [
          8306.81204107029,
          8306.81204107029,
          8373.168074688268,
          8373.168074688268,
          8306.81204107029
         ]
        },
        {
         "fill": "toself",
         "fillcolor": "#FF0000",
         "line": {
          "color": "#CC0000",
          "width": 1
         },
         "marker": {
          "size": 1
         },
         "mode": "markers+lines",
         "showlegend": false,
         "type": "scatter",
         "x": [
          111,
          112,
          112,
          111,
          111
         ],
         "y": [
          8241.107763543632,
          8241.107763543632,
          8306.909271668894,
          8306.909271668894,
          8241.107763543632
         ]
        },
        {
         "fill": "toself",
         "fillcolor": "#FF0000",
         "line": {
          "color": "#CC0000",
          "width": 1
         },
         "marker": {
          "size": 1
         },
         "mode": "markers+lines",
         "showlegend": false,
         "type": "scatter",
         "x": [
          112,
          113,
          113,
          112,
          112
         ],
         "y": [
          8175.954787741366,
          8175.954787741366,
          8241.205934032138,
          8241.205934032138,
          8175.954787741366
         ]
        },
        {
         "fill": "toself",
         "fillcolor": "#FF0000",
         "line": {
          "color": "#CC0000",
          "width": 1
         },
         "marker": {
          "size": 1
         },
         "mode": "markers+lines",
         "showlegend": false,
         "type": "scatter",
         "x": [
          113,
          114,
          114,
          113,
          113
         ],
         "y": [
          8111.348667816076,
          8111.348667816076,
          8176.05369321627,
          8176.05369321627,
          8111.348667816076
         ]
        },
        {
         "fill": "toself",
         "fillcolor": "#FF0000",
         "line": {
          "color": "#CC0000",
          "width": 1
         },
         "marker": {
          "size": 1
         },
         "mode": "markers+lines",
         "showlegend": false,
         "type": "scatter",
         "x": [
          114,
          115,
          115,
          114,
          114
         ],
         "y": [
          8047.284900350452,
          8047.284900350452,
          8111.448119270738,
          8111.448119270738,
          8047.284900350452
         ]
        },
        {
         "fill": "toself",
         "fillcolor": "#FF0000",
         "line": {
          "color": "#CC0000",
          "width": 1
         },
         "marker": {
          "size": 1
         },
         "mode": "markers+lines",
         "showlegend": false,
         "type": "scatter",
         "x": [
          115,
          116,
          116,
          115,
          115
         ],
         "y": [
          7983.7589361059,
          7983.7589361059,
          8047.384732049411,
          8047.384732049411,
          7983.7589361059
         ]
        },
        {
         "fill": "toself",
         "fillcolor": "#FF0000",
         "line": {
          "color": "#CC0000",
          "width": 1
         },
         "marker": {
          "size": 1
         },
         "mode": "markers+lines",
         "showlegend": false,
         "type": "scatter",
         "x": [
          116,
          117,
          117,
          116,
          116
         ],
         "y": [
          7920.76619122992,
          7920.76619122992,
          7983.859010620654,
          7983.859010620654,
          7920.76619122992
         ]
        },
        {
         "fill": "toself",
         "fillcolor": "#FF0000",
         "line": {
          "color": "#CC0000",
          "width": 1
         },
         "marker": {
          "size": 1
         },
         "mode": "markers+lines",
         "showlegend": false,
         "type": "scatter",
         "x": [
          117,
          118,
          118,
          117,
          117
         ],
         "y": [
          7858.302057531606,
          7858.302057531606,
          7920.8664012639065,
          7920.8664012639065,
          7858.302057531606
         ]
        },
        {
         "fill": "toself",
         "fillcolor": "#FF0000",
         "line": {
          "color": "#CC0000",
          "width": 1
         },
         "marker": {
          "size": 1
         },
         "mode": "markers+lines",
         "showlegend": false,
         "type": "scatter",
         "x": [
          118,
          119,
          119,
          118,
          118
         ],
         "y": [
          7796.3619115269275,
          7796.3619115269275,
          7858.402324603028,
          7858.402324603028,
          7796.3619115269275
         ]
        },
        {
         "fill": "toself",
         "fillcolor": "#FF0000",
         "line": {
          "color": "#CC0000",
          "width": 1
         },
         "marker": {
          "size": 1
         },
         "mode": "markers+lines",
         "showlegend": false,
         "type": "scatter",
         "x": [
          119,
          120,
          120,
          119,
          119
         ],
         "y": [
          7734.941122172554,
          7734.941122172554,
          7796.462182323138,
          7796.462182323138,
          7734.941122172554
         ]
        },
        {
         "fill": "toself",
         "fillcolor": "#FF0000",
         "line": {
          "color": "#CC0000",
          "width": 1
         },
         "marker": {
          "size": 1
         },
         "mode": "markers+lines",
         "showlegend": false,
         "type": "scatter",
         "x": [
          120,
          121,
          121,
          120,
          120
         ],
         "y": [
          7674.035057413997,
          7674.035057413997,
          7735.041363687999,
          7735.041363687999,
          7674.035057413997
         ]
        },
        {
         "fill": "toself",
         "fillcolor": "#FF0000",
         "line": {
          "color": "#CC0000",
          "width": 1
         },
         "marker": {
          "size": 1
         },
         "mode": "markers+lines",
         "showlegend": false,
         "type": "scatter",
         "x": [
          121,
          122,
          122,
          121,
          121
         ],
         "y": [
          7613.639089799249,
          7613.639089799249,
          7674.135251857292,
          7674.135251857292,
          7613.639089799249
         ]
        },
        {
         "fill": "toself",
         "fillcolor": "#FF0000",
         "line": {
          "color": "#CC0000",
          "width": 1
         },
         "marker": {
          "size": 1
         },
         "mode": "markers+lines",
         "showlegend": false,
         "type": "scatter",
         "x": [
          122,
          123,
          123,
          122,
          122
         ],
         "y": [
          7553.748601242015,
          7553.748601242015,
          7613.739229868032,
          7613.739229868032,
          7553.748601242015
         ]
        },
        {
         "fill": "toself",
         "fillcolor": "#FF0000",
         "line": {
          "color": "#CC0000",
          "width": 1
         },
         "marker": {
          "size": 1
         },
         "mode": "markers+lines",
         "showlegend": false,
         "type": "scatter",
         "x": [
          123,
          124,
          124,
          123,
          123
         ],
         "y": [
          7494.3589872638795,
          7494.3589872638795,
          7553.848686302153,
          7553.848686302153,
          7494.3589872638795
         ]
        },
        {
         "fill": "toself",
         "fillcolor": "#FF0000",
         "line": {
          "color": "#CC0000",
          "width": 1
         },
         "marker": {
          "size": 1
         },
         "mode": "markers+lines",
         "showlegend": false,
         "type": "scatter",
         "x": [
          124,
          125,
          125,
          124,
          124
         ],
         "y": [
          7435.465660781828,
          7435.465660781828,
          7494.459020408466,
          7494.459020408466,
          7435.465660781828
         ]
        },
        {
         "fill": "toself",
         "fillcolor": "#FF0000",
         "line": {
          "color": "#CC0000",
          "width": 1
         },
         "marker": {
          "size": 1
         },
         "mode": "markers+lines",
         "showlegend": false,
         "type": "scatter",
         "x": [
          125,
          126,
          126,
          125,
          125
         ],
         "y": [
          7377.0640554932,
          7377.0640554932,
          7435.56564670273,
          7435.56564670273,
          7377.0640554932
         ]
        },
        {
         "fill": "toself",
         "fillcolor": "#FF0000",
         "line": {
          "color": "#CC0000",
          "width": 1
         },
         "marker": {
          "size": 1
         },
         "mode": "markers+lines",
         "showlegend": false,
         "type": "scatter",
         "x": [
          126,
          127,
          127,
          126,
          126
         ],
         "y": [
          7319.149628931631,
          7319.149628931631,
          7377.163999076247,
          7377.163999076247,
          7319.149628931631
         ]
        },
        {
         "fill": "toself",
         "fillcolor": "#FF0000",
         "line": {
          "color": "#CC0000",
          "width": 1
         },
         "marker": {
          "size": 1
         },
         "mode": "markers+lines",
         "showlegend": false,
         "type": "scatter",
         "x": [
          127,
          128,
          128,
          127,
          127
         ],
         "y": [
          7261.7178652292,
          7261.7178652292,
          7319.249534415832,
          7319.249534415832,
          7261.7178652292
         ]
        },
        {
         "fill": "toself",
         "fillcolor": "#FF0000",
         "line": {
          "color": "#CC0000",
          "width": 1
         },
         "marker": {
          "size": 1
         },
         "mode": "markers+lines",
         "showlegend": false,
         "type": "scatter",
         "x": [
          128,
          129,
          129,
          128,
          128
         ],
         "y": [
          7204.764277605801,
          7204.764277605801,
          7261.817735769896,
          7261.817735769896,
          7204.764277605801
         ]
        },
        {
         "fill": "toself",
         "fillcolor": "#FF0000",
         "line": {
          "color": "#CC0000",
          "width": 1
         },
         "marker": {
          "size": 1
         },
         "mode": "markers+lines",
         "showlegend": false,
         "type": "scatter",
         "x": [
          129,
          130,
          130,
          129,
          129
         ],
         "y": [
          7148.284410600248,
          7148.284410600248,
          7204.86411510414,
          7204.86411510414,
          7148.284410600248
         ]
        },
        {
         "fill": "toself",
         "fillcolor": "#FF0000",
         "line": {
          "color": "#CC0000",
          "width": 1
         },
         "marker": {
          "size": 1
         },
         "mode": "markers+lines",
         "showlegend": false,
         "type": "scatter",
         "x": [
          130,
          131,
          131,
          130,
          130
         ],
         "y": [
          7092.273842053461,
          7092.273842053461,
          7148.384215691668,
          7148.384215691668,
          7092.273842053461
         ]
        },
        {
         "fill": "toself",
         "fillcolor": "#FF0000",
         "line": {
          "color": "#CC0000",
          "width": 1
         },
         "marker": {
          "size": 1
         },
         "mode": "markers+lines",
         "showlegend": false,
         "type": "scatter",
         "x": [
          131,
          132,
          132,
          131,
          131
         ],
         "y": [
          7036.728184855443,
          7036.728184855443,
          7092.373614181834,
          7092.373614181834,
          7036.728184855443
         ]
        },
        {
         "fill": "toself",
         "fillcolor": "#FF0000",
         "line": {
          "color": "#CC0000",
          "width": 1
         },
         "marker": {
          "size": 1
         },
         "mode": "markers+lines",
         "showlegend": false,
         "type": "scatter",
         "x": [
          132,
          133,
          133,
          132,
          132
         ],
         "y": [
          6981.643088469573,
          6981.643088469573,
          7036.8279223861155,
          7036.8279223861155,
          6981.643088469573
         ]
        },
        {
         "fill": "toself",
         "fillcolor": "#FF0000",
         "line": {
          "color": "#CC0000",
          "width": 1
         },
         "marker": {
          "size": 1
         },
         "mode": "markers+lines",
         "showlegend": false,
         "type": "scatter",
         "x": [
          133,
          134,
          134,
          133,
          133
         ],
         "y": [
          6927.0142402487545,
          6927.0142402487545,
          6981.742788813823,
          6981.742788813823,
          6927.0142402487545
         ]
        },
        {
         "fill": "toself",
         "fillcolor": "#FF0000",
         "line": {
          "color": "#CC0000",
          "width": 1
         },
         "marker": {
          "size": 1
         },
         "mode": "markers+lines",
         "showlegend": false,
         "type": "scatter",
         "x": [
          134,
          135,
          135,
          134,
          134
         ],
         "y": [
          6872.8373665594345,
          6872.8373665594345,
          6927.113899985396,
          6927.113899985396,
          6872.8373665594345
         ]
        },
        {
         "fill": "toself",
         "fillcolor": "#FF0000",
         "line": {
          "color": "#CC0000",
          "width": 1
         },
         "marker": {
          "size": 1
         },
         "mode": "markers+lines",
         "showlegend": false,
         "type": "scatter",
         "x": [
          135,
          136,
          136,
          135,
          135
         ],
         "y": [
          6819.108233728741,
          6819.108233728741,
          6872.936981546264,
          6872.936981546264,
          6819.108233728741
         ]
        },
        {
         "fill": "toself",
         "fillcolor": "#FF0000",
         "line": {
          "color": "#CC0000",
          "width": 1
         },
         "marker": {
          "size": 1
         },
         "mode": "markers+lines",
         "showlegend": false,
         "type": "scatter",
         "x": [
          136,
          137,
          137,
          136,
          136
         ],
         "y": [
          6765.822648830329,
          6765.822648830329,
          6819.207799202028,
          6819.207799202028,
          6765.822648830329
         ]
        },
        {
         "fill": "toself",
         "fillcolor": "#FF0000",
         "line": {
          "color": "#CC0000",
          "width": 1
         },
         "marker": {
          "size": 1
         },
         "mode": "markers+lines",
         "showlegend": false,
         "type": "scatter",
         "x": [
          137,
          138,
          138,
          137,
          137
         ],
         "y": [
          6712.976460323389,
          6712.976460323389,
          6765.922159491926,
          6765.922159491926,
          6712.976460323389
         ]
        },
        {
         "fill": "toself",
         "fillcolor": "#FF0000",
         "line": {
          "color": "#CC0000",
          "width": 1
         },
         "marker": {
          "size": 1
         },
         "mode": "markers+lines",
         "showlegend": false,
         "type": "scatter",
         "x": [
          138,
          139,
          139,
          138,
          138
         ],
         "y": [
          6660.565558558731,
          6660.565558558731,
          6713.0759104166045,
          6713.0759104166045,
          6660.565558558731
         ]
        },
        {
         "fill": "toself",
         "fillcolor": "#FF0000",
         "line": {
          "color": "#CC0000",
          "width": 1
         },
         "marker": {
          "size": 1
         },
         "mode": "markers+lines",
         "showlegend": false,
         "type": "scatter",
         "x": [
          139,
          140,
          140,
          139,
          139
         ],
         "y": [
          6608.585876164111,
          6608.585876164111,
          6660.664941933986,
          6660.664941933986,
          6608.585876164111
         ]
        },
        {
         "fill": "toself",
         "fillcolor": "#FF0000",
         "line": {
          "color": "#CC0000",
          "width": 1
         },
         "marker": {
          "size": 1
         },
         "mode": "markers+lines",
         "showlegend": false,
         "type": "scatter",
         "x": [
          140,
          141,
          141,
          140,
          140
         ],
         "y": [
          6557.033388321163,
          6557.033388321163,
          6608.6851863363345,
          6608.6851863363345,
          6557.033388321163
         ]
        },
        {
         "fill": "toself",
         "fillcolor": "#FF0000",
         "line": {
          "color": "#CC0000",
          "width": 1
         },
         "marker": {
          "size": 1
         },
         "mode": "markers+lines",
         "showlegend": false,
         "type": "scatter",
         "x": [
          141,
          142,
          142,
          141,
          141
         ],
         "y": [
          6505.904112944133,
          6505.904112944133,
          6557.132618519753,
          6557.132618519753,
          6505.904112944133
         ]
        },
        {
         "fill": "toself",
         "fillcolor": "#FF0000",
         "line": {
          "color": "#CC0000",
          "width": 1
         },
         "marker": {
          "size": 1
         },
         "mode": "markers+lines",
         "showlegend": false,
         "type": "scatter",
         "x": [
          142,
          143,
          143,
          142,
          142
         ],
         "y": [
          6455.194110770809,
          6455.194110770809,
          6506.003256156991,
          6506.003256156991,
          6455.194110770809
         ]
        },
        {
         "fill": "toself",
         "fillcolor": "#FF0000",
         "line": {
          "color": "#CC0000",
          "width": 1
         },
         "marker": {
          "size": 1
         },
         "mode": "markers+lines",
         "showlegend": false,
         "type": "scatter",
         "x": [
          143,
          144,
          144,
          143,
          143
         ],
         "y": [
          6404.899485374183,
          6404.899485374183,
          6455.293159783117,
          6455.293159783117,
          6404.899485374183
         ]
        },
        {
         "fill": "toself",
         "fillcolor": "#FF0000",
         "line": {
          "color": "#CC0000",
          "width": 1
         },
         "marker": {
          "size": 1
         },
         "mode": "markers+lines",
         "showlegend": false,
         "type": "scatter",
         "x": [
          144,
          145,
          145,
          144,
          144
         ],
         "y": [
          6355.016383103651,
          6355.016383103651,
          6404.99843280314,
          6404.99843280314,
          6355.016383103651
         ]
        },
        {
         "fill": "toself",
         "fillcolor": "#FF0000",
         "line": {
          "color": "#CC0000",
          "width": 1
         },
         "marker": {
          "size": 1
         },
         "mode": "markers+lines",
         "showlegend": false,
         "type": "scatter",
         "x": [
          145,
          146,
          146,
          145,
          145
         ],
         "y": [
          6305.54099296294,
          6305.54099296294,
          6355.115221429497,
          6355.115221429497,
          6305.54099296294
         ]
        },
        {
         "fill": "toself",
         "fillcolor": "#FF0000",
         "line": {
          "color": "#CC0000",
          "width": 1
         },
         "marker": {
          "size": 1
         },
         "mode": "markers+lines",
         "showlegend": false,
         "type": "scatter",
         "x": [
          146,
          147,
          147,
          146,
          146
         ],
         "y": [
          6256.469546431963,
          6256.469546431963,
          6305.639714556968,
          6305.639714556968,
          6256.469546431963
         ]
        },
        {
         "fill": "toself",
         "fillcolor": "#FF0000",
         "line": {
          "color": "#CC0000",
          "width": 1
         },
         "marker": {
          "size": 1
         },
         "mode": "markers+lines",
         "showlegend": false,
         "type": "scatter",
         "x": [
          147,
          148,
          148,
          147,
          147
         ],
         "y": [
          6207.798317238735,
          6207.798317238735,
          6256.568143581897,
          6256.568143581897,
          6207.798317238735
         ]
        },
        {
         "fill": "toself",
         "fillcolor": "#FF0000",
         "line": {
          "color": "#CC0000",
          "width": 1
         },
         "marker": {
          "size": 1
         },
         "mode": "markers+lines",
         "showlegend": false,
         "type": "scatter",
         "x": [
          148,
          149,
          149,
          148,
          148
         ],
         "y": [
          6159.523621087213,
          6159.523621087213,
          6207.896782171841,
          6207.896782171841,
          6159.523621087213
         ]
        },
        {
         "fill": "toself",
         "fillcolor": "#FF0000",
         "line": {
          "color": "#CC0000",
          "width": 1
         },
         "marker": {
          "size": 1
         },
         "mode": "markers+lines",
         "showlegend": false,
         "type": "scatter",
         "x": [
          149,
          150,
          150,
          149,
          149
         ],
         "y": [
          6111.641815346255,
          6111.641815346255,
          6159.621945991435,
          6159.621945991435,
          6111.641815346255
         ]
        },
        {
         "fill": "toself",
         "fillcolor": "#FF0000",
         "line": {
          "color": "#CC0000",
          "width": 1
         },
         "marker": {
          "size": 1
         },
         "mode": "markers+lines",
         "showlegend": false,
         "type": "scatter",
         "x": [
          150,
          151,
          151,
          150,
          150
         ],
         "y": [
          6064.14929870472,
          6064.14929870472,
          6111.739992389659,
          6111.739992389659,
          6064.14929870472
         ]
        },
        {
         "fill": "toself",
         "fillcolor": "#FF0000",
         "line": {
          "color": "#CC0000",
          "width": 1
         },
         "marker": {
          "size": 1
         },
         "mode": "markers+lines",
         "showlegend": false,
         "type": "scatter",
         "x": [
          151,
          152,
          152,
          151,
          151
         ],
         "y": [
          6017.042510796586,
          6017.042510796586,
          6064.247320053129,
          6064.247320053129,
          6017.042510796586
         ]
        },
        {
         "fill": "toself",
         "fillcolor": "#FF0000",
         "line": {
          "color": "#CC0000",
          "width": 1
         },
         "marker": {
          "size": 1
         },
         "mode": "markers+lines",
         "showlegend": false,
         "type": "scatter",
         "x": [
          152,
          153,
          153,
          152,
          152
         ],
         "y": [
          5970.317931800705,
          5970.317931800705,
          6017.140368630113,
          6017.140368630113,
          5970.317931800705
         ]
        },
        {
         "fill": "toself",
         "fillcolor": "#FF0000",
         "line": {
          "color": "#CC0000",
          "width": 1
         },
         "marker": {
          "size": 1
         },
         "mode": "markers+lines",
         "showlegend": false,
         "type": "scatter",
         "x": [
          153,
          154,
          154,
          153,
          153
         ],
         "y": [
          5923.972082018187,
          5923.972082018187,
          5970.415618328586,
          5970.415618328586,
          5923.972082018187
         ]
        },
        {
         "fill": "toself",
         "fillcolor": "#FF0000",
         "line": {
          "color": "#CC0000",
          "width": 1
         },
         "marker": {
          "size": 1
         },
         "mode": "markers+lines",
         "showlegend": false,
         "type": "scatter",
         "x": [
          154,
          155,
          155,
          154,
          154
         ],
         "y": [
          5878.001521431034,
          5878.001521431034,
          5924.069589492595,
          5924.069589492595,
          5878.001521431034
         ]
        },
        {
         "fill": "toself",
         "fillcolor": "#FF0000",
         "line": {
          "color": "#CC0000",
          "width": 1
         },
         "marker": {
          "size": 1
         },
         "mode": "markers+lines",
         "showlegend": false,
         "type": "scatter",
         "x": [
          155,
          156,
          156,
          155,
          155
         ],
         "y": [
          5832.402849245001,
          5832.402849245001,
          5878.0988421597385,
          5878.0988421597385,
          5832.402849245001
         ]
        },
        {
         "fill": "toself",
         "fillcolor": "#FF0000",
         "line": {
          "color": "#CC0000",
          "width": 1
         },
         "marker": {
          "size": 1
         },
         "mode": "markers+lines",
         "showlegend": false,
         "type": "scatter",
         "x": [
          156,
          157,
          157,
          156,
          156
         ],
         "y": [
          5787.172703419053,
          5787.172703419053,
          5832.499975602842,
          5832.499975602842,
          5787.172703419053
         ]
        },
        {
         "fill": "toself",
         "fillcolor": "#FF0000",
         "line": {
          "color": "#CC0000",
          "width": 1
         },
         "marker": {
          "size": 1
         },
         "mode": "markers+lines",
         "showlegend": false,
         "type": "scatter",
         "x": [
          157,
          158,
          158,
          157,
          157
         ],
         "y": [
          5742.307760184402,
          5742.307760184402,
          5787.269627858644,
          5787.269627858644,
          5742.307760184402
         ]
        },
        {
         "fill": "toself",
         "fillcolor": "#FF0000",
         "line": {
          "color": "#CC0000",
          "width": 1
         },
         "marker": {
          "size": 1
         },
         "mode": "markers+lines",
         "showlegend": false,
         "type": "scatter",
         "x": [
          158,
          159,
          159,
          158,
          158
         ],
         "y": [
          5697.804733554689,
          5697.804733554689,
          5742.404475245543,
          5742.404475245543,
          5697.804733554689
         ]
        },
        {
         "fill": "toself",
         "fillcolor": "#FF0000",
         "line": {
          "color": "#CC0000",
          "width": 1
         },
         "marker": {
          "size": 1
         },
         "mode": "markers+lines",
         "showlegend": false,
         "type": "scatter",
         "x": [
          159,
          160,
          160,
          159,
          159
         ],
         "y": [
          5653.660374829719,
          5653.660374829719,
          5697.901231873111,
          5697.901231873111,
          5653.660374829719
         ]
        },
        {
         "fill": "toself",
         "fillcolor": "#FF0000",
         "line": {
          "color": "#CC0000",
          "width": 1
         },
         "marker": {
          "size": 1
         },
         "mode": "markers+lines",
         "showlegend": false,
         "type": "scatter",
         "x": [
          160,
          161,
          161,
          160,
          160
         ],
         "y": [
          5609.871472094422,
          5609.871472094422,
          5653.756649144919,
          5653.756649144919,
          5609.871472094422
         ]
        },
        {
         "fill": "toself",
         "fillcolor": "#FF0000",
         "line": {
          "color": "#CC0000",
          "width": 1
         },
         "marker": {
          "size": 1
         },
         "mode": "markers+lines",
         "showlegend": false,
         "type": "scatter",
         "x": [
          161,
          162,
          162,
          161,
          161
         ],
         "y": [
          5566.434849714575,
          5566.434849714575,
          5609.967515256681,
          5609.967515256681,
          5566.434849714575
         ]
        },
        {
         "fill": "toself",
         "fillcolor": "#FF0000",
         "line": {
          "color": "#CC0000",
          "width": 1
         },
         "marker": {
          "size": 1
         },
         "mode": "markers+lines",
         "showlegend": false,
         "type": "scatter",
         "x": [
          162,
          163,
          163,
          162,
          162
         ],
         "y": [
          5523.3473678307755,
          5523.3473678307755,
          5566.530654691211,
          5566.530654691211,
          5523.3473678307755
         ]
        },
        {
         "fill": "toself",
         "fillcolor": "#FF0000",
         "line": {
          "color": "#CC0000",
          "width": 1
         },
         "marker": {
          "size": 1
         },
         "mode": "markers+lines",
         "showlegend": false,
         "type": "scatter",
         "x": [
          163,
          164,
          164,
          163,
          163
         ],
         "y": [
          5480.605921851958,
          5480.605921851958,
          5523.4429277117115,
          5523.4429277117115,
          5480.605921851958
         ]
        },
        {
         "fill": "toself",
         "fillcolor": "#FF0000",
         "line": {
          "color": "#CC0000",
          "width": 1
         },
         "marker": {
          "size": 1
         },
         "mode": "markers+lines",
         "showlegend": false,
         "type": "scatter",
         "x": [
          164,
          165,
          165,
          164,
          164
         ],
         "y": [
          5438.20744194951,
          5438.20744194951,
          5480.701229854566,
          5480.701229854566,
          5438.20744194951
         ]
        },
        {
         "fill": "toself",
         "fillcolor": "#FF0000",
         "line": {
          "color": "#CC0000",
          "width": 1
         },
         "marker": {
          "size": 1
         },
         "mode": "markers+lines",
         "showlegend": false,
         "type": "scatter",
         "x": [
          165,
          166,
          166,
          165,
          165
         ],
         "y": [
          5396.148892553161,
          5396.148892553161,
          5438.302491422916,
          5438.302491422916,
          5396.148892553161
         ]
        },
        {
         "fill": "toself",
         "fillcolor": "#FF0000",
         "line": {
          "color": "#CC0000",
          "width": 1
         },
         "marker": {
          "size": 1
         },
         "mode": "markers+lines",
         "showlegend": false,
         "type": "scatter",
         "x": [
          166,
          167,
          167,
          166,
          166
         ],
         "y": [
          5354.427271849371,
          5354.427271849371,
          5396.243676981916,
          5396.243676981916,
          5354.427271849371
         ]
        },
        {
         "fill": "toself",
         "fillcolor": "#FF0000",
         "line": {
          "color": "#CC0000",
          "width": 1
         },
         "marker": {
          "size": 1
         },
         "mode": "markers+lines",
         "showlegend": false,
         "type": "scatter",
         "x": [
          167,
          168,
          168,
          167,
          167
         ],
         "y": [
          5313.039611283197,
          5313.039611283197,
          5354.521784856638,
          5354.521784856638,
          5313.039611283197
         ]
        },
        {
         "fill": "toself",
         "fillcolor": "#FF0000",
         "line": {
          "color": "#CC0000",
          "width": 1
         },
         "marker": {
          "size": 1
         },
         "mode": "markers+lines",
         "showlegend": false,
         "type": "scatter",
         "x": [
          168,
          169,
          169,
          168,
          168
         ],
         "y": [
          5271.982975064205,
          5271.982975064205,
          5313.133846633371,
          5313.133846633371,
          5271.982975064205
         ]
        },
        {
         "fill": "toself",
         "fillcolor": "#FF0000",
         "line": {
          "color": "#CC0000",
          "width": 1
         },
         "marker": {
          "size": 1
         },
         "mode": "markers+lines",
         "showlegend": false,
         "type": "scatter",
         "x": [
          169,
          170,
          170,
          169,
          169
         ],
         "y": [
          5231.254459677008,
          5231.254459677008,
          5272.076926665038,
          5272.076926665038,
          5231.254459677008
         ]
        },
        {
         "fill": "toself",
         "fillcolor": "#FF0000",
         "line": {
          "color": "#CC0000",
          "width": 1
         },
         "marker": {
          "size": 1
         },
         "mode": "markers+lines",
         "showlegend": false,
         "type": "scatter",
         "x": [
          170,
          171,
          171,
          170,
          170
         ],
         "y": [
          5190.851193397177,
          5190.851193397177,
          5231.348121581443,
          5231.348121581443,
          5190.851193397177
         ]
        },
        {
         "fill": "toself",
         "fillcolor": "#FF0000",
         "line": {
          "color": "#CC0000",
          "width": 1
         },
         "marker": {
          "size": 1
         },
         "mode": "markers+lines",
         "showlegend": false,
         "type": "scatter",
         "x": [
          171,
          172,
          172,
          171,
          171
         ],
         "y": [
          5150.770335812732,
          5150.770335812732,
          5190.944559804635,
          5190.944559804635,
          5150.770335812732
         ]
        },
        {
         "fill": "toself",
         "fillcolor": "#FF0000",
         "line": {
          "color": "#CC0000",
          "width": 1
         },
         "marker": {
          "size": 1
         },
         "mode": "markers+lines",
         "showlegend": false,
         "type": "scatter",
         "x": [
          172,
          173,
          173,
          172,
          172
         ],
         "y": [
          5111.009077351773,
          5111.009077351773,
          5150.863401070142,
          5150.863401070142,
          5111.009077351773
         ]
        },
        {
         "fill": "toself",
         "fillcolor": "#FF0000",
         "line": {
          "color": "#CC0000",
          "width": 1
         },
         "marker": {
          "size": 1
         },
         "mode": "markers+lines",
         "showlegend": false,
         "type": "scatter",
         "x": [
          173,
          174,
          174,
          173,
          173
         ],
         "y": [
          5071.564638816591,
          5071.564638816591,
          5111.101835954252,
          5111.101835954252,
          5071.564638816591
         ]
        },
        {
         "fill": "toself",
         "fillcolor": "#FF0000",
         "line": {
          "color": "#CC0000",
          "width": 1
         },
         "marker": {
          "size": 1
         },
         "mode": "markers+lines",
         "showlegend": false,
         "type": "scatter",
         "x": [
          174,
          175,
          175,
          174,
          174
         ],
         "y": [
          5032.434270924368,
          5032.434270924368,
          5071.657085407734,
          5071.657085407734,
          5032.434270924368
         ]
        },
        {
         "fill": "toself",
         "fillcolor": "#FF0000",
         "line": {
          "color": "#CC0000",
          "width": 1
         },
         "marker": {
          "size": 1
         },
         "mode": "markers+lines",
         "showlegend": false,
         "type": "scatter",
         "x": [
          175,
          176,
          176,
          175,
          175
         ],
         "y": [
          4993.6152538549395,
          4993.6152538549395,
          5032.526400296367,
          5032.526400296367,
          4993.6152538549395
         ]
        },
        {
         "fill": "toself",
         "fillcolor": "#FF0000",
         "line": {
          "color": "#CC0000",
          "width": 1
         },
         "marker": {
          "size": 1
         },
         "mode": "markers+lines",
         "showlegend": false,
         "type": "scatter",
         "x": [
          176,
          177,
          177,
          176,
          176
         ],
         "y": [
          4955.104896805608,
          4955.104896805608,
          4993.7070609484,
          4993.7070609484,
          4955.104896805608
         ]
        },
        {
         "fill": "toself",
         "fillcolor": "#FF0000",
         "line": {
          "color": "#CC0000",
          "width": 1
         },
         "marker": {
          "size": 1
         },
         "mode": "markers+lines",
         "showlegend": false,
         "type": "scatter",
         "x": [
          177,
          178,
          178,
          177,
          177
         ],
         "y": [
          4916.900537553353,
          4916.900537553353,
          4955.196376709208,
          4955.196376709208,
          4916.900537553353
         ]
        },
        {
         "fill": "toself",
         "fillcolor": "#FF0000",
         "line": {
          "color": "#CC0000",
          "width": 1
         },
         "marker": {
          "size": 1
         },
         "mode": "markers+lines",
         "showlegend": false,
         "type": "scatter",
         "x": [
          178,
          179,
          179,
          178,
          178
         ],
         "y": [
          4878.999542024317,
          4878.999542024317,
          4916.991685503167,
          4916.991685503167,
          4878.999542024317
         ]
        },
        {
         "fill": "toself",
         "fillcolor": "#FF0000",
         "line": {
          "color": "#CC0000",
          "width": 1
         },
         "marker": {
          "size": 1
         },
         "mode": "markers+lines",
         "showlegend": false,
         "type": "scatter",
         "x": [
          179,
          180,
          180,
          179,
          179
         ],
         "y": [
          4841.399303870868,
          4841.399303870868,
          4879.090353403067,
          4879.090353403067,
          4841.399303870868
         ]
        }
       ],
       "layout": {
        "font": {
         "size": 32
        },
        "plot_bgcolor": "rgba(0,0,0,0)",
        "template": {
         "data": {
          "bar": [
           {
            "error_x": {
             "color": "#2a3f5f"
            },
            "error_y": {
             "color": "#2a3f5f"
            },
            "marker": {
             "line": {
              "color": "#E5ECF6",
              "width": 0.5
             },
             "pattern": {
              "fillmode": "overlay",
              "size": 10,
              "solidity": 0.2
             }
            },
            "type": "bar"
           }
          ],
          "barpolar": [
           {
            "marker": {
             "line": {
              "color": "#E5ECF6",
              "width": 0.5
             },
             "pattern": {
              "fillmode": "overlay",
              "size": 10,
              "solidity": 0.2
             }
            },
            "type": "barpolar"
           }
          ],
          "carpet": [
           {
            "aaxis": {
             "endlinecolor": "#2a3f5f",
             "gridcolor": "white",
             "linecolor": "white",
             "minorgridcolor": "white",
             "startlinecolor": "#2a3f5f"
            },
            "baxis": {
             "endlinecolor": "#2a3f5f",
             "gridcolor": "white",
             "linecolor": "white",
             "minorgridcolor": "white",
             "startlinecolor": "#2a3f5f"
            },
            "type": "carpet"
           }
          ],
          "choropleth": [
           {
            "colorbar": {
             "outlinewidth": 0,
             "ticks": ""
            },
            "type": "choropleth"
           }
          ],
          "contour": [
           {
            "colorbar": {
             "outlinewidth": 0,
             "ticks": ""
            },
            "colorscale": [
             [
              0,
              "#0d0887"
             ],
             [
              0.1111111111111111,
              "#46039f"
             ],
             [
              0.2222222222222222,
              "#7201a8"
             ],
             [
              0.3333333333333333,
              "#9c179e"
             ],
             [
              0.4444444444444444,
              "#bd3786"
             ],
             [
              0.5555555555555556,
              "#d8576b"
             ],
             [
              0.6666666666666666,
              "#ed7953"
             ],
             [
              0.7777777777777778,
              "#fb9f3a"
             ],
             [
              0.8888888888888888,
              "#fdca26"
             ],
             [
              1,
              "#f0f921"
             ]
            ],
            "type": "contour"
           }
          ],
          "contourcarpet": [
           {
            "colorbar": {
             "outlinewidth": 0,
             "ticks": ""
            },
            "type": "contourcarpet"
           }
          ],
          "heatmap": [
           {
            "colorbar": {
             "outlinewidth": 0,
             "ticks": ""
            },
            "colorscale": [
             [
              0,
              "#0d0887"
             ],
             [
              0.1111111111111111,
              "#46039f"
             ],
             [
              0.2222222222222222,
              "#7201a8"
             ],
             [
              0.3333333333333333,
              "#9c179e"
             ],
             [
              0.4444444444444444,
              "#bd3786"
             ],
             [
              0.5555555555555556,
              "#d8576b"
             ],
             [
              0.6666666666666666,
              "#ed7953"
             ],
             [
              0.7777777777777778,
              "#fb9f3a"
             ],
             [
              0.8888888888888888,
              "#fdca26"
             ],
             [
              1,
              "#f0f921"
             ]
            ],
            "type": "heatmap"
           }
          ],
          "heatmapgl": [
           {
            "colorbar": {
             "outlinewidth": 0,
             "ticks": ""
            },
            "colorscale": [
             [
              0,
              "#0d0887"
             ],
             [
              0.1111111111111111,
              "#46039f"
             ],
             [
              0.2222222222222222,
              "#7201a8"
             ],
             [
              0.3333333333333333,
              "#9c179e"
             ],
             [
              0.4444444444444444,
              "#bd3786"
             ],
             [
              0.5555555555555556,
              "#d8576b"
             ],
             [
              0.6666666666666666,
              "#ed7953"
             ],
             [
              0.7777777777777778,
              "#fb9f3a"
             ],
             [
              0.8888888888888888,
              "#fdca26"
             ],
             [
              1,
              "#f0f921"
             ]
            ],
            "type": "heatmapgl"
           }
          ],
          "histogram": [
           {
            "marker": {
             "pattern": {
              "fillmode": "overlay",
              "size": 10,
              "solidity": 0.2
             }
            },
            "type": "histogram"
           }
          ],
          "histogram2d": [
           {
            "colorbar": {
             "outlinewidth": 0,
             "ticks": ""
            },
            "colorscale": [
             [
              0,
              "#0d0887"
             ],
             [
              0.1111111111111111,
              "#46039f"
             ],
             [
              0.2222222222222222,
              "#7201a8"
             ],
             [
              0.3333333333333333,
              "#9c179e"
             ],
             [
              0.4444444444444444,
              "#bd3786"
             ],
             [
              0.5555555555555556,
              "#d8576b"
             ],
             [
              0.6666666666666666,
              "#ed7953"
             ],
             [
              0.7777777777777778,
              "#fb9f3a"
             ],
             [
              0.8888888888888888,
              "#fdca26"
             ],
             [
              1,
              "#f0f921"
             ]
            ],
            "type": "histogram2d"
           }
          ],
          "histogram2dcontour": [
           {
            "colorbar": {
             "outlinewidth": 0,
             "ticks": ""
            },
            "colorscale": [
             [
              0,
              "#0d0887"
             ],
             [
              0.1111111111111111,
              "#46039f"
             ],
             [
              0.2222222222222222,
              "#7201a8"
             ],
             [
              0.3333333333333333,
              "#9c179e"
             ],
             [
              0.4444444444444444,
              "#bd3786"
             ],
             [
              0.5555555555555556,
              "#d8576b"
             ],
             [
              0.6666666666666666,
              "#ed7953"
             ],
             [
              0.7777777777777778,
              "#fb9f3a"
             ],
             [
              0.8888888888888888,
              "#fdca26"
             ],
             [
              1,
              "#f0f921"
             ]
            ],
            "type": "histogram2dcontour"
           }
          ],
          "mesh3d": [
           {
            "colorbar": {
             "outlinewidth": 0,
             "ticks": ""
            },
            "type": "mesh3d"
           }
          ],
          "parcoords": [
           {
            "line": {
             "colorbar": {
              "outlinewidth": 0,
              "ticks": ""
             }
            },
            "type": "parcoords"
           }
          ],
          "pie": [
           {
            "automargin": true,
            "type": "pie"
           }
          ],
          "scatter": [
           {
            "fillpattern": {
             "fillmode": "overlay",
             "size": 10,
             "solidity": 0.2
            },
            "type": "scatter"
           }
          ],
          "scatter3d": [
           {
            "line": {
             "colorbar": {
              "outlinewidth": 0,
              "ticks": ""
             }
            },
            "marker": {
             "colorbar": {
              "outlinewidth": 0,
              "ticks": ""
             }
            },
            "type": "scatter3d"
           }
          ],
          "scattercarpet": [
           {
            "marker": {
             "colorbar": {
              "outlinewidth": 0,
              "ticks": ""
             }
            },
            "type": "scattercarpet"
           }
          ],
          "scattergeo": [
           {
            "marker": {
             "colorbar": {
              "outlinewidth": 0,
              "ticks": ""
             }
            },
            "type": "scattergeo"
           }
          ],
          "scattergl": [
           {
            "marker": {
             "colorbar": {
              "outlinewidth": 0,
              "ticks": ""
             }
            },
            "type": "scattergl"
           }
          ],
          "scattermapbox": [
           {
            "marker": {
             "colorbar": {
              "outlinewidth": 0,
              "ticks": ""
             }
            },
            "type": "scattermapbox"
           }
          ],
          "scatterpolar": [
           {
            "marker": {
             "colorbar": {
              "outlinewidth": 0,
              "ticks": ""
             }
            },
            "type": "scatterpolar"
           }
          ],
          "scatterpolargl": [
           {
            "marker": {
             "colorbar": {
              "outlinewidth": 0,
              "ticks": ""
             }
            },
            "type": "scatterpolargl"
           }
          ],
          "scatterternary": [
           {
            "marker": {
             "colorbar": {
              "outlinewidth": 0,
              "ticks": ""
             }
            },
            "type": "scatterternary"
           }
          ],
          "surface": [
           {
            "colorbar": {
             "outlinewidth": 0,
             "ticks": ""
            },
            "colorscale": [
             [
              0,
              "#0d0887"
             ],
             [
              0.1111111111111111,
              "#46039f"
             ],
             [
              0.2222222222222222,
              "#7201a8"
             ],
             [
              0.3333333333333333,
              "#9c179e"
             ],
             [
              0.4444444444444444,
              "#bd3786"
             ],
             [
              0.5555555555555556,
              "#d8576b"
             ],
             [
              0.6666666666666666,
              "#ed7953"
             ],
             [
              0.7777777777777778,
              "#fb9f3a"
             ],
             [
              0.8888888888888888,
              "#fdca26"
             ],
             [
              1,
              "#f0f921"
             ]
            ],
            "type": "surface"
           }
          ],
          "table": [
           {
            "cells": {
             "fill": {
              "color": "#EBF0F8"
             },
             "line": {
              "color": "white"
             }
            },
            "header": {
             "fill": {
              "color": "#C8D4E3"
             },
             "line": {
              "color": "white"
             }
            },
            "type": "table"
           }
          ]
         },
         "layout": {
          "annotationdefaults": {
           "arrowcolor": "#2a3f5f",
           "arrowhead": 0,
           "arrowwidth": 1
          },
          "autotypenumbers": "strict",
          "coloraxis": {
           "colorbar": {
            "outlinewidth": 0,
            "ticks": ""
           }
          },
          "colorscale": {
           "diverging": [
            [
             0,
             "#8e0152"
            ],
            [
             0.1,
             "#c51b7d"
            ],
            [
             0.2,
             "#de77ae"
            ],
            [
             0.3,
             "#f1b6da"
            ],
            [
             0.4,
             "#fde0ef"
            ],
            [
             0.5,
             "#f7f7f7"
            ],
            [
             0.6,
             "#e6f5d0"
            ],
            [
             0.7,
             "#b8e186"
            ],
            [
             0.8,
             "#7fbc41"
            ],
            [
             0.9,
             "#4d9221"
            ],
            [
             1,
             "#276419"
            ]
           ],
           "sequential": [
            [
             0,
             "#0d0887"
            ],
            [
             0.1111111111111111,
             "#46039f"
            ],
            [
             0.2222222222222222,
             "#7201a8"
            ],
            [
             0.3333333333333333,
             "#9c179e"
            ],
            [
             0.4444444444444444,
             "#bd3786"
            ],
            [
             0.5555555555555556,
             "#d8576b"
            ],
            [
             0.6666666666666666,
             "#ed7953"
            ],
            [
             0.7777777777777778,
             "#fb9f3a"
            ],
            [
             0.8888888888888888,
             "#fdca26"
            ],
            [
             1,
             "#f0f921"
            ]
           ],
           "sequentialminus": [
            [
             0,
             "#0d0887"
            ],
            [
             0.1111111111111111,
             "#46039f"
            ],
            [
             0.2222222222222222,
             "#7201a8"
            ],
            [
             0.3333333333333333,
             "#9c179e"
            ],
            [
             0.4444444444444444,
             "#bd3786"
            ],
            [
             0.5555555555555556,
             "#d8576b"
            ],
            [
             0.6666666666666666,
             "#ed7953"
            ],
            [
             0.7777777777777778,
             "#fb9f3a"
            ],
            [
             0.8888888888888888,
             "#fdca26"
            ],
            [
             1,
             "#f0f921"
            ]
           ]
          },
          "colorway": [
           "#636efa",
           "#EF553B",
           "#00cc96",
           "#ab63fa",
           "#FFA15A",
           "#19d3f3",
           "#FF6692",
           "#B6E880",
           "#FF97FF",
           "#FECB52"
          ],
          "font": {
           "color": "#2a3f5f"
          },
          "geo": {
           "bgcolor": "white",
           "lakecolor": "white",
           "landcolor": "#E5ECF6",
           "showlakes": true,
           "showland": true,
           "subunitcolor": "white"
          },
          "hoverlabel": {
           "align": "left"
          },
          "hovermode": "closest",
          "mapbox": {
           "style": "light"
          },
          "paper_bgcolor": "white",
          "plot_bgcolor": "#E5ECF6",
          "polar": {
           "angularaxis": {
            "gridcolor": "white",
            "linecolor": "white",
            "ticks": ""
           },
           "bgcolor": "#E5ECF6",
           "radialaxis": {
            "gridcolor": "white",
            "linecolor": "white",
            "ticks": ""
           }
          },
          "scene": {
           "xaxis": {
            "backgroundcolor": "#E5ECF6",
            "gridcolor": "white",
            "gridwidth": 2,
            "linecolor": "white",
            "showbackground": true,
            "ticks": "",
            "zerolinecolor": "white"
           },
           "yaxis": {
            "backgroundcolor": "#E5ECF6",
            "gridcolor": "white",
            "gridwidth": 2,
            "linecolor": "white",
            "showbackground": true,
            "ticks": "",
            "zerolinecolor": "white"
           },
           "zaxis": {
            "backgroundcolor": "#E5ECF6",
            "gridcolor": "white",
            "gridwidth": 2,
            "linecolor": "white",
            "showbackground": true,
            "ticks": "",
            "zerolinecolor": "white"
           }
          },
          "shapedefaults": {
           "line": {
            "color": "#2a3f5f"
           }
          },
          "ternary": {
           "aaxis": {
            "gridcolor": "white",
            "linecolor": "white",
            "ticks": ""
           },
           "baxis": {
            "gridcolor": "white",
            "linecolor": "white",
            "ticks": ""
           },
           "bgcolor": "#E5ECF6",
           "caxis": {
            "gridcolor": "white",
            "linecolor": "white",
            "ticks": ""
           }
          },
          "title": {
           "x": 0.05
          },
          "xaxis": {
           "automargin": true,
           "gridcolor": "white",
           "linecolor": "white",
           "ticks": "",
           "title": {
            "standoff": 15
           },
           "zerolinecolor": "white",
           "zerolinewidth": 2
          },
          "yaxis": {
           "automargin": true,
           "gridcolor": "white",
           "linecolor": "white",
           "ticks": "",
           "title": {
            "standoff": 15
           },
           "zerolinecolor": "white",
           "zerolinewidth": 2
          }
         }
        },
        "xaxis": {
         "gridcolor": "LightGrey",
         "gridwidth": 2,
         "linecolor": "Gray",
         "linewidth": 4,
         "range": [
          -45,
          225
         ],
         "showgrid": false,
         "showline": true
        },
        "yaxis": {
         "gridcolor": "LightGrey",
         "gridwidth": 2,
         "linecolor": "Gray",
         "linewidth": 4,
         "range": [
          -3383.0456527394626,
          16915.228263697314
         ],
         "showgrid": false,
         "showline": true
        }
       }
      },
      "text/html": [
       "<div>                            <div id=\"079683fb-0262-400f-bc27-78ea7eb666b9\" class=\"plotly-graph-div\" style=\"height:525px; width:100%;\"></div>            <script type=\"text/javascript\">                require([\"plotly\"], function(Plotly) {                    window.PLOTLYENV=window.PLOTLYENV || {};                                    if (document.getElementById(\"079683fb-0262-400f-bc27-78ea7eb666b9\")) {                    Plotly.newPlot(                        \"079683fb-0262-400f-bc27-78ea7eb666b9\",                        [{\"fill\":\"toself\",\"fillcolor\":\"#FF0000\",\"line\":{\"color\":\"#CC0000\",\"width\":1},\"marker\":{\"size\":1},\"mode\":\"markers+lines\",\"showlegend\":false,\"x\":[0.0,1.0,1.0,0.0,0.0],\"y\":[0.0,0.0,0.6874039346961276,0.6874039346961276,0.0],\"type\":\"scatter\"},{\"fill\":\"toself\",\"fillcolor\":\"#FF0000\",\"line\":{\"color\":\"#CC0000\",\"width\":1},\"marker\":{\"size\":1},\"mode\":\"markers+lines\",\"showlegend\":false,\"x\":[1.0,2.0,2.0,1.0,1.0],\"y\":[0.687369476385493,0.687369476385493,50.529691053113766,50.529691053113766,0.687369476385493],\"type\":\"scatter\"},{\"fill\":\"toself\",\"fillcolor\":\"#FF0000\",\"line\":{\"color\":\"#CC0000\",\"width\":1},\"marker\":{\"size\":1},\"mode\":\"markers+lines\",\"showlegend\":false,\"x\":[2.0,3.0,3.0,2.0,2.0],\"y\":[50.52874877163757,50.52874877163757,195.35846192811957,195.35846192811957,50.52874877163757],\"type\":\"scatter\"},{\"fill\":\"toself\",\"fillcolor\":\"#FF0000\",\"line\":{\"color\":\"#CC0000\",\"width\":1},\"marker\":{\"size\":1},\"mode\":\"markers+lines\",\"showlegend\":false,\"x\":[3.0,4.0,4.0,3.0,3.0],\"y\":[195.35634069113271,195.35634069113271,424.8780010438548,424.8780010438548,195.35634069113271],\"type\":\"scatter\"},{\"fill\":\"toself\",\"fillcolor\":\"#FF0000\",\"line\":{\"color\":\"#CC0000\",\"width\":1},\"marker\":{\"size\":1},\"mode\":\"markers+lines\",\"showlegend\":false,\"x\":[4.0,5.0,5.0,4.0,4.0],\"y\":[424.8741300729227,424.8741300729227,728.8326608158022,728.8326608158022,424.8741300729227],\"type\":\"scatter\"},{\"fill\":\"toself\",\"fillcolor\":\"#FF0000\",\"line\":{\"color\":\"#CC0000\",\"width\":1},\"marker\":{\"size\":1},\"mode\":\"markers+lines\",\"showlegend\":false,\"x\":[5.0,6.0,6.0,5.0,5.0],\"y\":[728.8262623226165,728.8262623226165,1097.6617303507198,1097.6617303507198,728.8262623226165],\"type\":\"scatter\"},{\"fill\":\"toself\",\"fillcolor\":\"#FF0000\",\"line\":{\"color\":\"#CC0000\",\"width\":1},\"marker\":{\"size\":1},\"mode\":\"markers+lines\",\"showlegend\":false,\"x\":[6.0,7.0,7.0,6.0,6.0],\"y\":[1097.6513733847357,1097.6513733847357,1522.511817052304,1522.511817052304,1097.6513733847357],\"type\":\"scatter\"},{\"fill\":\"toself\",\"fillcolor\":\"#FF0000\",\"line\":{\"color\":\"#CC0000\",\"width\":1},\"marker\":{\"size\":1},\"mode\":\"markers+lines\",\"showlegend\":false,\"x\":[7.0,8.0,8.0,7.0,7.0],\"y\":[1522.4966957002218,1522.4966957002218,1995.1796006953641,1995.1796006953641,1522.4966957002218],\"type\":\"scatter\"},{\"fill\":\"toself\",\"fillcolor\":\"#FF0000\",\"line\":{\"color\":\"#CC0000\",\"width\":1},\"marker\":{\"size\":1},\"mode\":\"markers+lines\",\"showlegend\":false,\"x\":[8.0,9.0,9.0,8.0,8.0],\"y\":[1995.158890169179,1995.158890169179,2508.0509222072474,2508.0509222072474,1995.158890169179],\"type\":\"scatter\"},{\"fill\":\"toself\",\"fillcolor\":\"#FF0000\",\"line\":{\"color\":\"#CC0000\",\"width\":1},\"marker\":{\"size\":1},\"mode\":\"markers+lines\",\"showlegend\":false,\"x\":[9.0,10.0,10.0,9.0,9.0],\"y\":[2508.023789373416,2508.023789373416,3054.0403675897037,3054.0403675897037,2508.023789373416],\"type\":\"scatter\"},{\"fill\":\"toself\",\"fillcolor\":\"#FF0000\",\"line\":{\"color\":\"#CC0000\",\"width\":1},\"marker\":{\"size\":1},\"mode\":\"markers+lines\",\"showlegend\":false,\"x\":[10.0,11.0,11.0,10.0,10.0],\"y\":[3054.006219690236,3054.006219690236,3626.5271677429128,3626.5271677429128,3054.006219690236],\"type\":\"scatter\"},{\"fill\":\"toself\",\"fillcolor\":\"#FF0000\",\"line\":{\"color\":\"#CC0000\",\"width\":1},\"marker\":{\"size\":1},\"mode\":\"markers+lines\",\"showlegend\":false,\"x\":[11.0,12.0,12.0,11.0,11.0],\"y\":[3626.485335517659,3626.485335517659,4219.2890986441225,4219.2890986441225,3626.485335517659],\"type\":\"scatter\"},{\"fill\":\"toself\",\"fillcolor\":\"#FF0000\",\"line\":{\"color\":\"#CC0000\",\"width\":1},\"marker\":{\"size\":1},\"mode\":\"markers+lines\",\"showlegend\":false,\"x\":[12.0,13.0,13.0,12.0,12.0],\"y\":[4219.238932319392,4219.238932319392,4826.434550635418,4826.434550635418,4219.238932319392],\"type\":\"scatter\"},{\"fill\":\"toself\",\"fillcolor\":\"#FF0000\",\"line\":{\"color\":\"#CC0000\",\"width\":1},\"marker\":{\"size\":1},\"mode\":\"markers+lines\",\"showlegend\":false,\"x\":[13.0,14.0,14.0,13.0,13.0],\"y\":[4826.375363763089,4826.375363763089,5442.333902394936,5442.333902394936,4826.375363763089],\"type\":\"scatter\"},{\"fill\":\"toself\",\"fillcolor\":\"#FF0000\",\"line\":{\"color\":\"#CC0000\",\"width\":1},\"marker\":{\"size\":1},\"mode\":\"markers+lines\",\"showlegend\":false,\"x\":[14.0,15.0,15.0,14.0,14.0],\"y\":[5442.264983695497,5442.264983695497,6061.550114104507,6061.550114104507,5442.264983695497],\"type\":\"scatter\"},{\"fill\":\"toself\",\"fillcolor\":\"#FF0000\",\"line\":{\"color\":\"#CC0000\",\"width\":1},\"marker\":{\"size\":1},\"mode\":\"markers+lines\",\"showlegend\":false,\"x\":[15.0,16.0,16.0,15.0,15.0],\"y\":[6061.470727482231,6061.470727482231,6678.778873216345,6678.778873216345,6061.470727482231],\"type\":\"scatter\"},{\"fill\":\"toself\",\"fillcolor\":\"#FF0000\",\"line\":{\"color\":\"#CC0000\",\"width\":1},\"marker\":{\"size\":1},\"mode\":\"markers+lines\",\"showlegend\":false,\"x\":[16.0,17.0,17.0,16.0,16.0],\"y\":[6678.688263284913,6678.688263284913,7288.805656179405,7288.805656179405,6678.688263284913],\"type\":\"scatter\"},{\"fill\":\"toself\",\"fillcolor\":\"#FF0000\",\"line\":{\"color\":\"#CC0000\",\"width\":1},\"marker\":{\"size\":1},\"mode\":\"markers+lines\",\"showlegend\":false,\"x\":[17.0,18.0,18.0,17.0,17.0],\"y\":[7288.703043440896,7288.703043440896,7886.490403219626,7886.490403219626,7288.703043440896],\"type\":\"scatter\"},{\"fill\":\"toself\",\"fillcolor\":\"#FF0000\",\"line\":{\"color\":\"#CC0000\",\"width\":1},\"marker\":{\"size\":1},\"mode\":\"markers+lines\",\"showlegend\":false,\"x\":[18.0,19.0,19.0,18.0,18.0],\"y\":[7886.374942812055,7886.374942812055,8466.793584535342,8466.793584535342,7886.374942812055],\"type\":\"scatter\"},{\"fill\":\"toself\",\"fillcolor\":\"#FF0000\",\"line\":{\"color\":\"#CC0000\",\"width\":1},\"marker\":{\"size\":1},\"mode\":\"markers+lines\",\"showlegend\":false,\"x\":[19.0,20.0,20.0,19.0,19.0],\"y\":[8466.664266900552,8466.664266900552,9024.855079204784,9024.855079204784,8466.664266900552],\"type\":\"scatter\"},{\"fill\":\"toself\",\"fillcolor\":\"#FF0000\",\"line\":{\"color\":\"#CC0000\",\"width\":1},\"marker\":{\"size\":1},\"mode\":\"markers+lines\",\"showlegend\":false,\"x\":[20.0,21.0,21.0,20.0,20.0],\"y\":[9024.710655153844,9024.710655153844,9556.129159897027,9556.129159897027,9024.710655153844],\"type\":\"scatter\"},{\"fill\":\"toself\",\"fillcolor\":\"#FF0000\",\"line\":{\"color\":\"#CC0000\",\"width\":1},\"marker\":{\"size\":1},\"mode\":\"markers+lines\",\"showlegend\":false,\"x\":[21.0,22.0,22.0,21.0,21.0],\"y\":[9555.968183365512,9555.968183365512,10056.569098751792,10056.569098751792,9555.968183365512],\"type\":\"scatter\"},{\"fill\":\"toself\",\"fillcolor\":\"#FF0000\",\"line\":{\"color\":\"#CC0000\",\"width\":1},\"marker\":{\"size\":1},\"mode\":\"markers+lines\",\"showlegend\":false,\"x\":[22.0,23.0,23.0,22.0,22.0],\"y\":[10056.381594082428,10056.381594082428,10522.815821180688,10522.815821180688,10056.381594082428],\"type\":\"scatter\"},{\"fill\":\"toself\",\"fillcolor\":\"#FF0000\",\"line\":{\"color\":\"#CC0000\",\"width\":1},\"marker\":{\"size\":1},\"mode\":\"markers+lines\",\"showlegend\":false,\"x\":[23.0,24.0,24.0,23.0,23.0],\"y\":[10522.593833935036,10522.593833935036,10952.373153834453,10952.373153834453,10522.593833935036],\"type\":\"scatter\"},{\"fill\":\"toself\",\"fillcolor\":\"#FF0000\",\"line\":{\"color\":\"#CC0000\",\"width\":1},\"marker\":{\"size\":1},\"mode\":\"markers+lines\",\"showlegend\":false,\"x\":[24.0,25.0,25.0,24.0,24.0],\"y\":[10952.121769494768,10952.121769494768,11343.729714113793,11343.729714113793,10952.121769494768],\"type\":\"scatter\"},{\"fill\":\"toself\",\"fillcolor\":\"#FF0000\",\"line\":{\"color\":\"#CC0000\",\"width\":1},\"marker\":{\"size\":1},\"mode\":\"markers+lines\",\"showlegend\":false,\"x\":[25.0,26.0,26.0,25.0,25.0],\"y\":[11343.458255485017,11343.458255485017,11696.375328683374,11696.375328683374,11343.458255485017],\"type\":\"scatter\"},{\"fill\":\"toself\",\"fillcolor\":\"#FF0000\",\"line\":{\"color\":\"#CC0000\",\"width\":1},\"marker\":{\"size\":1},\"mode\":\"markers+lines\",\"showlegend\":false,\"x\":[26.0,27.0,27.0,26.0,26.0],\"y\":[11696.099181622325,11696.099181622325,12010.74117009298,12010.74117009298,11696.099181622325],\"type\":\"scatter\"},{\"fill\":\"toself\",\"fillcolor\":\"#FF0000\",\"line\":{\"color\":\"#CC0000\",\"width\":1},\"marker\":{\"size\":1},\"mode\":\"markers+lines\",\"showlegend\":false,\"x\":[27.0,28.0,28.0,27.0,27.0],\"y\":[12010.46014072076,12010.46014072076,12288.038907580585,12288.038907580585,12010.46014072076],\"type\":\"scatter\"},{\"fill\":\"toself\",\"fillcolor\":\"#FF0000\",\"line\":{\"color\":\"#CC0000\",\"width\":1},\"marker\":{\"size\":1},\"mode\":\"markers+lines\",\"showlegend\":false,\"x\":[28.0,29.0,29.0,28.0,28.0],\"y\":[12287.746803355154,12287.746803355154,12530.076553914143,12530.076553914143,12287.746803355154],\"type\":\"scatter\"},{\"fill\":\"toself\",\"fillcolor\":\"#FF0000\",\"line\":{\"color\":\"#CC0000\",\"width\":1},\"marker\":{\"size\":1},\"mode\":\"markers+lines\",\"showlegend\":false,\"x\":[29.0,30.0,30.0,29.0,29.0],\"y\":[12529.766737897531,12529.766737897531,12739.063019177334,12739.063019177334,12529.766737897531],\"type\":\"scatter\"},{\"fill\":\"toself\",\"fillcolor\":\"#FF0000\",\"line\":{\"color\":\"#CC0000\",\"width\":1},\"marker\":{\"size\":1},\"mode\":\"markers+lines\",\"showlegend\":false,\"x\":[30.0,31.0,31.0,30.0,30.0],\"y\":[12738.73755582461,12738.73755582461,12917.4377031893,12917.4377031893,12738.73755582461],\"type\":\"scatter\"},{\"fill\":\"toself\",\"fillcolor\":\"#FF0000\",\"line\":{\"color\":\"#CC0000\",\"width\":1},\"marker\":{\"size\":1},\"mode\":\"markers+lines\",\"showlegend\":false,\"x\":[31.0,32.0,32.0,31.0,31.0],\"y\":[12917.105750049954,12917.105750049954,13067.733725305066,13067.733725305066,12917.105750049954],\"type\":\"scatter\"},{\"fill\":\"toself\",\"fillcolor\":\"#FF0000\",\"line\":{\"color\":\"#CC0000\",\"width\":1},\"marker\":{\"size\":1},\"mode\":\"markers+lines\",\"showlegend\":false,\"x\":[32.0,33.0,33.0,32.0,32.0],\"y\":[13067.395839215415,13067.395839215415,13192.451503717672,13192.451503717672,13067.395839215415],\"type\":\"scatter\"},{\"fill\":\"toself\",\"fillcolor\":\"#FF0000\",\"line\":{\"color\":\"#CC0000\",\"width\":1},\"marker\":{\"size\":1},\"mode\":\"markers+lines\",\"showlegend\":false,\"x\":[33.0,34.0,34.0,33.0,33.0],\"y\":[13192.121459440335,13192.121459440335,13294.013431819163,13294.013431819163,13192.121459440335],\"type\":\"scatter\"},{\"fill\":\"toself\",\"fillcolor\":\"#FF0000\",\"line\":{\"color\":\"#CC0000\",\"width\":1},\"marker\":{\"size\":1},\"mode\":\"markers+lines\",\"showlegend\":false,\"x\":[34.0,35.0,35.0,34.0,34.0],\"y\":[13293.682761298238,13293.682761298238,13374.684269619294,13374.684269619294,13293.682761298238],\"type\":\"scatter\"},{\"fill\":\"toself\",\"fillcolor\":\"#FF0000\",\"line\":{\"color\":\"#CC0000\",\"width\":1},\"marker\":{\"size\":1},\"mode\":\"markers+lines\",\"showlegend\":false,\"x\":[35.0,36.0,36.0,35.0,35.0],\"y\":[13374.354001285963,13374.354001285963,13436.567234438384,13436.567234438384,13374.354001285963],\"type\":\"scatter\"},{\"fill\":\"toself\",\"fillcolor\":\"#FF0000\",\"line\":{\"color\":\"#CC0000\",\"width\":1},\"marker\":{\"size\":1},\"mode\":\"markers+lines\",\"showlegend\":false,\"x\":[36.0,37.0,37.0,36.0,36.0],\"y\":[13436.238092163223,13436.238092163223,13481.589528403943,13481.589528403943,13436.238092163223],\"type\":\"scatter\"},{\"fill\":\"toself\",\"fillcolor\":\"#FF0000\",\"line\":{\"color\":\"#CC0000\",\"width\":1},\"marker\":{\"size\":1},\"mode\":\"markers+lines\",\"showlegend\":false,\"x\":[37.0,38.0,38.0,37.0,37.0],\"y\":[13481.262135727935,13481.262135727935,13511.503153483744,13511.503153483744,13481.262135727935],\"type\":\"scatter\"},{\"fill\":\"toself\",\"fillcolor\":\"#FF0000\",\"line\":{\"color\":\"#CC0000\",\"width\":1},\"marker\":{\"size\":1},\"mode\":\"markers+lines\",\"showlegend\":false,\"x\":[38.0,39.0,39.0,38.0,38.0],\"y\":[13511.17804546318,13511.17804546318,13527.892006321901,13527.892006321901,13511.17804546318],\"type\":\"scatter\"},{\"fill\":\"toself\",\"fillcolor\":\"#FF0000\",\"line\":{\"color\":\"#CC0000\",\"width\":1},\"marker\":{\"size\":1},\"mode\":\"markers+lines\",\"showlegend\":false,\"x\":[39.0,40.0,40.0,39.0,39.0],\"y\":[13527.56963929013,13527.56963929013,13532.18261095785,13532.18261095785,13527.56963929013],\"type\":\"scatter\"},{\"fill\":\"toself\",\"fillcolor\":\"#FF0000\",\"line\":{\"color\":\"#CC0000\",\"width\":1},\"marker\":{\"size\":1},\"mode\":\"markers+lines\",\"showlegend\":false,\"x\":[40.0,41.0,41.0,40.0,40.0],\"y\":[13525.340831794696,13525.340831794696,13532.18261095785,13532.18261095785,13525.340831794696],\"type\":\"scatter\"},{\"fill\":\"toself\",\"fillcolor\":\"#FF0000\",\"line\":{\"color\":\"#CC0000\",\"width\":1},\"marker\":{\"size\":1},\"mode\":\"markers+lines\",\"showlegend\":false,\"x\":[41.0,42.0,42.0,41.0,41.0],\"y\":[13509.15178198031,13509.15178198031,13525.656617585537,13525.656617585537,13509.15178198031],\"type\":\"scatter\"},{\"fill\":\"toself\",\"fillcolor\":\"#FF0000\",\"line\":{\"color\":\"#CC0000\",\"width\":1},\"marker\":{\"size\":1},\"mode\":\"markers+lines\",\"showlegend\":false,\"x\":[42.0,43.0,43.0,42.0,42.0],\"y\":[13484.326973962674,13484.326973962674,13509.46384194018,13509.46384194018,13484.326973962674],\"type\":\"scatter\"},{\"fill\":\"toself\",\"fillcolor\":\"#FF0000\",\"line\":{\"color\":\"#CC0000\",\"width\":1},\"marker\":{\"size\":1},\"mode\":\"markers+lines\",\"showlegend\":false,\"x\":[43.0,44.0,44.0,43.0,43.0],\"y\":[13451.790297473442,13451.790297473442,13484.635082202178,13484.635082202178,13451.790297473442],\"type\":\"scatter\"},{\"fill\":\"toself\",\"fillcolor\":\"#FF0000\",\"line\":{\"color\":\"#CC0000\",\"width\":1},\"marker\":{\"size\":1},\"mode\":\"markers+lines\",\"showlegend\":false,\"x\":[44.0,45.0,45.0,44.0,44.0],\"y\":[13412.370028516894,13412.370028516894,13452.094268479112,13452.094268479112,13412.370028516894],\"type\":\"scatter\"},{\"fill\":\"toself\",\"fillcolor\":\"#FF0000\",\"line\":{\"color\":\"#CC0000\",\"width\":1},\"marker\":{\"size\":1},\"mode\":\"markers+lines\",\"showlegend\":false,\"x\":[45.0,46.0,46.0,45.0,45.0],\"y\":[13366.809080712032,13366.809080712032,13412.669711810844,13412.669711810844,13366.809080712032],\"type\":\"scatter\"},{\"fill\":\"toself\",\"fillcolor\":\"#FF0000\",\"line\":{\"color\":\"#CC0000\",\"width\":1},\"marker\":{\"size\":1},\"mode\":\"markers+lines\",\"showlegend\":false,\"x\":[46.0,47.0,47.0,46.0,46.0],\"y\":[13315.774247948571,13315.774247948571,13367.104356192867,13367.104356192867,13315.774247948571],\"type\":\"scatter\"},{\"fill\":\"toself\",\"fillcolor\":\"#FF0000\",\"line\":{\"color\":\"#CC0000\",\"width\":1},\"marker\":{\"size\":1},\"mode\":\"markers+lines\",\"showlegend\":false,\"x\":[47.0,48.0,48.0,47.0,47.0],\"y\":[13259.864476490678,13259.864476490678,13316.065021840652,13316.065021840652,13259.864476490678],\"type\":\"scatter\"},{\"fill\":\"toself\",\"fillcolor\":\"#FF0000\",\"line\":{\"color\":\"#CC0000\",\"width\":1},\"marker\":{\"size\":1},\"mode\":\"markers+lines\",\"showlegend\":false,\"x\":[48.0,49.0,49.0,48.0,48.0],\"y\":[13199.61823300767,13199.61823300767,13260.150677829057,13260.150677829057,13199.61823300767],\"type\":\"scatter\"},{\"fill\":\"toself\",\"fillcolor\":\"#FF0000\",\"line\":{\"color\":\"#CC0000\",\"width\":1},\"marker\":{\"size\":1},\"mode\":\"markers+lines\",\"showlegend\":false,\"x\":[49.0,50.0,50.0,49.0,49.0],\"y\":[13135.520045129811,13135.520045129811,13199.899810591061,13199.899810591061,13135.520045129811],\"type\":\"scatter\"},{\"fill\":\"toself\",\"fillcolor\":\"#FF0000\",\"line\":{\"color\":\"#CC0000\",\"width\":1},\"marker\":{\"size\":1},\"mode\":\"markers+lines\",\"showlegend\":false,\"x\":[50.0,51.0,51.0,50.0,50.0],\"y\":[13068.00629415361,13068.00629415361,13135.79696487981,13135.79696487981,13068.00629415361],\"type\":\"scatter\"},{\"fill\":\"toself\",\"fillcolor\":\"#FF0000\",\"line\":{\"color\":\"#CC0000\",\"width\":1},\"marker\":{\"size\":1},\"mode\":\"markers+lines\",\"showlegend\":false,\"x\":[51.0,52.0,52.0,51.0,51.0],\"y\":[12997.470344134152,12997.470344134152,13068.278536825253,13068.278536825253,12997.470344134152],\"type\":\"scatter\"},{\"fill\":\"toself\",\"fillcolor\":\"#FF0000\",\"line\":{\"color\":\"#CC0000\",\"width\":1},\"marker\":{\"size\":1},\"mode\":\"markers+lines\",\"showlegend\":false,\"x\":[52.0,53.0,53.0,52.0,52.0],\"y\":[12924.267080714273,12924.267080714273,12997.737903329653,12997.737903329653,12924.267080714273],\"type\":\"scatter\"},{\"fill\":\"toself\",\"fillcolor\":\"#FF0000\",\"line\":{\"color\":\"#CC0000\",\"width\":1},\"marker\":{\"size\":1},\"mode\":\"markers+lines\",\"showlegend\":false,\"x\":[53.0,54.0,54.0,53.0,53.0],\"y\":[12848.71692861086,12848.71692861086,12924.529961158036,12924.529961158036,12848.71692861086],\"type\":\"scatter\"},{\"fill\":\"toself\",\"fillcolor\":\"#FF0000\",\"line\":{\"color\":\"#CC0000\",\"width\":1},\"marker\":{\"size\":1},\"mode\":\"markers+lines\",\"showlegend\":false,\"x\":[54.0,55.0,55.0,54.0,54.0],\"y\":[12771.109409956358,12771.109409956358,12848.975144649527,12848.975144649527,12771.109409956358],\"type\":\"scatter\"},{\"fill\":\"toself\",\"fillcolor\":\"#FF0000\",\"line\":{\"color\":\"#CC0000\",\"width\":1},\"marker\":{\"size\":1},\"mode\":\"markers+lines\",\"showlegend\":false,\"x\":[55.0,56.0,56.0,55.0,55.0],\"y\":[12691.706298958637,12691.706298958637,12771.362984252793,12771.362984252793,12691.706298958637],\"type\":\"scatter\"},{\"fill\":\"toself\",\"fillcolor\":\"#FF0000\",\"line\":{\"color\":\"#CC0000\",\"width\":1},\"marker\":{\"size\":1},\"mode\":\"markers+lines\",\"showlegend\":false,\"x\":[56.0,57.0,57.0,56.0,56.0],\"y\":[12610.744421918507,12610.744421918507,12691.955261353207,12691.955261353207,12610.744421918507],\"type\":\"scatter\"},{\"fill\":\"toself\",\"fillcolor\":\"#FF0000\",\"line\":{\"color\":\"#CC0000\",\"width\":1},\"marker\":{\"size\":1},\"mode\":\"markers+lines\",\"showlegend\":false,\"x\":[57.0,58.0,58.0,57.0,57.0],\"y\":[12528.438145748734,12528.438145748734,12610.988808434622,12610.988808434622,12528.438145748734],\"type\":\"scatter\"},{\"fill\":\"toself\",\"fillcolor\":\"#FF0000\",\"line\":{\"color\":\"#CC0000\",\"width\":1},\"marker\":{\"size\":1},\"mode\":\"markers+lines\",\"showlegend\":false,\"x\":[58.0,59.0,59.0,58.0,58.0],\"y\":[12444.981592803568,12444.981592803568,12528.67799772333,12528.67799772333,12444.981592803568],\"type\":\"scatter\"},{\"fill\":\"toself\",\"fillcolor\":\"#FF0000\",\"line\":{\"color\":\"#CC0000\",\"width\":1},\"marker\":{\"size\":1},\"mode\":\"markers+lines\",\"showlegend\":false,\"x\":[59.0,60.0,60.0,59.0,59.0],\"y\":[12360.550615067836,12360.550615067836,12445.216956125554,12445.216956125554,12360.550615067836],\"type\":\"scatter\"},{\"fill\":\"toself\",\"fillcolor\":\"#FF0000\",\"line\":{\"color\":\"#CC0000\",\"width\":1},\"marker\":{\"size\":1},\"mode\":\"markers+lines\",\"showlegend\":false,\"x\":[60.0,61.0,61.0,60.0,60.0],\"y\":[12275.304557156504,12275.304557156504,12360.781539510417,12360.781539510417,12275.304557156504],\"type\":\"scatter\"},{\"fill\":\"toself\",\"fillcolor\":\"#FF0000\",\"line\":{\"color\":\"#CC0000\",\"width\":1},\"marker\":{\"size\":1},\"mode\":\"markers+lines\",\"showlegend\":false,\"x\":[61.0,62.0,62.0,61.0,61.0],\"y\":[12189.387832477732,12189.387832477732,12275.531095790759,12275.531095790759,12189.387832477732],\"type\":\"scatter\"},{\"fill\":\"toself\",\"fillcolor\":\"#FF0000\",\"line\":{\"color\":\"#CC0000\",\"width\":1},\"marker\":{\"size\":1},\"mode\":\"markers+lines\",\"showlegend\":false,\"x\":[62.0,63.0,63.0,62.0,62.0],\"y\":[12102.931333180448,12102.931333180448,12189.61004115731,12189.61004115731,12102.931333180448],\"type\":\"scatter\"},{\"fill\":\"toself\",\"fillcolor\":\"#FF0000\",\"line\":{\"color\":\"#CC0000\",\"width\":1},\"marker\":{\"size\":1},\"mode\":\"markers+lines\",\"showlegend\":false,\"x\":[63.0,64.0,64.0,63.0,63.0],\"y\":[12016.053695906974,12016.053695906974,12103.149270087943,12103.149270087943,12016.053695906974],\"type\":\"scatter\"},{\"fill\":\"toself\",\"fillcolor\":\"#FF0000\",\"line\":{\"color\":\"#CC0000\",\"width\":1},\"marker\":{\"size\":1},\"mode\":\"markers+lines\",\"showlegend\":false,\"x\":[64.0,65.0,65.0,64.0,64.0],\"y\":[11928.862438857164,11928.862438857164,12016.267421154565,12016.267421154565,11928.862438857164],\"type\":\"scatter\"},{\"fill\":\"toself\",\"fillcolor\":\"#FF0000\",\"line\":{\"color\":\"#CC0000\",\"width\":1},\"marker\":{\"size\":1},\"mode\":\"markers+lines\",\"showlegend\":false,\"x\":[65.0,66.0,66.0,65.0,65.0],\"y\":[11841.454984751466,11841.454984751466,11929.07201413446,11929.07201413446,11841.454984751466],\"type\":\"scatter\"},{\"fill\":\"toself\",\"fillcolor\":\"#FF0000\",\"line\":{\"color\":\"#CC0000\",\"width\":1},\"marker\":{\"size\":1},\"mode\":\"markers+lines\",\"showlegend\":false,\"x\":[66.0,67.0,67.0,66.0,66.0],\"y\":[11753.919582391063,11753.919582391063,11841.660473015037,11841.660473015037,11753.919582391063],\"type\":\"scatter\"},{\"fill\":\"toself\",\"fillcolor\":\"#FF0000\",\"line\":{\"color\":\"#CC0000\",\"width\":1},\"marker\":{\"size\":1},\"mode\":\"markers+lines\",\"showlegend\":false,\"x\":[67.0,68.0,68.0,67.0,67.0],\"y\":[11666.336138155055,11666.336138155055,11754.1210475904,11754.1210475904,11666.336138155055],\"type\":\"scatter\"},{\"fill\":\"toself\",\"fillcolor\":\"#FF0000\",\"line\":{\"color\":\"#CC0000\",\"width\":1},\"marker\":{\"size\":1},\"mode\":\"markers+lines\",\"showlegend\":false,\"x\":[68.0,69.0,69.0,68.0,68.0],\"y\":[11578.776967296471,11578.776967296471,11666.533644990943,11666.533644990943,11578.776967296471],\"type\":\"scatter\"},{\"fill\":\"toself\",\"fillcolor\":\"#FF0000\",\"line\":{\"color\":\"#CC0000\",\"width\":1},\"marker\":{\"size\":1},\"mode\":\"markers+lines\",\"showlegend\":false,\"x\":[69.0,70.0,70.0,69.0,69.0],\"y\":[11491.307473153478,11491.307473153478,11578.97058100771,11578.97058100771,11491.307473153478],\"type\":\"scatter\"},{\"fill\":\"toself\",\"fillcolor\":\"#FF0000\",\"line\":{\"color\":\"#CC0000\",\"width\":1},\"marker\":{\"size\":1},\"mode\":\"markers+lines\",\"showlegend\":false,\"x\":[70.0,71.0,71.0,70.0,70.0],\"y\":[11403.986762295777,11403.986762295777,11491.497259328824,11491.497259328824,11403.986762295777],\"type\":\"scatter\"},{\"fill\":\"toself\",\"fillcolor\":\"#FF0000\",\"line\":{\"color\":\"#CC0000\",\"width\":1},\"marker\":{\"size\":1},\"mode\":\"markers+lines\",\"showlegend\":false,\"x\":[71.0,72.0,72.0,71.0,71.0],\"y\":[11316.86820213911,11316.86820213911,11404.172786708148,11404.172786708148,11316.86820213911],\"type\":\"scatter\"},{\"fill\":\"toself\",\"fillcolor\":\"#FF0000\",\"line\":{\"color\":\"#CC0000\",\"width\":1},\"marker\":{\"size\":1},\"mode\":\"markers+lines\",\"showlegend\":false,\"x\":[72.0,73.0,73.0,72.0,72.0],\"y\":[11229.999926927987,11229.999926927987,11317.05053059986,11317.05053059986,11229.999926927987],\"type\":\"scatter\"},{\"fill\":\"toself\",\"fillcolor\":\"#FF0000\",\"line\":{\"color\":\"#CC0000\",\"width\":1},\"marker\":{\"size\":1},\"mode\":\"markers+lines\",\"showlegend\":false,\"x\":[73.0,74.0,74.0,73.0,73.0],\"y\":[11143.425297313279,11143.425297313279,11230.17862515873,11230.17862515873,11143.425297313279],\"type\":\"scatter\"},{\"fill\":\"toself\",\"fillcolor\":\"#FF0000\",\"line\":{\"color\":\"#CC0000\",\"width\":1},\"marker\":{\"size\":1},\"mode\":\"markers+lines\",\"showlegend\":false,\"x\":[74.0,75.0,75.0,74.0,74.0],\"y\":[11057.183318176012,11057.183318176012,11143.60043083359,11143.60043083359,11057.183318176012],\"type\":\"scatter\"},{\"fill\":\"toself\",\"fillcolor\":\"#FF0000\",\"line\":{\"color\":\"#CC0000\",\"width\":1},\"marker\":{\"size\":1},\"mode\":\"markers+lines\",\"showlegend\":false,\"x\":[75.0,76.0,76.0,75.0,75.0],\"y\":[10971.309018858527,10971.309018858527,11057.354952205376,11057.354952205376,10971.309018858527],\"type\":\"scatter\"},{\"fill\":\"toself\",\"fillcolor\":\"#FF0000\",\"line\":{\"color\":\"#CC0000\",\"width\":1},\"marker\":{\"size\":1},\"mode\":\"markers+lines\",\"showlegend\":false,\"x\":[76.0,77.0,77.0,76.0,76.0],\"y\":[10885.833799577185,10885.833799577185,10971.477218231023,10971.477218231023,10885.833799577185],\"type\":\"scatter\"},{\"fill\":\"toself\",\"fillcolor\":\"#FF0000\",\"line\":{\"color\":\"#CC0000\",\"width\":1},\"marker\":{\"size\":1},\"mode\":\"markers+lines\",\"showlegend\":false,\"x\":[77.0,78.0,78.0,77.0,77.0],\"y\":[10800.785747585414,10800.785747585414,10885.9986286677,10885.9986286677,10800.785747585414],\"type\":\"scatter\"},{\"fill\":\"toself\",\"fillcolor\":\"#FF0000\",\"line\":{\"color\":\"#CC0000\",\"width\":1},\"marker\":{\"size\":1},\"mode\":\"markers+lines\",\"showlegend\":false,\"x\":[78.0,79.0,79.0,78.0,78.0],\"y\":[10716.189922517513,10716.189922517513,10800.947270246284,10800.947270246284,10716.189922517513],\"type\":\"scatter\"},{\"fill\":\"toself\",\"fillcolor\":\"#FF0000\",\"line\":{\"color\":\"#CC0000\",\"width\":1},\"marker\":{\"size\":1},\"mode\":\"markers+lines\",\"showlegend\":false,\"x\":[79.0,80.0,80.0,79.0,79.0],\"y\":[10632.068659850493,10632.068659850493,10716.348202024788,10716.348202024788,10632.068659850493],\"type\":\"scatter\"},{\"fill\":\"toself\",\"fillcolor\":\"#FF0000\",\"line\":{\"color\":\"#CC0000\",\"width\":1},\"marker\":{\"size\":1},\"mode\":\"markers+lines\",\"showlegend\":false,\"x\":[80.0,81.0,81.0,80.0,80.0],\"y\":[10548.44151529619,10548.44151529619,10632.223758858878,10632.223758858878,10548.44151529619],\"type\":\"scatter\"},{\"fill\":\"toself\",\"fillcolor\":\"#FF0000\",\"line\":{\"color\":\"#CC0000\",\"width\":1},\"marker\":{\"size\":1},\"mode\":\"markers+lines\",\"showlegend\":false,\"x\":[81.0,82.0,82.0,81.0,81.0],\"y\":[10465.32611840387,10465.32611840387,10548.593495801999,10548.593495801999,10465.32611840387],\"type\":\"scatter\"},{\"fill\":\"toself\",\"fillcolor\":\"#FF0000\",\"line\":{\"color\":\"#CC0000\",\"width\":1},\"marker\":{\"size\":1},\"mode\":\"markers+lines\",\"showlegend\":false,\"x\":[82.0,83.0,83.0,82.0,82.0],\"y\":[10382.737843149598,10382.737843149598,10465.475041715641,10465.475041715641,10382.737843149598],\"type\":\"scatter\"},{\"fill\":\"toself\",\"fillcolor\":\"#FF0000\",\"line\":{\"color\":\"#CC0000\",\"width\":1},\"marker\":{\"size\":1},\"mode\":\"markers+lines\",\"showlegend\":false,\"x\":[83.0,84.0,84.0,83.0,83.0],\"y\":[10300.690146136243,10300.690146136243,10382.883769865684,10382.883769865684,10300.690146136243],\"type\":\"scatter\"},{\"fill\":\"toself\",\"fillcolor\":\"#FF0000\",\"line\":{\"color\":\"#CC0000\",\"width\":1},\"marker\":{\"size\":1},\"mode\":\"markers+lines\",\"showlegend\":false,\"x\":[84.0,85.0,85.0,84.0,84.0],\"y\":[10219.194715589509,10219.194715589509,10300.833136128975,10300.833136128975,10219.194715589509],\"type\":\"scatter\"},{\"fill\":\"toself\",\"fillcolor\":\"#FF0000\",\"line\":{\"color\":\"#CC0000\",\"width\":1},\"marker\":{\"size\":1},\"mode\":\"markers+lines\",\"showlegend\":false,\"x\":[85.0,86.0,86.0,85.0,85.0],\"y\":[10138.261632382113,10138.261632382113,10219.334827995905,10219.334827995905,10138.261632382113],\"type\":\"scatter\"},{\"fill\":\"toself\",\"fillcolor\":\"#FF0000\",\"line\":{\"color\":\"#CC0000\",\"width\":1},\"marker\":{\"size\":1},\"mode\":\"markers+lines\",\"showlegend\":false,\"x\":[86.0,87.0,87.0,86.0,86.0],\"y\":[10057.899522846048,10057.899522846048,10138.398925600508,10138.398925600508,10057.899522846048],\"type\":\"scatter\"},{\"fill\":\"toself\",\"fillcolor\":\"#FF0000\",\"line\":{\"color\":\"#CC0000\",\"width\":1},\"marker\":{\"size\":1},\"mode\":\"markers+lines\",\"showlegend\":false,\"x\":[87.0,88.0,88.0,87.0,87.0],\"y\":[9978.115692714955,9978.115692714955,10058.034054538599,10058.034054538599,9978.115692714955],\"type\":\"scatter\"},{\"fill\":\"toself\",\"fillcolor\":\"#FF0000\",\"line\":{\"color\":\"#CC0000\",\"width\":1},\"marker\":{\"size\":1},\"mode\":\"markers+lines\",\"showlegend\":false,\"x\":[88.0,89.0,89.0,88.0,88.0],\"y\":[9898.916236288956,9898.916236288956,9978.24751981571,9978.24751981571,9898.916236288956],\"type\":\"scatter\"},{\"fill\":\"toself\",\"fillcolor\":\"#FF0000\",\"line\":{\"color\":\"#CC0000\",\"width\":1},\"marker\":{\"size\":1},\"mode\":\"markers+lines\",\"showlegend\":false,\"x\":[89.0,90.0,90.0,89.0,89.0],\"y\":[9820.30614265293,9820.30614265293,9899.04541498744,9899.04541498744,9820.30614265293],\"type\":\"scatter\"},{\"fill\":\"toself\",\"fillcolor\":\"#FF0000\",\"line\":{\"color\":\"#CC0000\",\"width\":1},\"marker\":{\"size\":1},\"mode\":\"markers+lines\",\"showlegend\":false,\"x\":[90.0,91.0,91.0,90.0,90.0],\"y\":[9742.2893947516,9742.2893947516,9820.432728267127,9820.432728267127,9742.2893947516],\"type\":\"scatter\"},{\"fill\":\"toself\",\"fillcolor\":\"#FF0000\",\"line\":{\"color\":\"#CC0000\",\"width\":1},\"marker\":{\"size\":1},\"mode\":\"markers+lines\",\"showlegend\":false,\"x\":[91.0,92.0,92.0,91.0,91.0],\"y\":[9664.869060578792,9664.869060578792,9742.41344182339,9742.41344182339,9664.869060578792],\"type\":\"scatter\"},{\"fill\":\"toself\",\"fillcolor\":\"#FF0000\",\"line\":{\"color\":\"#CC0000\",\"width\":1},\"marker\":{\"size\":1},\"mode\":\"markers+lines\",\"showlegend\":false,\"x\":[92.0,93.0,93.0,92.0,92.0],\"y\":[9588.047376809744,9588.047376809744,9664.990623028221,9664.990623028221,9588.047376809744],\"type\":\"scatter\"},{\"fill\":\"toself\",\"fillcolor\":\"#FF0000\",\"line\":{\"color\":\"#CC0000\",\"width\":1},\"marker\":{\"size\":1},\"mode\":\"markers+lines\",\"showlegend\":false,\"x\":[93.0,94.0,94.0,93.0,93.0],\"y\":[9511.825825368569,9511.825825368569,9588.166508040558,9588.166508040558,9511.825825368569],\"type\":\"scatter\"},{\"fill\":\"toself\",\"fillcolor\":\"#FF0000\",\"line\":{\"color\":\"#CC0000\",\"width\":1},\"marker\":{\"size\":1},\"mode\":\"markers+lines\",\"showlegend\":false,\"x\":[94.0,95.0,95.0,94.0,94.0],\"y\":[9436.20520361984,9436.20520361984,9511.942578439584,9511.942578439584,9436.20520361984],\"type\":\"scatter\"},{\"fill\":\"toself\",\"fillcolor\":\"#FF0000\",\"line\":{\"color\":\"#CC0000\",\"width\":1},\"marker\":{\"size\":1},\"mode\":\"markers+lines\",\"showlegend\":false,\"x\":[95.0,96.0,96.0,95.0,95.0],\"y\":[9361.18568879064,9361.18568879064,9436.31963141363,9436.31963141363,9361.18568879064],\"type\":\"scatter\"},{\"fill\":\"toself\",\"fillcolor\":\"#FF0000\",\"line\":{\"color\":\"#CC0000\",\"width\":1},\"marker\":{\"size\":1},\"mode\":\"markers+lines\",\"showlegend\":false,\"x\":[96.0,97.0,97.0,96.0,96.0],\"y\":[9286.766896901967,9286.766896901967,9361.297844004665,9361.297844004665,9286.766896901967],\"type\":\"scatter\"},{\"fill\":\"toself\",\"fillcolor\":\"#FF0000\",\"line\":{\"color\":\"#CC0000\",\"width\":1},\"marker\":{\"size\":1},\"mode\":\"markers+lines\",\"showlegend\":false,\"x\":[97.0,98.0,98.0,97.0,97.0],\"y\":[9212.947936762903,9212.947936762903,9286.876832091859,9286.876832091859,9212.947936762903],\"type\":\"scatter\"},{\"fill\":\"toself\",\"fillcolor\":\"#FF0000\",\"line\":{\"color\":\"#CC0000\",\"width\":1},\"marker\":{\"size\":1},\"mode\":\"markers+lines\",\"showlegend\":false,\"x\":[98.0,99.0,99.0,98.0,98.0],\"y\":[9139.727459453106,9139.727459453106,9213.055704449926,9213.055704449926,9139.727459453106],\"type\":\"scatter\"},{\"fill\":\"toself\",\"fillcolor\":\"#FF0000\",\"line\":{\"color\":\"#CC0000\",\"width\":1},\"marker\":{\"size\":1},\"mode\":\"markers+lines\",\"showlegend\":false,\"x\":[99.0,100.0,100.0,99.0,99.0],\"y\":[9067.103703650571,9067.103703650571,9139.833112265975,9139.833112265975,9067.103703650571],\"type\":\"scatter\"},{\"fill\":\"toself\",\"fillcolor\":\"#FF0000\",\"line\":{\"color\":\"#CC0000\",\"width\":1},\"marker\":{\"size\":1},\"mode\":\"markers+lines\",\"showlegend\":false,\"x\":[100.0,101.0,101.0,100.0,100.0],\"y\":[8995.074537145398,8995.074537145398,9067.207294494385,9067.207294494385,8995.074537145398],\"type\":\"scatter\"},{\"fill\":\"toself\",\"fillcolor\":\"#FF0000\",\"line\":{\"color\":\"#CC0000\",\"width\":1},\"marker\":{\"size\":1},\"mode\":\"markers+lines\",\"showlegend\":false,\"x\":[101.0,102.0,102.0,101.0,101.0],\"y\":[8923.637494849338,8923.637494849338,8995.176119396727,8995.176119396727,8923.637494849338],\"type\":\"scatter\"},{\"fill\":\"toself\",\"fillcolor\":\"#FF0000\",\"line\":{\"color\":\"#CC0000\",\"width\":1},\"marker\":{\"size\":1},\"mode\":\"markers+lines\",\"showlegend\":false,\"x\":[102.0,103.0,103.0,102.0,102.0],\"y\":[8852.789813589181,8852.789813589181,8923.737122578523,8923.737122578523,8852.789813589181],\"type\":\"scatter\"},{\"fill\":\"toself\",\"fillcolor\":\"#FF0000\",\"line\":{\"color\":\"#CC0000\",\"width\":1},\"marker\":{\"size\":1},\"mode\":\"markers+lines\",\"showlegend\":false,\"x\":[103.0,104.0,104.0,103.0,103.0],\"y\":[8782.528463947814,8782.528463947814,8852.887541810313,8852.887541810313,8782.528463947814],\"type\":\"scatter\"},{\"fill\":\"toself\",\"fillcolor\":\"#FF0000\",\"line\":{\"color\":\"#CC0000\",\"width\":1},\"marker\":{\"size\":1},\"mode\":\"markers+lines\",\"showlegend\":false,\"x\":[104.0,105.0,105.0,104.0,104.0],\"y\":[8712.85017939544,8712.85017939544,8782.624348895513,8782.624348895513,8712.85017939544],\"type\":\"scatter\"},{\"fill\":\"toself\",\"fillcolor\":\"#FF0000\",\"line\":{\"color\":\"#CC0000\",\"width\":1},\"marker\":{\"size\":1},\"mode\":\"markers+lines\",\"showlegend\":false,\"x\":[105.0,106.0,106.0,105.0,105.0],\"y\":[8643.751482938209,8643.751482938209,8712.944278825473,8712.944278825473,8643.751482938209],\"type\":\"scatter\"},{\"fill\":\"toself\",\"fillcolor\":\"#FF0000\",\"line\":{\"color\":\"#CC0000\",\"width\":1},\"marker\":{\"size\":1},\"mode\":\"markers+lines\",\"showlegend\":false,\"x\":[106.0,107.0,107.0,106.0,106.0],\"y\":[8575.228378095804,8575.228378095804,8643.843856437477,8643.843856437477,8575.228378095804],\"type\":\"scatter\"},{\"fill\":\"toself\",\"fillcolor\":\"#FF0000\",\"line\":{\"color\":\"#CC0000\",\"width\":1},\"marker\":{\"size\":1},\"mode\":\"markers+lines\",\"showlegend\":false,\"x\":[107.0,108.0,108.0,107.0,107.0],\"y\":[8507.276021530359,8507.276021530359,8575.319754171333,8575.319754171333,8507.276021530359],\"type\":\"scatter\"},{\"fill\":\"toself\",\"fillcolor\":\"#FF0000\",\"line\":{\"color\":\"#CC0000\",\"width\":1},\"marker\":{\"size\":1},\"mode\":\"markers+lines\",\"showlegend\":false,\"x\":[108.0,109.0,109.0,108.0,108.0],\"y\":[8439.891923828398,8439.891923828398,8507.369163973302,8507.369163973302,8439.891923828398],\"type\":\"scatter\"},{\"fill\":\"toself\",\"fillcolor\":\"#FF0000\",\"line\":{\"color\":\"#CC0000\",\"width\":1},\"marker\":{\"size\":1},\"mode\":\"markers+lines\",\"showlegend\":false,\"x\":[109.0,110.0,110.0,109.0,109.0],\"y\":[8373.071996503715,8373.071996503715,8439.986637188607,8439.986637188607,8373.071996503715],\"type\":\"scatter\"},{\"fill\":\"toself\",\"fillcolor\":\"#FF0000\",\"line\":{\"color\":\"#CC0000\",\"width\":1},\"marker\":{\"size\":1},\"mode\":\"markers+lines\",\"showlegend\":false,\"x\":[110.0,111.0,111.0,110.0,110.0],\"y\":[8306.81204107029,8306.81204107029,8373.168074688268,8373.168074688268,8306.81204107029],\"type\":\"scatter\"},{\"fill\":\"toself\",\"fillcolor\":\"#FF0000\",\"line\":{\"color\":\"#CC0000\",\"width\":1},\"marker\":{\"size\":1},\"mode\":\"markers+lines\",\"showlegend\":false,\"x\":[111.0,112.0,112.0,111.0,111.0],\"y\":[8241.107763543632,8241.107763543632,8306.909271668894,8306.909271668894,8241.107763543632],\"type\":\"scatter\"},{\"fill\":\"toself\",\"fillcolor\":\"#FF0000\",\"line\":{\"color\":\"#CC0000\",\"width\":1},\"marker\":{\"size\":1},\"mode\":\"markers+lines\",\"showlegend\":false,\"x\":[112.0,113.0,113.0,112.0,112.0],\"y\":[8175.954787741366,8175.954787741366,8241.205934032138,8241.205934032138,8175.954787741366],\"type\":\"scatter\"},{\"fill\":\"toself\",\"fillcolor\":\"#FF0000\",\"line\":{\"color\":\"#CC0000\",\"width\":1},\"marker\":{\"size\":1},\"mode\":\"markers+lines\",\"showlegend\":false,\"x\":[113.0,114.0,114.0,113.0,113.0],\"y\":[8111.348667816076,8111.348667816076,8176.05369321627,8176.05369321627,8111.348667816076],\"type\":\"scatter\"},{\"fill\":\"toself\",\"fillcolor\":\"#FF0000\",\"line\":{\"color\":\"#CC0000\",\"width\":1},\"marker\":{\"size\":1},\"mode\":\"markers+lines\",\"showlegend\":false,\"x\":[114.0,115.0,115.0,114.0,114.0],\"y\":[8047.284900350452,8047.284900350452,8111.448119270738,8111.448119270738,8047.284900350452],\"type\":\"scatter\"},{\"fill\":\"toself\",\"fillcolor\":\"#FF0000\",\"line\":{\"color\":\"#CC0000\",\"width\":1},\"marker\":{\"size\":1},\"mode\":\"markers+lines\",\"showlegend\":false,\"x\":[115.0,116.0,116.0,115.0,115.0],\"y\":[7983.7589361059,7983.7589361059,8047.384732049411,8047.384732049411,7983.7589361059],\"type\":\"scatter\"},{\"fill\":\"toself\",\"fillcolor\":\"#FF0000\",\"line\":{\"color\":\"#CC0000\",\"width\":1},\"marker\":{\"size\":1},\"mode\":\"markers+lines\",\"showlegend\":false,\"x\":[116.0,117.0,117.0,116.0,116.0],\"y\":[7920.76619122992,7920.76619122992,7983.859010620654,7983.859010620654,7920.76619122992],\"type\":\"scatter\"},{\"fill\":\"toself\",\"fillcolor\":\"#FF0000\",\"line\":{\"color\":\"#CC0000\",\"width\":1},\"marker\":{\"size\":1},\"mode\":\"markers+lines\",\"showlegend\":false,\"x\":[117.0,118.0,118.0,117.0,117.0],\"y\":[7858.302057531606,7858.302057531606,7920.8664012639065,7920.8664012639065,7858.302057531606],\"type\":\"scatter\"},{\"fill\":\"toself\",\"fillcolor\":\"#FF0000\",\"line\":{\"color\":\"#CC0000\",\"width\":1},\"marker\":{\"size\":1},\"mode\":\"markers+lines\",\"showlegend\":false,\"x\":[118.0,119.0,119.0,118.0,118.0],\"y\":[7796.3619115269275,7796.3619115269275,7858.402324603028,7858.402324603028,7796.3619115269275],\"type\":\"scatter\"},{\"fill\":\"toself\",\"fillcolor\":\"#FF0000\",\"line\":{\"color\":\"#CC0000\",\"width\":1},\"marker\":{\"size\":1},\"mode\":\"markers+lines\",\"showlegend\":false,\"x\":[119.0,120.0,120.0,119.0,119.0],\"y\":[7734.941122172554,7734.941122172554,7796.462182323138,7796.462182323138,7734.941122172554],\"type\":\"scatter\"},{\"fill\":\"toself\",\"fillcolor\":\"#FF0000\",\"line\":{\"color\":\"#CC0000\",\"width\":1},\"marker\":{\"size\":1},\"mode\":\"markers+lines\",\"showlegend\":false,\"x\":[120.0,121.0,121.0,120.0,120.0],\"y\":[7674.035057413997,7674.035057413997,7735.041363687999,7735.041363687999,7674.035057413997],\"type\":\"scatter\"},{\"fill\":\"toself\",\"fillcolor\":\"#FF0000\",\"line\":{\"color\":\"#CC0000\",\"width\":1},\"marker\":{\"size\":1},\"mode\":\"markers+lines\",\"showlegend\":false,\"x\":[121.0,122.0,122.0,121.0,121.0],\"y\":[7613.639089799249,7613.639089799249,7674.135251857292,7674.135251857292,7613.639089799249],\"type\":\"scatter\"},{\"fill\":\"toself\",\"fillcolor\":\"#FF0000\",\"line\":{\"color\":\"#CC0000\",\"width\":1},\"marker\":{\"size\":1},\"mode\":\"markers+lines\",\"showlegend\":false,\"x\":[122.0,123.0,123.0,122.0,122.0],\"y\":[7553.748601242015,7553.748601242015,7613.739229868032,7613.739229868032,7553.748601242015],\"type\":\"scatter\"},{\"fill\":\"toself\",\"fillcolor\":\"#FF0000\",\"line\":{\"color\":\"#CC0000\",\"width\":1},\"marker\":{\"size\":1},\"mode\":\"markers+lines\",\"showlegend\":false,\"x\":[123.0,124.0,124.0,123.0,123.0],\"y\":[7494.3589872638795,7494.3589872638795,7553.848686302153,7553.848686302153,7494.3589872638795],\"type\":\"scatter\"},{\"fill\":\"toself\",\"fillcolor\":\"#FF0000\",\"line\":{\"color\":\"#CC0000\",\"width\":1},\"marker\":{\"size\":1},\"mode\":\"markers+lines\",\"showlegend\":false,\"x\":[124.0,125.0,125.0,124.0,124.0],\"y\":[7435.465660781828,7435.465660781828,7494.459020408466,7494.459020408466,7435.465660781828],\"type\":\"scatter\"},{\"fill\":\"toself\",\"fillcolor\":\"#FF0000\",\"line\":{\"color\":\"#CC0000\",\"width\":1},\"marker\":{\"size\":1},\"mode\":\"markers+lines\",\"showlegend\":false,\"x\":[125.0,126.0,126.0,125.0,125.0],\"y\":[7377.0640554932,7377.0640554932,7435.56564670273,7435.56564670273,7377.0640554932],\"type\":\"scatter\"},{\"fill\":\"toself\",\"fillcolor\":\"#FF0000\",\"line\":{\"color\":\"#CC0000\",\"width\":1},\"marker\":{\"size\":1},\"mode\":\"markers+lines\",\"showlegend\":false,\"x\":[126.0,127.0,127.0,126.0,126.0],\"y\":[7319.149628931631,7319.149628931631,7377.163999076247,7377.163999076247,7319.149628931631],\"type\":\"scatter\"},{\"fill\":\"toself\",\"fillcolor\":\"#FF0000\",\"line\":{\"color\":\"#CC0000\",\"width\":1},\"marker\":{\"size\":1},\"mode\":\"markers+lines\",\"showlegend\":false,\"x\":[127.0,128.0,128.0,127.0,127.0],\"y\":[7261.7178652292,7261.7178652292,7319.249534415832,7319.249534415832,7261.7178652292],\"type\":\"scatter\"},{\"fill\":\"toself\",\"fillcolor\":\"#FF0000\",\"line\":{\"color\":\"#CC0000\",\"width\":1},\"marker\":{\"size\":1},\"mode\":\"markers+lines\",\"showlegend\":false,\"x\":[128.0,129.0,129.0,128.0,128.0],\"y\":[7204.764277605801,7204.764277605801,7261.817735769896,7261.817735769896,7204.764277605801],\"type\":\"scatter\"},{\"fill\":\"toself\",\"fillcolor\":\"#FF0000\",\"line\":{\"color\":\"#CC0000\",\"width\":1},\"marker\":{\"size\":1},\"mode\":\"markers+lines\",\"showlegend\":false,\"x\":[129.0,130.0,130.0,129.0,129.0],\"y\":[7148.284410600248,7148.284410600248,7204.86411510414,7204.86411510414,7148.284410600248],\"type\":\"scatter\"},{\"fill\":\"toself\",\"fillcolor\":\"#FF0000\",\"line\":{\"color\":\"#CC0000\",\"width\":1},\"marker\":{\"size\":1},\"mode\":\"markers+lines\",\"showlegend\":false,\"x\":[130.0,131.0,131.0,130.0,130.0],\"y\":[7092.273842053461,7092.273842053461,7148.384215691668,7148.384215691668,7092.273842053461],\"type\":\"scatter\"},{\"fill\":\"toself\",\"fillcolor\":\"#FF0000\",\"line\":{\"color\":\"#CC0000\",\"width\":1},\"marker\":{\"size\":1},\"mode\":\"markers+lines\",\"showlegend\":false,\"x\":[131.0,132.0,132.0,131.0,131.0],\"y\":[7036.728184855443,7036.728184855443,7092.373614181834,7092.373614181834,7036.728184855443],\"type\":\"scatter\"},{\"fill\":\"toself\",\"fillcolor\":\"#FF0000\",\"line\":{\"color\":\"#CC0000\",\"width\":1},\"marker\":{\"size\":1},\"mode\":\"markers+lines\",\"showlegend\":false,\"x\":[132.0,133.0,133.0,132.0,132.0],\"y\":[6981.643088469573,6981.643088469573,7036.8279223861155,7036.8279223861155,6981.643088469573],\"type\":\"scatter\"},{\"fill\":\"toself\",\"fillcolor\":\"#FF0000\",\"line\":{\"color\":\"#CC0000\",\"width\":1},\"marker\":{\"size\":1},\"mode\":\"markers+lines\",\"showlegend\":false,\"x\":[133.0,134.0,134.0,133.0,133.0],\"y\":[6927.0142402487545,6927.0142402487545,6981.742788813823,6981.742788813823,6927.0142402487545],\"type\":\"scatter\"},{\"fill\":\"toself\",\"fillcolor\":\"#FF0000\",\"line\":{\"color\":\"#CC0000\",\"width\":1},\"marker\":{\"size\":1},\"mode\":\"markers+lines\",\"showlegend\":false,\"x\":[134.0,135.0,135.0,134.0,134.0],\"y\":[6872.8373665594345,6872.8373665594345,6927.113899985396,6927.113899985396,6872.8373665594345],\"type\":\"scatter\"},{\"fill\":\"toself\",\"fillcolor\":\"#FF0000\",\"line\":{\"color\":\"#CC0000\",\"width\":1},\"marker\":{\"size\":1},\"mode\":\"markers+lines\",\"showlegend\":false,\"x\":[135.0,136.0,136.0,135.0,135.0],\"y\":[6819.108233728741,6819.108233728741,6872.936981546264,6872.936981546264,6819.108233728741],\"type\":\"scatter\"},{\"fill\":\"toself\",\"fillcolor\":\"#FF0000\",\"line\":{\"color\":\"#CC0000\",\"width\":1},\"marker\":{\"size\":1},\"mode\":\"markers+lines\",\"showlegend\":false,\"x\":[136.0,137.0,137.0,136.0,136.0],\"y\":[6765.822648830329,6765.822648830329,6819.207799202028,6819.207799202028,6765.822648830329],\"type\":\"scatter\"},{\"fill\":\"toself\",\"fillcolor\":\"#FF0000\",\"line\":{\"color\":\"#CC0000\",\"width\":1},\"marker\":{\"size\":1},\"mode\":\"markers+lines\",\"showlegend\":false,\"x\":[137.0,138.0,138.0,137.0,137.0],\"y\":[6712.976460323389,6712.976460323389,6765.922159491926,6765.922159491926,6712.976460323389],\"type\":\"scatter\"},{\"fill\":\"toself\",\"fillcolor\":\"#FF0000\",\"line\":{\"color\":\"#CC0000\",\"width\":1},\"marker\":{\"size\":1},\"mode\":\"markers+lines\",\"showlegend\":false,\"x\":[138.0,139.0,139.0,138.0,138.0],\"y\":[6660.565558558731,6660.565558558731,6713.0759104166045,6713.0759104166045,6660.565558558731],\"type\":\"scatter\"},{\"fill\":\"toself\",\"fillcolor\":\"#FF0000\",\"line\":{\"color\":\"#CC0000\",\"width\":1},\"marker\":{\"size\":1},\"mode\":\"markers+lines\",\"showlegend\":false,\"x\":[139.0,140.0,140.0,139.0,139.0],\"y\":[6608.585876164111,6608.585876164111,6660.664941933986,6660.664941933986,6608.585876164111],\"type\":\"scatter\"},{\"fill\":\"toself\",\"fillcolor\":\"#FF0000\",\"line\":{\"color\":\"#CC0000\",\"width\":1},\"marker\":{\"size\":1},\"mode\":\"markers+lines\",\"showlegend\":false,\"x\":[140.0,141.0,141.0,140.0,140.0],\"y\":[6557.033388321163,6557.033388321163,6608.6851863363345,6608.6851863363345,6557.033388321163],\"type\":\"scatter\"},{\"fill\":\"toself\",\"fillcolor\":\"#FF0000\",\"line\":{\"color\":\"#CC0000\",\"width\":1},\"marker\":{\"size\":1},\"mode\":\"markers+lines\",\"showlegend\":false,\"x\":[141.0,142.0,142.0,141.0,141.0],\"y\":[6505.904112944133,6505.904112944133,6557.132618519753,6557.132618519753,6505.904112944133],\"type\":\"scatter\"},{\"fill\":\"toself\",\"fillcolor\":\"#FF0000\",\"line\":{\"color\":\"#CC0000\",\"width\":1},\"marker\":{\"size\":1},\"mode\":\"markers+lines\",\"showlegend\":false,\"x\":[142.0,143.0,143.0,142.0,142.0],\"y\":[6455.194110770809,6455.194110770809,6506.003256156991,6506.003256156991,6455.194110770809],\"type\":\"scatter\"},{\"fill\":\"toself\",\"fillcolor\":\"#FF0000\",\"line\":{\"color\":\"#CC0000\",\"width\":1},\"marker\":{\"size\":1},\"mode\":\"markers+lines\",\"showlegend\":false,\"x\":[143.0,144.0,144.0,143.0,143.0],\"y\":[6404.899485374183,6404.899485374183,6455.293159783117,6455.293159783117,6404.899485374183],\"type\":\"scatter\"},{\"fill\":\"toself\",\"fillcolor\":\"#FF0000\",\"line\":{\"color\":\"#CC0000\",\"width\":1},\"marker\":{\"size\":1},\"mode\":\"markers+lines\",\"showlegend\":false,\"x\":[144.0,145.0,145.0,144.0,144.0],\"y\":[6355.016383103651,6355.016383103651,6404.99843280314,6404.99843280314,6355.016383103651],\"type\":\"scatter\"},{\"fill\":\"toself\",\"fillcolor\":\"#FF0000\",\"line\":{\"color\":\"#CC0000\",\"width\":1},\"marker\":{\"size\":1},\"mode\":\"markers+lines\",\"showlegend\":false,\"x\":[145.0,146.0,146.0,145.0,145.0],\"y\":[6305.54099296294,6305.54099296294,6355.115221429497,6355.115221429497,6305.54099296294],\"type\":\"scatter\"},{\"fill\":\"toself\",\"fillcolor\":\"#FF0000\",\"line\":{\"color\":\"#CC0000\",\"width\":1},\"marker\":{\"size\":1},\"mode\":\"markers+lines\",\"showlegend\":false,\"x\":[146.0,147.0,147.0,146.0,146.0],\"y\":[6256.469546431963,6256.469546431963,6305.639714556968,6305.639714556968,6256.469546431963],\"type\":\"scatter\"},{\"fill\":\"toself\",\"fillcolor\":\"#FF0000\",\"line\":{\"color\":\"#CC0000\",\"width\":1},\"marker\":{\"size\":1},\"mode\":\"markers+lines\",\"showlegend\":false,\"x\":[147.0,148.0,148.0,147.0,147.0],\"y\":[6207.798317238735,6207.798317238735,6256.568143581897,6256.568143581897,6207.798317238735],\"type\":\"scatter\"},{\"fill\":\"toself\",\"fillcolor\":\"#FF0000\",\"line\":{\"color\":\"#CC0000\",\"width\":1},\"marker\":{\"size\":1},\"mode\":\"markers+lines\",\"showlegend\":false,\"x\":[148.0,149.0,149.0,148.0,148.0],\"y\":[6159.523621087213,6159.523621087213,6207.896782171841,6207.896782171841,6159.523621087213],\"type\":\"scatter\"},{\"fill\":\"toself\",\"fillcolor\":\"#FF0000\",\"line\":{\"color\":\"#CC0000\",\"width\":1},\"marker\":{\"size\":1},\"mode\":\"markers+lines\",\"showlegend\":false,\"x\":[149.0,150.0,150.0,149.0,149.0],\"y\":[6111.641815346255,6111.641815346255,6159.621945991435,6159.621945991435,6111.641815346255],\"type\":\"scatter\"},{\"fill\":\"toself\",\"fillcolor\":\"#FF0000\",\"line\":{\"color\":\"#CC0000\",\"width\":1},\"marker\":{\"size\":1},\"mode\":\"markers+lines\",\"showlegend\":false,\"x\":[150.0,151.0,151.0,150.0,150.0],\"y\":[6064.14929870472,6064.14929870472,6111.739992389659,6111.739992389659,6064.14929870472],\"type\":\"scatter\"},{\"fill\":\"toself\",\"fillcolor\":\"#FF0000\",\"line\":{\"color\":\"#CC0000\",\"width\":1},\"marker\":{\"size\":1},\"mode\":\"markers+lines\",\"showlegend\":false,\"x\":[151.0,152.0,152.0,151.0,151.0],\"y\":[6017.042510796586,6017.042510796586,6064.247320053129,6064.247320053129,6017.042510796586],\"type\":\"scatter\"},{\"fill\":\"toself\",\"fillcolor\":\"#FF0000\",\"line\":{\"color\":\"#CC0000\",\"width\":1},\"marker\":{\"size\":1},\"mode\":\"markers+lines\",\"showlegend\":false,\"x\":[152.0,153.0,153.0,152.0,152.0],\"y\":[5970.317931800705,5970.317931800705,6017.140368630113,6017.140368630113,5970.317931800705],\"type\":\"scatter\"},{\"fill\":\"toself\",\"fillcolor\":\"#FF0000\",\"line\":{\"color\":\"#CC0000\",\"width\":1},\"marker\":{\"size\":1},\"mode\":\"markers+lines\",\"showlegend\":false,\"x\":[153.0,154.0,154.0,153.0,153.0],\"y\":[5923.972082018187,5923.972082018187,5970.415618328586,5970.415618328586,5923.972082018187],\"type\":\"scatter\"},{\"fill\":\"toself\",\"fillcolor\":\"#FF0000\",\"line\":{\"color\":\"#CC0000\",\"width\":1},\"marker\":{\"size\":1},\"mode\":\"markers+lines\",\"showlegend\":false,\"x\":[154.0,155.0,155.0,154.0,154.0],\"y\":[5878.001521431034,5878.001521431034,5924.069589492595,5924.069589492595,5878.001521431034],\"type\":\"scatter\"},{\"fill\":\"toself\",\"fillcolor\":\"#FF0000\",\"line\":{\"color\":\"#CC0000\",\"width\":1},\"marker\":{\"size\":1},\"mode\":\"markers+lines\",\"showlegend\":false,\"x\":[155.0,156.0,156.0,155.0,155.0],\"y\":[5832.402849245001,5832.402849245001,5878.0988421597385,5878.0988421597385,5832.402849245001],\"type\":\"scatter\"},{\"fill\":\"toself\",\"fillcolor\":\"#FF0000\",\"line\":{\"color\":\"#CC0000\",\"width\":1},\"marker\":{\"size\":1},\"mode\":\"markers+lines\",\"showlegend\":false,\"x\":[156.0,157.0,157.0,156.0,156.0],\"y\":[5787.172703419053,5787.172703419053,5832.499975602842,5832.499975602842,5787.172703419053],\"type\":\"scatter\"},{\"fill\":\"toself\",\"fillcolor\":\"#FF0000\",\"line\":{\"color\":\"#CC0000\",\"width\":1},\"marker\":{\"size\":1},\"mode\":\"markers+lines\",\"showlegend\":false,\"x\":[157.0,158.0,158.0,157.0,157.0],\"y\":[5742.307760184402,5742.307760184402,5787.269627858644,5787.269627858644,5742.307760184402],\"type\":\"scatter\"},{\"fill\":\"toself\",\"fillcolor\":\"#FF0000\",\"line\":{\"color\":\"#CC0000\",\"width\":1},\"marker\":{\"size\":1},\"mode\":\"markers+lines\",\"showlegend\":false,\"x\":[158.0,159.0,159.0,158.0,158.0],\"y\":[5697.804733554689,5697.804733554689,5742.404475245543,5742.404475245543,5697.804733554689],\"type\":\"scatter\"},{\"fill\":\"toself\",\"fillcolor\":\"#FF0000\",\"line\":{\"color\":\"#CC0000\",\"width\":1},\"marker\":{\"size\":1},\"mode\":\"markers+lines\",\"showlegend\":false,\"x\":[159.0,160.0,160.0,159.0,159.0],\"y\":[5653.660374829719,5653.660374829719,5697.901231873111,5697.901231873111,5653.660374829719],\"type\":\"scatter\"},{\"fill\":\"toself\",\"fillcolor\":\"#FF0000\",\"line\":{\"color\":\"#CC0000\",\"width\":1},\"marker\":{\"size\":1},\"mode\":\"markers+lines\",\"showlegend\":false,\"x\":[160.0,161.0,161.0,160.0,160.0],\"y\":[5609.871472094422,5609.871472094422,5653.756649144919,5653.756649144919,5609.871472094422],\"type\":\"scatter\"},{\"fill\":\"toself\",\"fillcolor\":\"#FF0000\",\"line\":{\"color\":\"#CC0000\",\"width\":1},\"marker\":{\"size\":1},\"mode\":\"markers+lines\",\"showlegend\":false,\"x\":[161.0,162.0,162.0,161.0,161.0],\"y\":[5566.434849714575,5566.434849714575,5609.967515256681,5609.967515256681,5566.434849714575],\"type\":\"scatter\"},{\"fill\":\"toself\",\"fillcolor\":\"#FF0000\",\"line\":{\"color\":\"#CC0000\",\"width\":1},\"marker\":{\"size\":1},\"mode\":\"markers+lines\",\"showlegend\":false,\"x\":[162.0,163.0,163.0,162.0,162.0],\"y\":[5523.3473678307755,5523.3473678307755,5566.530654691211,5566.530654691211,5523.3473678307755],\"type\":\"scatter\"},{\"fill\":\"toself\",\"fillcolor\":\"#FF0000\",\"line\":{\"color\":\"#CC0000\",\"width\":1},\"marker\":{\"size\":1},\"mode\":\"markers+lines\",\"showlegend\":false,\"x\":[163.0,164.0,164.0,163.0,163.0],\"y\":[5480.605921851958,5480.605921851958,5523.4429277117115,5523.4429277117115,5480.605921851958],\"type\":\"scatter\"},{\"fill\":\"toself\",\"fillcolor\":\"#FF0000\",\"line\":{\"color\":\"#CC0000\",\"width\":1},\"marker\":{\"size\":1},\"mode\":\"markers+lines\",\"showlegend\":false,\"x\":[164.0,165.0,165.0,164.0,164.0],\"y\":[5438.20744194951,5438.20744194951,5480.701229854566,5480.701229854566,5438.20744194951],\"type\":\"scatter\"},{\"fill\":\"toself\",\"fillcolor\":\"#FF0000\",\"line\":{\"color\":\"#CC0000\",\"width\":1},\"marker\":{\"size\":1},\"mode\":\"markers+lines\",\"showlegend\":false,\"x\":[165.0,166.0,166.0,165.0,165.0],\"y\":[5396.148892553161,5396.148892553161,5438.302491422916,5438.302491422916,5396.148892553161],\"type\":\"scatter\"},{\"fill\":\"toself\",\"fillcolor\":\"#FF0000\",\"line\":{\"color\":\"#CC0000\",\"width\":1},\"marker\":{\"size\":1},\"mode\":\"markers+lines\",\"showlegend\":false,\"x\":[166.0,167.0,167.0,166.0,166.0],\"y\":[5354.427271849371,5354.427271849371,5396.243676981916,5396.243676981916,5354.427271849371],\"type\":\"scatter\"},{\"fill\":\"toself\",\"fillcolor\":\"#FF0000\",\"line\":{\"color\":\"#CC0000\",\"width\":1},\"marker\":{\"size\":1},\"mode\":\"markers+lines\",\"showlegend\":false,\"x\":[167.0,168.0,168.0,167.0,167.0],\"y\":[5313.039611283197,5313.039611283197,5354.521784856638,5354.521784856638,5313.039611283197],\"type\":\"scatter\"},{\"fill\":\"toself\",\"fillcolor\":\"#FF0000\",\"line\":{\"color\":\"#CC0000\",\"width\":1},\"marker\":{\"size\":1},\"mode\":\"markers+lines\",\"showlegend\":false,\"x\":[168.0,169.0,169.0,168.0,168.0],\"y\":[5271.982975064205,5271.982975064205,5313.133846633371,5313.133846633371,5271.982975064205],\"type\":\"scatter\"},{\"fill\":\"toself\",\"fillcolor\":\"#FF0000\",\"line\":{\"color\":\"#CC0000\",\"width\":1},\"marker\":{\"size\":1},\"mode\":\"markers+lines\",\"showlegend\":false,\"x\":[169.0,170.0,170.0,169.0,169.0],\"y\":[5231.254459677008,5231.254459677008,5272.076926665038,5272.076926665038,5231.254459677008],\"type\":\"scatter\"},{\"fill\":\"toself\",\"fillcolor\":\"#FF0000\",\"line\":{\"color\":\"#CC0000\",\"width\":1},\"marker\":{\"size\":1},\"mode\":\"markers+lines\",\"showlegend\":false,\"x\":[170.0,171.0,171.0,170.0,170.0],\"y\":[5190.851193397177,5190.851193397177,5231.348121581443,5231.348121581443,5190.851193397177],\"type\":\"scatter\"},{\"fill\":\"toself\",\"fillcolor\":\"#FF0000\",\"line\":{\"color\":\"#CC0000\",\"width\":1},\"marker\":{\"size\":1},\"mode\":\"markers+lines\",\"showlegend\":false,\"x\":[171.0,172.0,172.0,171.0,171.0],\"y\":[5150.770335812732,5150.770335812732,5190.944559804635,5190.944559804635,5150.770335812732],\"type\":\"scatter\"},{\"fill\":\"toself\",\"fillcolor\":\"#FF0000\",\"line\":{\"color\":\"#CC0000\",\"width\":1},\"marker\":{\"size\":1},\"mode\":\"markers+lines\",\"showlegend\":false,\"x\":[172.0,173.0,173.0,172.0,172.0],\"y\":[5111.009077351773,5111.009077351773,5150.863401070142,5150.863401070142,5111.009077351773],\"type\":\"scatter\"},{\"fill\":\"toself\",\"fillcolor\":\"#FF0000\",\"line\":{\"color\":\"#CC0000\",\"width\":1},\"marker\":{\"size\":1},\"mode\":\"markers+lines\",\"showlegend\":false,\"x\":[173.0,174.0,174.0,173.0,173.0],\"y\":[5071.564638816591,5071.564638816591,5111.101835954252,5111.101835954252,5071.564638816591],\"type\":\"scatter\"},{\"fill\":\"toself\",\"fillcolor\":\"#FF0000\",\"line\":{\"color\":\"#CC0000\",\"width\":1},\"marker\":{\"size\":1},\"mode\":\"markers+lines\",\"showlegend\":false,\"x\":[174.0,175.0,175.0,174.0,174.0],\"y\":[5032.434270924368,5032.434270924368,5071.657085407734,5071.657085407734,5032.434270924368],\"type\":\"scatter\"},{\"fill\":\"toself\",\"fillcolor\":\"#FF0000\",\"line\":{\"color\":\"#CC0000\",\"width\":1},\"marker\":{\"size\":1},\"mode\":\"markers+lines\",\"showlegend\":false,\"x\":[175.0,176.0,176.0,175.0,175.0],\"y\":[4993.6152538549395,4993.6152538549395,5032.526400296367,5032.526400296367,4993.6152538549395],\"type\":\"scatter\"},{\"fill\":\"toself\",\"fillcolor\":\"#FF0000\",\"line\":{\"color\":\"#CC0000\",\"width\":1},\"marker\":{\"size\":1},\"mode\":\"markers+lines\",\"showlegend\":false,\"x\":[176.0,177.0,177.0,176.0,176.0],\"y\":[4955.104896805608,4955.104896805608,4993.7070609484,4993.7070609484,4955.104896805608],\"type\":\"scatter\"},{\"fill\":\"toself\",\"fillcolor\":\"#FF0000\",\"line\":{\"color\":\"#CC0000\",\"width\":1},\"marker\":{\"size\":1},\"mode\":\"markers+lines\",\"showlegend\":false,\"x\":[177.0,178.0,178.0,177.0,177.0],\"y\":[4916.900537553353,4916.900537553353,4955.196376709208,4955.196376709208,4916.900537553353],\"type\":\"scatter\"},{\"fill\":\"toself\",\"fillcolor\":\"#FF0000\",\"line\":{\"color\":\"#CC0000\",\"width\":1},\"marker\":{\"size\":1},\"mode\":\"markers+lines\",\"showlegend\":false,\"x\":[178.0,179.0,179.0,178.0,178.0],\"y\":[4878.999542024317,4878.999542024317,4916.991685503167,4916.991685503167,4878.999542024317],\"type\":\"scatter\"},{\"fill\":\"toself\",\"fillcolor\":\"#FF0000\",\"line\":{\"color\":\"#CC0000\",\"width\":1},\"marker\":{\"size\":1},\"mode\":\"markers+lines\",\"showlegend\":false,\"x\":[179.0,180.0,180.0,179.0,179.0],\"y\":[4841.399303870868,4841.399303870868,4879.090353403067,4879.090353403067,4841.399303870868],\"type\":\"scatter\"}],                        {\"template\":{\"data\":{\"histogram2dcontour\":[{\"type\":\"histogram2dcontour\",\"colorbar\":{\"outlinewidth\":0,\"ticks\":\"\"},\"colorscale\":[[0.0,\"#0d0887\"],[0.1111111111111111,\"#46039f\"],[0.2222222222222222,\"#7201a8\"],[0.3333333333333333,\"#9c179e\"],[0.4444444444444444,\"#bd3786\"],[0.5555555555555556,\"#d8576b\"],[0.6666666666666666,\"#ed7953\"],[0.7777777777777778,\"#fb9f3a\"],[0.8888888888888888,\"#fdca26\"],[1.0,\"#f0f921\"]]}],\"choropleth\":[{\"type\":\"choropleth\",\"colorbar\":{\"outlinewidth\":0,\"ticks\":\"\"}}],\"histogram2d\":[{\"type\":\"histogram2d\",\"colorbar\":{\"outlinewidth\":0,\"ticks\":\"\"},\"colorscale\":[[0.0,\"#0d0887\"],[0.1111111111111111,\"#46039f\"],[0.2222222222222222,\"#7201a8\"],[0.3333333333333333,\"#9c179e\"],[0.4444444444444444,\"#bd3786\"],[0.5555555555555556,\"#d8576b\"],[0.6666666666666666,\"#ed7953\"],[0.7777777777777778,\"#fb9f3a\"],[0.8888888888888888,\"#fdca26\"],[1.0,\"#f0f921\"]]}],\"heatmap\":[{\"type\":\"heatmap\",\"colorbar\":{\"outlinewidth\":0,\"ticks\":\"\"},\"colorscale\":[[0.0,\"#0d0887\"],[0.1111111111111111,\"#46039f\"],[0.2222222222222222,\"#7201a8\"],[0.3333333333333333,\"#9c179e\"],[0.4444444444444444,\"#bd3786\"],[0.5555555555555556,\"#d8576b\"],[0.6666666666666666,\"#ed7953\"],[0.7777777777777778,\"#fb9f3a\"],[0.8888888888888888,\"#fdca26\"],[1.0,\"#f0f921\"]]}],\"heatmapgl\":[{\"type\":\"heatmapgl\",\"colorbar\":{\"outlinewidth\":0,\"ticks\":\"\"},\"colorscale\":[[0.0,\"#0d0887\"],[0.1111111111111111,\"#46039f\"],[0.2222222222222222,\"#7201a8\"],[0.3333333333333333,\"#9c179e\"],[0.4444444444444444,\"#bd3786\"],[0.5555555555555556,\"#d8576b\"],[0.6666666666666666,\"#ed7953\"],[0.7777777777777778,\"#fb9f3a\"],[0.8888888888888888,\"#fdca26\"],[1.0,\"#f0f921\"]]}],\"contourcarpet\":[{\"type\":\"contourcarpet\",\"colorbar\":{\"outlinewidth\":0,\"ticks\":\"\"}}],\"contour\":[{\"type\":\"contour\",\"colorbar\":{\"outlinewidth\":0,\"ticks\":\"\"},\"colorscale\":[[0.0,\"#0d0887\"],[0.1111111111111111,\"#46039f\"],[0.2222222222222222,\"#7201a8\"],[0.3333333333333333,\"#9c179e\"],[0.4444444444444444,\"#bd3786\"],[0.5555555555555556,\"#d8576b\"],[0.6666666666666666,\"#ed7953\"],[0.7777777777777778,\"#fb9f3a\"],[0.8888888888888888,\"#fdca26\"],[1.0,\"#f0f921\"]]}],\"surface\":[{\"type\":\"surface\",\"colorbar\":{\"outlinewidth\":0,\"ticks\":\"\"},\"colorscale\":[[0.0,\"#0d0887\"],[0.1111111111111111,\"#46039f\"],[0.2222222222222222,\"#7201a8\"],[0.3333333333333333,\"#9c179e\"],[0.4444444444444444,\"#bd3786\"],[0.5555555555555556,\"#d8576b\"],[0.6666666666666666,\"#ed7953\"],[0.7777777777777778,\"#fb9f3a\"],[0.8888888888888888,\"#fdca26\"],[1.0,\"#f0f921\"]]}],\"mesh3d\":[{\"type\":\"mesh3d\",\"colorbar\":{\"outlinewidth\":0,\"ticks\":\"\"}}],\"scatter\":[{\"fillpattern\":{\"fillmode\":\"overlay\",\"size\":10,\"solidity\":0.2},\"type\":\"scatter\"}],\"parcoords\":[{\"type\":\"parcoords\",\"line\":{\"colorbar\":{\"outlinewidth\":0,\"ticks\":\"\"}}}],\"scatterpolargl\":[{\"type\":\"scatterpolargl\",\"marker\":{\"colorbar\":{\"outlinewidth\":0,\"ticks\":\"\"}}}],\"bar\":[{\"error_x\":{\"color\":\"#2a3f5f\"},\"error_y\":{\"color\":\"#2a3f5f\"},\"marker\":{\"line\":{\"color\":\"#E5ECF6\",\"width\":0.5},\"pattern\":{\"fillmode\":\"overlay\",\"size\":10,\"solidity\":0.2}},\"type\":\"bar\"}],\"scattergeo\":[{\"type\":\"scattergeo\",\"marker\":{\"colorbar\":{\"outlinewidth\":0,\"ticks\":\"\"}}}],\"scatterpolar\":[{\"type\":\"scatterpolar\",\"marker\":{\"colorbar\":{\"outlinewidth\":0,\"ticks\":\"\"}}}],\"histogram\":[{\"marker\":{\"pattern\":{\"fillmode\":\"overlay\",\"size\":10,\"solidity\":0.2}},\"type\":\"histogram\"}],\"scattergl\":[{\"type\":\"scattergl\",\"marker\":{\"colorbar\":{\"outlinewidth\":0,\"ticks\":\"\"}}}],\"scatter3d\":[{\"type\":\"scatter3d\",\"line\":{\"colorbar\":{\"outlinewidth\":0,\"ticks\":\"\"}},\"marker\":{\"colorbar\":{\"outlinewidth\":0,\"ticks\":\"\"}}}],\"scattermapbox\":[{\"type\":\"scattermapbox\",\"marker\":{\"colorbar\":{\"outlinewidth\":0,\"ticks\":\"\"}}}],\"scatterternary\":[{\"type\":\"scatterternary\",\"marker\":{\"colorbar\":{\"outlinewidth\":0,\"ticks\":\"\"}}}],\"scattercarpet\":[{\"type\":\"scattercarpet\",\"marker\":{\"colorbar\":{\"outlinewidth\":0,\"ticks\":\"\"}}}],\"carpet\":[{\"aaxis\":{\"endlinecolor\":\"#2a3f5f\",\"gridcolor\":\"white\",\"linecolor\":\"white\",\"minorgridcolor\":\"white\",\"startlinecolor\":\"#2a3f5f\"},\"baxis\":{\"endlinecolor\":\"#2a3f5f\",\"gridcolor\":\"white\",\"linecolor\":\"white\",\"minorgridcolor\":\"white\",\"startlinecolor\":\"#2a3f5f\"},\"type\":\"carpet\"}],\"table\":[{\"cells\":{\"fill\":{\"color\":\"#EBF0F8\"},\"line\":{\"color\":\"white\"}},\"header\":{\"fill\":{\"color\":\"#C8D4E3\"},\"line\":{\"color\":\"white\"}},\"type\":\"table\"}],\"barpolar\":[{\"marker\":{\"line\":{\"color\":\"#E5ECF6\",\"width\":0.5},\"pattern\":{\"fillmode\":\"overlay\",\"size\":10,\"solidity\":0.2}},\"type\":\"barpolar\"}],\"pie\":[{\"automargin\":true,\"type\":\"pie\"}]},\"layout\":{\"autotypenumbers\":\"strict\",\"colorway\":[\"#636efa\",\"#EF553B\",\"#00cc96\",\"#ab63fa\",\"#FFA15A\",\"#19d3f3\",\"#FF6692\",\"#B6E880\",\"#FF97FF\",\"#FECB52\"],\"font\":{\"color\":\"#2a3f5f\"},\"hovermode\":\"closest\",\"hoverlabel\":{\"align\":\"left\"},\"paper_bgcolor\":\"white\",\"plot_bgcolor\":\"#E5ECF6\",\"polar\":{\"bgcolor\":\"#E5ECF6\",\"angularaxis\":{\"gridcolor\":\"white\",\"linecolor\":\"white\",\"ticks\":\"\"},\"radialaxis\":{\"gridcolor\":\"white\",\"linecolor\":\"white\",\"ticks\":\"\"}},\"ternary\":{\"bgcolor\":\"#E5ECF6\",\"aaxis\":{\"gridcolor\":\"white\",\"linecolor\":\"white\",\"ticks\":\"\"},\"baxis\":{\"gridcolor\":\"white\",\"linecolor\":\"white\",\"ticks\":\"\"},\"caxis\":{\"gridcolor\":\"white\",\"linecolor\":\"white\",\"ticks\":\"\"}},\"coloraxis\":{\"colorbar\":{\"outlinewidth\":0,\"ticks\":\"\"}},\"colorscale\":{\"sequential\":[[0.0,\"#0d0887\"],[0.1111111111111111,\"#46039f\"],[0.2222222222222222,\"#7201a8\"],[0.3333333333333333,\"#9c179e\"],[0.4444444444444444,\"#bd3786\"],[0.5555555555555556,\"#d8576b\"],[0.6666666666666666,\"#ed7953\"],[0.7777777777777778,\"#fb9f3a\"],[0.8888888888888888,\"#fdca26\"],[1.0,\"#f0f921\"]],\"sequentialminus\":[[0.0,\"#0d0887\"],[0.1111111111111111,\"#46039f\"],[0.2222222222222222,\"#7201a8\"],[0.3333333333333333,\"#9c179e\"],[0.4444444444444444,\"#bd3786\"],[0.5555555555555556,\"#d8576b\"],[0.6666666666666666,\"#ed7953\"],[0.7777777777777778,\"#fb9f3a\"],[0.8888888888888888,\"#fdca26\"],[1.0,\"#f0f921\"]],\"diverging\":[[0,\"#8e0152\"],[0.1,\"#c51b7d\"],[0.2,\"#de77ae\"],[0.3,\"#f1b6da\"],[0.4,\"#fde0ef\"],[0.5,\"#f7f7f7\"],[0.6,\"#e6f5d0\"],[0.7,\"#b8e186\"],[0.8,\"#7fbc41\"],[0.9,\"#4d9221\"],[1,\"#276419\"]]},\"xaxis\":{\"gridcolor\":\"white\",\"linecolor\":\"white\",\"ticks\":\"\",\"title\":{\"standoff\":15},\"zerolinecolor\":\"white\",\"automargin\":true,\"zerolinewidth\":2},\"yaxis\":{\"gridcolor\":\"white\",\"linecolor\":\"white\",\"ticks\":\"\",\"title\":{\"standoff\":15},\"zerolinecolor\":\"white\",\"automargin\":true,\"zerolinewidth\":2},\"scene\":{\"xaxis\":{\"backgroundcolor\":\"#E5ECF6\",\"gridcolor\":\"white\",\"linecolor\":\"white\",\"showbackground\":true,\"ticks\":\"\",\"zerolinecolor\":\"white\",\"gridwidth\":2},\"yaxis\":{\"backgroundcolor\":\"#E5ECF6\",\"gridcolor\":\"white\",\"linecolor\":\"white\",\"showbackground\":true,\"ticks\":\"\",\"zerolinecolor\":\"white\",\"gridwidth\":2},\"zaxis\":{\"backgroundcolor\":\"#E5ECF6\",\"gridcolor\":\"white\",\"linecolor\":\"white\",\"showbackground\":true,\"ticks\":\"\",\"zerolinecolor\":\"white\",\"gridwidth\":2}},\"shapedefaults\":{\"line\":{\"color\":\"#2a3f5f\"}},\"annotationdefaults\":{\"arrowcolor\":\"#2a3f5f\",\"arrowhead\":0,\"arrowwidth\":1},\"geo\":{\"bgcolor\":\"white\",\"landcolor\":\"#E5ECF6\",\"subunitcolor\":\"white\",\"showland\":true,\"showlakes\":true,\"lakecolor\":\"white\"},\"title\":{\"x\":0.05},\"mapbox\":{\"style\":\"light\"}}},\"xaxis\":{\"range\":[-45.0,225.0],\"showline\":true,\"linewidth\":4,\"linecolor\":\"Gray\",\"showgrid\":false,\"gridwidth\":2,\"gridcolor\":\"LightGrey\"},\"yaxis\":{\"range\":[-3383.0456527394626,16915.228263697314],\"showline\":true,\"linewidth\":4,\"linecolor\":\"Gray\",\"showgrid\":false,\"gridwidth\":2,\"gridcolor\":\"LightGrey\"},\"plot_bgcolor\":\"rgba(0,0,0,0)\",\"font\":{\"size\":32}},                        {\"responsive\": true}                    ).then(function(){\n",
       "                            \n",
       "var gd = document.getElementById('079683fb-0262-400f-bc27-78ea7eb666b9');\n",
       "var x = new MutationObserver(function (mutations, observer) {{\n",
       "        var display = window.getComputedStyle(gd).display;\n",
       "        if (!display || display === 'none') {{\n",
       "            console.log([gd, 'removed!']);\n",
       "            Plotly.purge(gd);\n",
       "            observer.disconnect();\n",
       "        }}\n",
       "}});\n",
       "\n",
       "// Listen for the removal of the full notebook cells\n",
       "var notebookContainer = gd.closest('#notebook-container');\n",
       "if (notebookContainer) {{\n",
       "    x.observe(notebookContainer, {childList: true});\n",
       "}}\n",
       "\n",
       "// Listen for the clearing of the current output cell\n",
       "var outputEl = gd.closest('.output');\n",
       "if (outputEl) {{\n",
       "    x.observe(outputEl, {childList: true});\n",
       "}}\n",
       "\n",
       "                        })                };                });            </script>        </div>"
      ]
     },
     "metadata": {},
     "output_type": "display_data"
    }
   ],
   "source": [
    "fig = plot_variable(go.Figure(), traces, 'Qgut', 'verify')"
   ]
  },
  {
   "cell_type": "code",
   "execution_count": 22,
   "metadata": {},
   "outputs": [],
   "source": [
    "import pickle\n",
    "f = open('./simulate_fig.pkl', 'rb')\n",
    "fig = pickle.load(f)\n",
    "fig.update_layout(yaxis_range=[80, 220])\n",
    "fig.write_image('simulate_hi_res.png', scale=3)"
   ]
  },
  {
   "cell_type": "code",
   "execution_count": 17,
   "metadata": {},
   "outputs": [],
   "source": [
    "f = open('simulate_fig.pkl', 'rb')\n",
    "fig = pickle.load(f)\n",
    "fig.update_layout(yaxis_range=[80, 220])\n",
    "fig.write_image('simulate_new.png')"
   ]
  }
 ],
 "metadata": {
  "language_info": {
   "name": "python"
  }
 },
 "nbformat": 4,
 "nbformat_minor": 2
}
